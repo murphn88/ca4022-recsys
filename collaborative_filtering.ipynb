{
 "cells": [
  {
   "cell_type": "code",
   "execution_count": 1,
   "id": "48af88cd",
   "metadata": {},
   "outputs": [],
   "source": [
    "import pandas as pd\n",
    "import numpy as np\n",
    "\n",
    "# ! pip install pyspark\n",
    "from pyspark.ml.evaluation import RegressionEvaluator, MulticlassClassificationEvaluator\n",
    "from pyspark.ml.recommendation import ALS\n",
    "from pyspark.sql import Row\n",
    "from pyspark.sql.functions import explode, col, round, abs\n",
    "from pyspark.ml.tuning import ParamGridBuilder, CrossValidator, TrainValidationSplit\n",
    "from pyspark.sql import SparkSession\n"
   ]
  },
  {
   "cell_type": "code",
   "execution_count": 2,
   "id": "eab3db79",
   "metadata": {},
   "outputs": [
    {
     "name": "stderr",
     "output_type": "stream",
     "text": [
      "21/12/10 12:48:51 WARN Utils: Your hostname, cliodhna-Lenovo-ideapad-530S-14IKB resolves to a loopback address: 127.0.1.1; using 192.168.0.37 instead (on interface wlp1s0)\n",
      "21/12/10 12:48:51 WARN Utils: Set SPARK_LOCAL_IP if you need to bind to another address\n",
      "Using Spark's default log4j profile: org/apache/spark/log4j-defaults.properties\n",
      "Setting default log level to \"WARN\".\n",
      "To adjust logging level use sc.setLogLevel(newLevel). For SparkR, use setLogLevel(newLevel).\n",
      "21/12/10 12:48:51 WARN NativeCodeLoader: Unable to load native-hadoop library for your platform... using builtin-java classes where applicable\n"
     ]
    }
   ],
   "source": [
    "spark = SparkSession \\\n",
    "    .builder \\\n",
    "    .appName(\"Book Rec System\") \\\n",
    "    .getOrCreate()"
   ]
  },
  {
   "cell_type": "markdown",
   "id": "f1a8c31a",
   "metadata": {},
   "source": [
    "# Reading Datasets"
   ]
  },
  {
   "cell_type": "code",
   "execution_count": 3,
   "id": "60cde015",
   "metadata": {},
   "outputs": [
    {
     "name": "stderr",
     "output_type": "stream",
     "text": [
      "                                                                                \r"
     ]
    }
   ],
   "source": [
    "interactions = spark.read.format(\"csv\").option(\"header\",\"true\").load(\"data/interactions.csv\")"
   ]
  },
  {
   "cell_type": "code",
   "execution_count": 4,
   "id": "619ac0ba",
   "metadata": {},
   "outputs": [],
   "source": [
    "interactions = interactions.withColumn(\"user_id\",interactions[\"user_id\"].cast(\"int\"))\n",
    "interactions = interactions.withColumn(\"rating\",interactions[\"rating\"].cast(\"int\"))\n",
    "interactions = interactions.withColumn(\"book_id\",interactions[\"book_id\"].cast(\"int\"))\n",
    "# interactions = interactions.dropDuplicates([\"book_id\"])"
   ]
  },
  {
   "cell_type": "code",
   "execution_count": 5,
   "id": "3bd0cacc",
   "metadata": {},
   "outputs": [
    {
     "name": "stdout",
     "output_type": "stream",
     "text": [
      "root\n",
      " |-- user_id: integer (nullable = true)\n",
      " |-- book_id: integer (nullable = true)\n",
      " |-- is_read: string (nullable = true)\n",
      " |-- rating: integer (nullable = true)\n",
      " |-- is_reviewed: string (nullable = true)\n",
      " |-- user_count: string (nullable = true)\n",
      "\n"
     ]
    }
   ],
   "source": [
    "interactions.printSchema()"
   ]
  },
  {
   "cell_type": "code",
   "execution_count": 6,
   "id": "97f0b8b2",
   "metadata": {},
   "outputs": [
    {
     "name": "stdout",
     "output_type": "stream",
     "text": [
      "+-------+-------+-------+------+-----------+----------+\n",
      "|user_id|book_id|is_read|rating|is_reviewed|user_count|\n",
      "+-------+-------+-------+------+-----------+----------+\n",
      "|      0|    915|      1|     5|        1.0|        15|\n",
      "|      0|    873|      1|     4|        0.0|        15|\n",
      "|      0|    871|      1|     2|        0.0|        15|\n",
      "|      0|    870|      1|     3|        0.0|        15|\n",
      "|      0|    824|      1|     5|        1.0|        15|\n",
      "+-------+-------+-------+------+-----------+----------+\n",
      "only showing top 5 rows\n",
      "\n"
     ]
    }
   ],
   "source": [
    "interactions.show(n=5)"
   ]
  },
  {
   "cell_type": "code",
   "execution_count": 35,
   "id": "d645818f",
   "metadata": {},
   "outputs": [],
   "source": [
    "books = spark.read.csv(\"data/books.csv\", sep='|', header=True)"
   ]
  },
  {
   "cell_type": "code",
   "execution_count": 37,
   "id": "4c39f35b",
   "metadata": {},
   "outputs": [
    {
     "name": "stdout",
     "output_type": "stream",
     "text": [
      "+-----------------------------------------------------------------------------------------------------------------------------------------------------------------------------------------------------------------------------------------------------------------------------------------------------------------------------------------------+\n",
      "|isbn,text_reviews_count,series,country_code,language_code,popular_shelves,asin,is_ebook,average_rating,kindle_asin,similar_books,description,format,link,authors,publisher,num_pages,publication_day,isbn13,publication_month,edition_information,publication_year,url,image_url,book_id,ratings_count,work_id,title,title_without_series,genre|\n",
      "+-----------------------------------------------------------------------------------------------------------------------------------------------------------------------------------------------------------------------------------------------------------------------------------------------------------------------------------------------+\n",
      "|                                                                                                                                                                                                                                                                                                                           0590417010,193,[]...|\n",
      "|                                                                                                                                                                                                                                                                                                                           0698114272,65,[],...|\n",
      "|                                                                                                                                                                                                                                                                                                                           It's the worst wh...|\n",
      "|                                                                                                                                                                                                                                                                                                                           Uh-oh, I think I ...|\n",
      "|                                                                                                                                                                                                                                                                                                                           \"\"The colorful ca...|\n",
      "+-----------------------------------------------------------------------------------------------------------------------------------------------------------------------------------------------------------------------------------------------------------------------------------------------------------------------------------------------+\n",
      "only showing top 5 rows\n",
      "\n"
     ]
    },
    {
     "ename": "AnalysisException",
     "evalue": "cannot resolve 'book_id' given input columns: [isbn,text_reviews_count,series,country_code,language_code,popular_shelves,asin,is_ebook,average_rating,kindle_asin,similar_books,description,format,link,authors,publisher,num_pages,publication_day,isbn13,publication_month,edition_information,publication_year,url,image_url,book_id,ratings_count,work_id,title,title_without_series,genre];\n'Project ['book_id, 'title, 'genre, 'authors, 'publisher, 'average_rating, 'publication_year, 'popular_shelves, 'similar_books, 'ratings_count]\n+- Relation [isbn,text_reviews_count,series,country_code,language_code,popular_shelves,asin,is_ebook,average_rating,kindle_asin,similar_books,description,format,link,authors,publisher,num_pages,publication_day,isbn13,publication_month,edition_information,publication_year,url,image_url,book_id,ratings_count,work_id,title,title_without_series,genre#2826] csv\n",
     "output_type": "error",
     "traceback": [
      "\u001b[0;31m---------------------------------------------------------------------------\u001b[0m",
      "\u001b[0;31mAnalysisException\u001b[0m                         Traceback (most recent call last)",
      "\u001b[0;32m/tmp/ipykernel_2033708/2097978684.py\u001b[0m in \u001b[0;36m<module>\u001b[0;34m\u001b[0m\n\u001b[1;32m      4\u001b[0m \u001b[0mbooks\u001b[0m \u001b[0;34m=\u001b[0m \u001b[0mbooks\u001b[0m\u001b[0;34m.\u001b[0m\u001b[0mdrop\u001b[0m\u001b[0;34m(\u001b[0m\u001b[0;34m*\u001b[0m\u001b[0mcols\u001b[0m\u001b[0;34m)\u001b[0m\u001b[0;34m\u001b[0m\u001b[0;34m\u001b[0m\u001b[0m\n\u001b[1;32m      5\u001b[0m \u001b[0mbooks\u001b[0m\u001b[0;34m.\u001b[0m\u001b[0mshow\u001b[0m\u001b[0;34m(\u001b[0m\u001b[0;36m5\u001b[0m\u001b[0;34m)\u001b[0m\u001b[0;34m\u001b[0m\u001b[0;34m\u001b[0m\u001b[0m\n\u001b[0;32m----> 6\u001b[0;31m \u001b[0mbooks\u001b[0m \u001b[0;34m=\u001b[0m \u001b[0mbooks\u001b[0m\u001b[0;34m.\u001b[0m\u001b[0mselect\u001b[0m\u001b[0;34m(\u001b[0m\u001b[0;34m\"book_id\"\u001b[0m\u001b[0;34m,\u001b[0m\u001b[0;34m\"title\"\u001b[0m\u001b[0;34m,\u001b[0m\u001b[0;34m\"genre\"\u001b[0m\u001b[0;34m,\u001b[0m\u001b[0;34m\"authors\"\u001b[0m\u001b[0;34m,\u001b[0m\u001b[0;34m\"publisher\"\u001b[0m\u001b[0;34m,\u001b[0m \u001b[0;34m\"average_rating\"\u001b[0m\u001b[0;34m,\u001b[0m \u001b[0;34m\"publication_year\"\u001b[0m\u001b[0;34m,\u001b[0m \u001b[0;34m\"popular_shelves\"\u001b[0m\u001b[0;34m,\u001b[0m \u001b[0;34m\"similar_books\"\u001b[0m\u001b[0;34m,\u001b[0m \u001b[0;34m\"ratings_count\"\u001b[0m\u001b[0;34m)\u001b[0m\u001b[0;34m\u001b[0m\u001b[0;34m\u001b[0m\u001b[0m\n\u001b[0m\u001b[1;32m      7\u001b[0m \u001b[0mbooks\u001b[0m \u001b[0;34m=\u001b[0m \u001b[0mbooks\u001b[0m\u001b[0;34m.\u001b[0m\u001b[0mdropDuplicates\u001b[0m\u001b[0;34m(\u001b[0m\u001b[0;34m[\u001b[0m\u001b[0;34m\"book_id\"\u001b[0m\u001b[0;34m]\u001b[0m\u001b[0;34m)\u001b[0m\u001b[0;34m\u001b[0m\u001b[0;34m\u001b[0m\u001b[0m\n",
      "\u001b[0;32m~/miniconda3/envs/JupyterBook/lib/python3.7/site-packages/pyspark/sql/dataframe.py\u001b[0m in \u001b[0;36mselect\u001b[0;34m(self, *cols)\u001b[0m\n\u001b[1;32m   1683\u001b[0m         \u001b[0;34m[\u001b[0m\u001b[0mRow\u001b[0m\u001b[0;34m(\u001b[0m\u001b[0mname\u001b[0m\u001b[0;34m=\u001b[0m\u001b[0;34m'Alice'\u001b[0m\u001b[0;34m,\u001b[0m \u001b[0mage\u001b[0m\u001b[0;34m=\u001b[0m\u001b[0;36m12\u001b[0m\u001b[0;34m)\u001b[0m\u001b[0;34m,\u001b[0m \u001b[0mRow\u001b[0m\u001b[0;34m(\u001b[0m\u001b[0mname\u001b[0m\u001b[0;34m=\u001b[0m\u001b[0;34m'Bob'\u001b[0m\u001b[0;34m,\u001b[0m \u001b[0mage\u001b[0m\u001b[0;34m=\u001b[0m\u001b[0;36m15\u001b[0m\u001b[0;34m)\u001b[0m\u001b[0;34m]\u001b[0m\u001b[0;34m\u001b[0m\u001b[0;34m\u001b[0m\u001b[0m\n\u001b[1;32m   1684\u001b[0m         \"\"\"\n\u001b[0;32m-> 1685\u001b[0;31m         \u001b[0mjdf\u001b[0m \u001b[0;34m=\u001b[0m \u001b[0mself\u001b[0m\u001b[0;34m.\u001b[0m\u001b[0m_jdf\u001b[0m\u001b[0;34m.\u001b[0m\u001b[0mselect\u001b[0m\u001b[0;34m(\u001b[0m\u001b[0mself\u001b[0m\u001b[0;34m.\u001b[0m\u001b[0m_jcols\u001b[0m\u001b[0;34m(\u001b[0m\u001b[0;34m*\u001b[0m\u001b[0mcols\u001b[0m\u001b[0;34m)\u001b[0m\u001b[0;34m)\u001b[0m\u001b[0;34m\u001b[0m\u001b[0;34m\u001b[0m\u001b[0m\n\u001b[0m\u001b[1;32m   1686\u001b[0m         \u001b[0;32mreturn\u001b[0m \u001b[0mDataFrame\u001b[0m\u001b[0;34m(\u001b[0m\u001b[0mjdf\u001b[0m\u001b[0;34m,\u001b[0m \u001b[0mself\u001b[0m\u001b[0;34m.\u001b[0m\u001b[0msql_ctx\u001b[0m\u001b[0;34m)\u001b[0m\u001b[0;34m\u001b[0m\u001b[0;34m\u001b[0m\u001b[0m\n\u001b[1;32m   1687\u001b[0m \u001b[0;34m\u001b[0m\u001b[0m\n",
      "\u001b[0;32m~/miniconda3/envs/JupyterBook/lib/python3.7/site-packages/py4j/java_gateway.py\u001b[0m in \u001b[0;36m__call__\u001b[0;34m(self, *args)\u001b[0m\n\u001b[1;32m   1308\u001b[0m         \u001b[0manswer\u001b[0m \u001b[0;34m=\u001b[0m \u001b[0mself\u001b[0m\u001b[0;34m.\u001b[0m\u001b[0mgateway_client\u001b[0m\u001b[0;34m.\u001b[0m\u001b[0msend_command\u001b[0m\u001b[0;34m(\u001b[0m\u001b[0mcommand\u001b[0m\u001b[0;34m)\u001b[0m\u001b[0;34m\u001b[0m\u001b[0;34m\u001b[0m\u001b[0m\n\u001b[1;32m   1309\u001b[0m         return_value = get_return_value(\n\u001b[0;32m-> 1310\u001b[0;31m             answer, self.gateway_client, self.target_id, self.name)\n\u001b[0m\u001b[1;32m   1311\u001b[0m \u001b[0;34m\u001b[0m\u001b[0m\n\u001b[1;32m   1312\u001b[0m         \u001b[0;32mfor\u001b[0m \u001b[0mtemp_arg\u001b[0m \u001b[0;32min\u001b[0m \u001b[0mtemp_args\u001b[0m\u001b[0;34m:\u001b[0m\u001b[0;34m\u001b[0m\u001b[0;34m\u001b[0m\u001b[0m\n",
      "\u001b[0;32m~/miniconda3/envs/JupyterBook/lib/python3.7/site-packages/pyspark/sql/utils.py\u001b[0m in \u001b[0;36mdeco\u001b[0;34m(*a, **kw)\u001b[0m\n\u001b[1;32m    115\u001b[0m                 \u001b[0;31m# Hide where the exception came from that shows a non-Pythonic\u001b[0m\u001b[0;34m\u001b[0m\u001b[0;34m\u001b[0m\u001b[0;34m\u001b[0m\u001b[0m\n\u001b[1;32m    116\u001b[0m                 \u001b[0;31m# JVM exception message.\u001b[0m\u001b[0;34m\u001b[0m\u001b[0;34m\u001b[0m\u001b[0;34m\u001b[0m\u001b[0m\n\u001b[0;32m--> 117\u001b[0;31m                 \u001b[0;32mraise\u001b[0m \u001b[0mconverted\u001b[0m \u001b[0;32mfrom\u001b[0m \u001b[0;32mNone\u001b[0m\u001b[0;34m\u001b[0m\u001b[0;34m\u001b[0m\u001b[0m\n\u001b[0m\u001b[1;32m    118\u001b[0m             \u001b[0;32melse\u001b[0m\u001b[0;34m:\u001b[0m\u001b[0;34m\u001b[0m\u001b[0;34m\u001b[0m\u001b[0m\n\u001b[1;32m    119\u001b[0m                 \u001b[0;32mraise\u001b[0m\u001b[0;34m\u001b[0m\u001b[0;34m\u001b[0m\u001b[0m\n",
      "\u001b[0;31mAnalysisException\u001b[0m: cannot resolve 'book_id' given input columns: [isbn,text_reviews_count,series,country_code,language_code,popular_shelves,asin,is_ebook,average_rating,kindle_asin,similar_books,description,format,link,authors,publisher,num_pages,publication_day,isbn13,publication_month,edition_information,publication_year,url,image_url,book_id,ratings_count,work_id,title,title_without_series,genre];\n'Project ['book_id, 'title, 'genre, 'authors, 'publisher, 'average_rating, 'publication_year, 'popular_shelves, 'similar_books, 'ratings_count]\n+- Relation [isbn,text_reviews_count,series,country_code,language_code,popular_shelves,asin,is_ebook,average_rating,kindle_asin,similar_books,description,format,link,authors,publisher,num_pages,publication_day,isbn13,publication_month,edition_information,publication_year,url,image_url,book_id,ratings_count,work_id,title,title_without_series,genre#2826] csv\n"
     ]
    }
   ],
   "source": [
    "cols = (\"isbn\",\"is_ebook\",\"kindle_asin\", \"country_code\", \"language_code\", \"asin\",\"description\", \"format\", \"link\", \"publication_day\", \"isbn13\",\n",
    "        \"publication_month\", \"edition_information\", \"url\", \"image_url\", \"work_id\", \"text_reviews_count\", \"title_without_series\")\n",
    "\n",
    "books = books.drop(*cols)\n",
    "books.show(5)\n",
    "books = books.select(\"book_id\",\"title\",\"genre\",\"authors\",\"publisher\", \"average_rating\", \"publication_year\", \"popular_shelves\", \"similar_books\", \"ratings_count\")\n",
    "books = books.dropDuplicates([\"book_id\"])"
   ]
  },
  {
   "cell_type": "code",
   "execution_count": 32,
   "id": "c00ff45c",
   "metadata": {},
   "outputs": [
    {
     "name": "stdout",
     "output_type": "stream",
     "text": [
      "+--------------------+--------------------+--------------------+--------------------+--------------------+--------------+--------------------+--------------------+--------------------+--------------------+\n",
      "|             book_id|               title|               genre|             authors|           publisher|average_rating|    publication_year|     popular_shelves|       similar_books|       ratings_count|\n",
      "+--------------------+--------------------+--------------------+--------------------+--------------------+--------------+--------------------+--------------------+--------------------+--------------------+\n",
      "| \"\" but his image...|[{'author_id': '1...|               784.0|   wild anachronisms| hallucinatory ha...|          4.12|              photos|[{'count': '522',...|['855422', '84351...|           Paperback|\n",
      "|        Edwin Torres|                null|                null|          Bob Holman| Christian X. Hunter|    Kathy Ebel|        Hal Sirowitz|          Todd Colby|      Janice Erlbaum|           Emily XYZ|\n",
      "|            U Tam'si|             Waldman|    the Vienna Group|            Rukeyser|               Jabes|          4.46|            Ginsberg|[{'count': '107',...|['459', '418201',...|              Baraka|\n",
      "| and \"\"stories in...| the strands of t...|https://www.goodr...| giving drink to ...| food to the fami...|           3.8| but also his own...|[{'count': '311',...|['1331638', '7158...| including his un...|\n",
      "+--------------------+--------------------+--------------------+--------------------+--------------------+--------------+--------------------+--------------------+--------------------+--------------------+\n",
      "only showing top 4 rows\n",
      "\n"
     ]
    }
   ],
   "source": [
    "books.show(4)"
   ]
  },
  {
   "cell_type": "markdown",
   "id": "b885a2ff",
   "metadata": {},
   "source": [
    "# Training ALS with Cross Validation"
   ]
  },
  {
   "cell_type": "code",
   "execution_count": 10,
   "id": "e03d3459",
   "metadata": {},
   "outputs": [
    {
     "name": "stderr",
     "output_type": "stream",
     "text": [
      "                                                                                \r"
     ]
    }
   ],
   "source": [
    "(training, test) = interactions.randomSplit([0.8, 0.2])\n",
    "\n",
    "# Build the recommendation model using ALS on the training data\n",
    "# Note we set cold start strategy to 'drop' to ensure we don't get NaN evaluation metrics\n",
    "als = ALS(maxIter=5, regParam=0.01, userCol=\"user_id\", itemCol=\"book_id\", ratingCol=\"rating\",\n",
    "          coldStartStrategy=\"drop\", nonnegative = True, implicitPrefs = False)\n",
    "model = als.fit(training)"
   ]
  },
  {
   "cell_type": "code",
   "execution_count": 11,
   "id": "5218b98e",
   "metadata": {},
   "outputs": [
    {
     "name": "stdout",
     "output_type": "stream",
     "text": [
      "Num models to be tested using param_grid:  64\n"
     ]
    }
   ],
   "source": [
    "param_grid = ParamGridBuilder() \\\n",
    " .addGrid(als.rank, [10, 50, 75, 100]) \\\n",
    " .addGrid(als.maxIter, [5, 50, 75, 100]) \\\n",
    " .addGrid(als.regParam, [.01, .05, .1, .15]) \\\n",
    " .build()\n",
    "\n",
    "evaluator = RegressionEvaluator(metricName = \"rmse\", \n",
    " labelCol = \"rating\", \n",
    " predictionCol = \"prediction\")\n",
    "\n",
    "print (\"Num models to be tested using param_grid: \", len(param_grid))"
   ]
  },
  {
   "cell_type": "code",
   "execution_count": 12,
   "id": "c81332bd",
   "metadata": {},
   "outputs": [
    {
     "name": "stderr",
     "output_type": "stream",
     "text": [
      "\r",
      "[Stage 74:>                                                         (0 + 1) / 1]\r",
      "\r",
      "                                                                                \r"
     ]
    },
    {
     "name": "stdout",
     "output_type": "stream",
     "text": [
      "+-------+-------+-------+------+-----------+----------+----------+\n",
      "|user_id|book_id|is_read|rating|is_reviewed|user_count|prediction|\n",
      "+-------+-------+-------+------+-----------+----------+----------+\n",
      "|    471|  14707|      1|     4|        0.0|        19| 7.1284957|\n",
      "|    471|  24052|      1|     4|        0.0|        19| 5.3965516|\n",
      "|    471| 104078|      1|     3|        0.0|        19| 0.8928766|\n",
      "|    471| 104090|      1|     3|        1.0|        19| 1.0758405|\n",
      "|    496|   1372|      1|     5|        1.0|        11| 3.6432853|\n",
      "|    496|   7992|      1|     2|        0.0|        11| 2.0183487|\n",
      "|    496|  60220|      1|     4|        0.0|        11|  3.104753|\n",
      "|    833|   1434|      1|     1|        0.0|         7| 3.8748412|\n",
      "|    833|  60834|      1|     4|        0.0|         7| 4.3166313|\n",
      "|   1238|   6572|      1|     5|        1.0|        26|  5.245753|\n",
      "+-------+-------+-------+------+-----------+----------+----------+\n",
      "only showing top 10 rows\n",
      "\n"
     ]
    }
   ],
   "source": [
    "cv = CrossValidator(estimator = als, \n",
    " estimatorParamMaps = param_grid, \n",
    " evaluator = evaluator, \n",
    " numFolds = 5)\n",
    "\n",
    "model = als.fit(training)\n",
    "predictions = model.transform(test)\n",
    "\n",
    "predictions.show(n = 10)"
   ]
  },
  {
   "cell_type": "code",
   "execution_count": 13,
   "id": "822c7707",
   "metadata": {},
   "outputs": [
    {
     "name": "stderr",
     "output_type": "stream",
     "text": [
      "[Stage 143:>                                                        (0 + 1) / 1]\r"
     ]
    },
    {
     "name": "stdout",
     "output_type": "stream",
     "text": [
      "Root-mean-square error = 1.605278890678653\n"
     ]
    },
    {
     "name": "stderr",
     "output_type": "stream",
     "text": [
      "\r",
      "                                                                                \r"
     ]
    }
   ],
   "source": [
    "rmse = evaluator.evaluate(predictions)\n",
    "print(\"Root-mean-square error = \" + str(rmse))"
   ]
  },
  {
   "cell_type": "code",
   "execution_count": 14,
   "id": "1d01ec72",
   "metadata": {},
   "outputs": [
    {
     "name": "stderr",
     "output_type": "stream",
     "text": [
      "                                                                                \r"
     ]
    },
    {
     "data": {
      "text/plain": [
       "0.0"
      ]
     },
     "execution_count": 14,
     "metadata": {},
     "output_type": "execute_result"
    }
   ],
   "source": [
    "predictions = predictions.withColumn(\"prediction\",predictions[\"prediction\"].cast(\"double\"))\n",
    "\n",
    "eval_accuracy = MulticlassClassificationEvaluator(labelCol=\"rating\", predictionCol=\"prediction\", metricName=\"accuracy\")\n",
    "eval_precision = MulticlassClassificationEvaluator(labelCol=\"rating\", predictionCol=\"prediction\", metricName=\"precisionByLabel\")\n",
    "eval_recall = MulticlassClassificationEvaluator(labelCol=\"rating\", predictionCol=\"prediction\", metricName=\"recallByLabel\")\n",
    "eval_f1 = MulticlassClassificationEvaluator(labelCol=\"rating\", predictionCol=\"prediction\", metricName=\"f1\")\n",
    "\n",
    "accuracy = eval_accuracy.evaluate(predictions)\n",
    "# precision = eval_precision.evaluate(predictions)\n",
    "# recall = eval_recall.evaluate(predictions)\n",
    "# f1score = eval_f1.evaluate(predictions)\n",
    "accuracy"
   ]
  },
  {
   "cell_type": "markdown",
   "id": "cec74fc5",
   "metadata": {},
   "source": [
    "# Rounding Predictions"
   ]
  },
  {
   "cell_type": "code",
   "execution_count": 15,
   "id": "75913255",
   "metadata": {},
   "outputs": [],
   "source": [
    "predictions = predictions.withColumn(\"rounded_prediction\", round(col(\"prediction\"), 0))\n",
    "predictions = predictions.withColumn(\"rounded_prediction\",predictions[\"rounded_prediction\"].cast(\"int\"))\n"
   ]
  },
  {
   "cell_type": "code",
   "execution_count": 16,
   "id": "8c389536",
   "metadata": {},
   "outputs": [
    {
     "name": "stdout",
     "output_type": "stream",
     "text": [
      "+-------+-------+-------+------+-----------+----------+----------+\n",
      "|user_id|book_id|is_read|rating|is_reviewed|user_count|prediction|\n",
      "+-------+-------+-------+------+-----------+----------+----------+\n",
      "|    471|  14707|      1|     4|        0.0|        19|         7|\n",
      "|    471|  24052|      1|     4|        0.0|        19|         5|\n",
      "|    471| 104078|      1|     3|        0.0|        19|         1|\n",
      "|    471| 104090|      1|     3|        1.0|        19|         1|\n",
      "|    496|   1372|      1|     5|        1.0|        11|         4|\n",
      "|    496|   7992|      1|     2|        0.0|        11|         2|\n",
      "|    496|  60220|      1|     4|        0.0|        11|         3|\n",
      "|    833|   1434|      1|     1|        0.0|         7|         4|\n",
      "|    833|  60834|      1|     4|        0.0|         7|         4|\n",
      "|   1238|   6572|      1|     5|        1.0|        26|         5|\n",
      "+-------+-------+-------+------+-----------+----------+----------+\n",
      "only showing top 10 rows\n",
      "\n"
     ]
    }
   ],
   "source": [
    "new_pred = predictions.drop(col(\"prediction\"))\n",
    "new_pred = new_pred.withColumnRenamed(\"rounded_prediction\", \"prediction\")\n",
    "new_pred.show(n=10)"
   ]
  },
  {
   "cell_type": "code",
   "execution_count": 17,
   "id": "59efc2a3",
   "metadata": {},
   "outputs": [
    {
     "data": {
      "text/plain": [
       "0.3016881163296005"
      ]
     },
     "execution_count": 17,
     "metadata": {},
     "output_type": "execute_result"
    }
   ],
   "source": [
    "new_pred = new_pred.withColumn(\"prediction\",new_pred[\"prediction\"].cast(\"double\"))\n",
    "\n",
    "eval_accuracy = MulticlassClassificationEvaluator(labelCol=\"rating\", predictionCol=\"prediction\", metricName=\"accuracy\")\n",
    "eval_precision = MulticlassClassificationEvaluator(labelCol=\"rating\", predictionCol=\"prediction\", metricName=\"precisionByLabel\")\n",
    "eval_recall = MulticlassClassificationEvaluator(labelCol=\"rating\", predictionCol=\"prediction\", metricName=\"recallByLabel\")\n",
    "eval_f1 = MulticlassClassificationEvaluator(labelCol=\"rating\", predictionCol=\"prediction\", metricName=\"f1\")\n",
    "\n",
    "accuracy = eval_accuracy.evaluate(new_pred)\n",
    "# precision = eval_precision.evaluate(new_pred)\n",
    "# recall = eval_recall.evaluate(new_pred)\n",
    "# f1score = eval_f1.evaluate(new_pred)\n",
    "accuracy"
   ]
  },
  {
   "cell_type": "markdown",
   "id": "64565151",
   "metadata": {},
   "source": [
    "# Recommendations"
   ]
  },
  {
   "cell_type": "code",
   "execution_count": 18,
   "id": "aefc2169",
   "metadata": {},
   "outputs": [
    {
     "name": "stderr",
     "output_type": "stream",
     "text": [
      "/home/cliodhna/miniconda3/envs/JupyterBook/lib/python3.7/site-packages/pyspark/sql/context.py:127: FutureWarning: Deprecated in 3.0.0. Use SparkSession.builder.getOrCreate() instead.\n",
      "  FutureWarning\n"
     ]
    }
   ],
   "source": [
    "userRecs = model.recommendForAllUsers(10)\n",
    "bookRecs = model.recommendForAllItems(5)"
   ]
  },
  {
   "cell_type": "code",
   "execution_count": 19,
   "id": "746eb5c2",
   "metadata": {},
   "outputs": [
    {
     "name": "stderr",
     "output_type": "stream",
     "text": [
      "[Stage 252:====================================================> (97 + 3) / 100]\r"
     ]
    },
    {
     "name": "stdout",
     "output_type": "stream",
     "text": [
      "+-------+--------------------------------------------------------------------------------------------------+\n",
      "|book_id|recommendations                                                                                   |\n",
      "+-------+--------------------------------------------------------------------------------------------------+\n",
      "|236    |[{7115, 7.9971437}, {137, 7.3445115}, {16429, 6.667948}, {341, 6.522622}, {128, 6.5151815}]       |\n",
      "|1068   |[{10344, 7.718821}, {552, 7.561115}, {1813, 7.0963063}, {9178, 7.01012}, {971, 6.8828287}]        |\n",
      "|1226   |[{3132, 7.3775134}, {6814, 6.982759}, {4796, 6.948283}, {1269, 6.5885906}, {15352, 6.291789}]     |\n",
      "|1265   |[{3132, 9.6307}, {4796, 8.80101}, {16863, 8.458717}, {15703, 8.347777}, {10462, 7.99389}]         |\n",
      "|1363   |[{552, 12.575844}, {16863, 11.4340725}, {10683, 11.297866}, {1292, 11.236174}, {16720, 11.196016}]|\n",
      "+-------+--------------------------------------------------------------------------------------------------+\n",
      "only showing top 5 rows\n",
      "\n"
     ]
    },
    {
     "name": "stderr",
     "output_type": "stream",
     "text": [
      "\r",
      "                                                                                \r"
     ]
    }
   ],
   "source": [
    "bookRecs.show(5, False)"
   ]
  },
  {
   "cell_type": "code",
   "execution_count": 20,
   "id": "4289f3e6",
   "metadata": {},
   "outputs": [
    {
     "name": "stderr",
     "output_type": "stream",
     "text": [
      "[Stage 281:================================================>     (90 + 8) / 100]\r"
     ]
    },
    {
     "name": "stdout",
     "output_type": "stream",
     "text": [
      "+-------+---------------------------------------------------------------------------------------------------------------------------------------------------------------------------------------------------------------+\n",
      "|user_id|recommendations                                                                                                                                                                                                |\n",
      "+-------+---------------------------------------------------------------------------------------------------------------------------------------------------------------------------------------------------------------+\n",
      "|26     |[{553387, 14.715152}, {816582, 14.715152}, {816581, 14.715152}, {116511, 14.715152}, {864757, 13.87485}, {864758, 13.87485}, {258334, 13.384239}, {144350, 12.89467}, {377891, 12.761853}, {43488, 12.75015}]  |\n",
      "|28     |[{15245, 7.530599}, {397183, 7.4533806}, {229575, 7.4522176}, {43536, 7.3541775}, {43747, 7.241123}, {116511, 7.131547}, {816582, 7.131547}, {553387, 7.131547}, {816581, 7.131547}, {360150, 7.083827}]       |\n",
      "|31     |[{397182, 17.480865}, {397183, 15.768839}, {43738, 12.667223}, {232035, 12.397536}, {12144, 12.183282}, {490973, 11.892536}, {258334, 11.881894}, {864758, 11.756601}, {864757, 11.756601}, {320845, 11.18874}]|\n",
      "|34     |[{397182, 19.055439}, {397183, 16.872574}, {70953, 15.625191}, {49566, 15.588598}, {272320, 15.021772}, {292046, 14.710904}, {38969, 14.484681}, {43666, 14.34849}, {292386, 13.732887}, {292047, 13.732887}]  |\n",
      "|44     |[{397182, 12.4402485}, {397183, 11.115492}, {49566, 9.024681}, {360150, 8.801603}, {70953, 8.489746}, {70490, 7.9712276}, {72771, 7.771709}, {292046, 7.729995}, {115725, 7.703038}, {272320, 7.550004}]       |\n",
      "+-------+---------------------------------------------------------------------------------------------------------------------------------------------------------------------------------------------------------------+\n",
      "only showing top 5 rows\n",
      "\n"
     ]
    },
    {
     "name": "stderr",
     "output_type": "stream",
     "text": [
      "\r",
      "                                                                                \r"
     ]
    }
   ],
   "source": [
    "userRecs.show(5, False)"
   ]
  },
  {
   "cell_type": "code",
   "execution_count": 21,
   "id": "061e2920",
   "metadata": {},
   "outputs": [],
   "source": [
    "top_users = interactions.groupBy(interactions['user_id']).agg({'rating':\"count\"}).sort(\"count(rating)\", ascending=False).dropna().limit(10)"
   ]
  },
  {
   "cell_type": "code",
   "execution_count": 22,
   "id": "08276139",
   "metadata": {},
   "outputs": [
    {
     "name": "stdout",
     "output_type": "stream",
     "text": [
      "+-------+-------------+\n",
      "|user_id|count(rating)|\n",
      "+-------+-------------+\n",
      "|   9880|          195|\n",
      "|   6678|          150|\n",
      "|  15833|          148|\n",
      "|  18539|          143|\n",
      "|  19445|          132|\n",
      "|   7261|          131|\n",
      "|  14864|          129|\n",
      "|  16279|          118|\n",
      "|  17077|          115|\n",
      "|   9217|          115|\n",
      "+-------+-------------+\n",
      "\n"
     ]
    }
   ],
   "source": [
    "top_users.show()"
   ]
  },
  {
   "cell_type": "code",
   "execution_count": 23,
   "id": "f2f63a32",
   "metadata": {},
   "outputs": [],
   "source": [
    "top_user_list = [row.user_id for row in top_users.select('user_id').collect()]"
   ]
  },
  {
   "cell_type": "code",
   "execution_count": 24,
   "id": "58834435",
   "metadata": {},
   "outputs": [
    {
     "name": "stderr",
     "output_type": "stream",
     "text": [
      "                                                                                \r"
     ]
    },
    {
     "data": {
      "text/plain": [
       "{9880: [397183,\n",
       "  15245,\n",
       "  229575,\n",
       "  816582,\n",
       "  553387,\n",
       "  116511,\n",
       "  816581,\n",
       "  879090,\n",
       "  12625,\n",
       "  43536],\n",
       " 6678: [879090,\n",
       "  45684,\n",
       "  45685,\n",
       "  276459,\n",
       "  347571,\n",
       "  43666,\n",
       "  231962,\n",
       "  483265,\n",
       "  681751,\n",
       "  394660],\n",
       " 15833: [397182,\n",
       "  397183,\n",
       "  43488,\n",
       "  320845,\n",
       "  95232,\n",
       "  864757,\n",
       "  864758,\n",
       "  116511,\n",
       "  553387,\n",
       "  816582],\n",
       " 18539: [397183,\n",
       "  397182,\n",
       "  49566,\n",
       "  15245,\n",
       "  879090,\n",
       "  125232,\n",
       "  232035,\n",
       "  44579,\n",
       "  43666,\n",
       "  28566],\n",
       " 19445: [397183,\n",
       "  397182,\n",
       "  126284,\n",
       "  229575,\n",
       "  43536,\n",
       "  879090,\n",
       "  49566,\n",
       "  88495,\n",
       "  88494,\n",
       "  426786],\n",
       " 7261: [864757,\n",
       "  864758,\n",
       "  397183,\n",
       "  816582,\n",
       "  553387,\n",
       "  816581,\n",
       "  116511,\n",
       "  397182,\n",
       "  43488,\n",
       "  126284],\n",
       " 14864: [397183,\n",
       "  397182,\n",
       "  816582,\n",
       "  816581,\n",
       "  116511,\n",
       "  553387,\n",
       "  232035,\n",
       "  43738,\n",
       "  258334,\n",
       "  377891],\n",
       " 16279: [397183,\n",
       "  377891,\n",
       "  397182,\n",
       "  229575,\n",
       "  144350,\n",
       "  879090,\n",
       "  43536,\n",
       "  816581,\n",
       "  816582,\n",
       "  116511],\n",
       " 17077: [397183,\n",
       "  397182,\n",
       "  864757,\n",
       "  864758,\n",
       "  816582,\n",
       "  116511,\n",
       "  553387,\n",
       "  816581,\n",
       "  258334,\n",
       "  232035],\n",
       " 9217: [397183,\n",
       "  397182,\n",
       "  187792,\n",
       "  879090,\n",
       "  229575,\n",
       "  43536,\n",
       "  49566,\n",
       "  26496,\n",
       "  93746,\n",
       "  377891]}"
      ]
     },
     "execution_count": 24,
     "metadata": {},
     "output_type": "execute_result"
    }
   ],
   "source": [
    "d = {}\n",
    "for user in top_user_list:\n",
    "    rec = userRecs.where(userRecs.user_id == user).select(\"recommendations\").collect()\n",
    "    d[user] = [i.book_id for i in rec[0][\"recommendations\"]]\n",
    "d"
   ]
  },
  {
   "cell_type": "code",
   "execution_count": 25,
   "id": "4cf616e0",
   "metadata": {},
   "outputs": [],
   "source": [
    "rec_1 = books.filter(books[\"book_id\"].isin(d[9880]))"
   ]
  },
  {
   "cell_type": "code",
   "execution_count": 26,
   "id": "d55fc931",
   "metadata": {
    "scrolled": false
   },
   "outputs": [
    {
     "name": "stderr",
     "output_type": "stream",
     "text": [
      "\r",
      "[Stage 593:>                                                        (0 + 8) / 8]\r",
      "\r",
      "                                                                                \r"
     ]
    },
    {
     "name": "stdout",
     "output_type": "stream",
     "text": [
      "+-------+--------------------+-----------------+--------------------+--------------------+--------------+----------------+--------------------+--------------------+-------------+\n",
      "|book_id|               title|            genre|             authors|           publisher|average_rating|publication_year|     popular_shelves|       similar_books|ratings_count|\n",
      "+-------+--------------------+-----------------+--------------------+--------------------+--------------+----------------+--------------------+--------------------+-------------+\n",
      "| 816582|If I Had You (de ...|History/Biography|[{'author_id': '1...|  Berkley Publishing|           4.2|          2000.0|[{'count': '649',...|['50742', '121591...|         1914|\n",
      "| 229575|Hesiod: The Works...|           Poetry|[{'author_id': '1...|University of Mic...|        ironic|          1959.0|             and all|              Hesiod|         1827|\n",
      "|  12625|Propaganda and th...|History/Biography|[{'author_id': '2...|         Pluto Press|          4.06|          2001.0|[{'count': '1115'...|['40015', '438716...|          566|\n",
      "| 397183|Decisions (Sweet ...|      Young Adult|[{'author_id': '2...|        Bantam Books|          3.37|          1988.0|[{'count': '220',...|['1044854', '8504...|          440|\n",
      "|  43536|Wooden: A Lifetim...|History/Biography|[{'author_id': '2...|         McGraw-Hill|          4.45|            null|[{'count': '1434'...|['226226', '67057...|         2621|\n",
      "|  15245|The Return of the...|          Fantasy|[{'author_id': '6...|HarperCollins Pub...|          4.51|          2003.0|[{'count': '12080...|['5739512', '1106...|          241|\n",
      "| 879090|Planetes, Volume ...|           Comics|[{'author_id': '4...|            Tokyopop|          4.12|            null|[{'count': '1729'...|['32277', '623605...|         1967|\n",
      "+-------+--------------------+-----------------+--------------------+--------------------+--------------+----------------+--------------------+--------------------+-------------+\n",
      "\n"
     ]
    }
   ],
   "source": [
    "rec_1.show()"
   ]
  },
  {
   "cell_type": "code",
   "execution_count": 27,
   "id": "22f97d85",
   "metadata": {},
   "outputs": [
    {
     "name": "stdout",
     "output_type": "stream",
     "text": [
      "+-----------------------------------------------------------------------+\n",
      "|title                                                                  |\n",
      "+-----------------------------------------------------------------------+\n",
      "|Propaganda and the Public Mind                                         |\n",
      "|The Return of the King (The Lord of the Rings, #3)                     |\n",
      "|Hesiod: The Works and Days/Theogony/The Shield of Herakles             |\n",
      "|Decisions (Sweet Valley High, #46)                                     |\n",
      "|Wooden: A Lifetime of Observations and Reflections On and Off the Court|\n",
      "|If I Had You (de Piaget, #2; de Piaget/MacLeod, #7)                    |\n",
      "|Planetes, Volume 1 (Planetes, #1)                                      |\n",
      "+-----------------------------------------------------------------------+\n",
      "\n"
     ]
    }
   ],
   "source": [
    "rec_1.select('title').show(truncate=False)"
   ]
  },
  {
   "cell_type": "markdown",
   "id": "5fe26d92",
   "metadata": {},
   "source": [
    "The Postmodern Condition: A Report on Knowledge = Philosophy(French), The Nimrod Flipout: Stories = Short Stories(Jewish/Hebrew), La Tempête = French, The Marx-Engels Reader = Philosophy(Russia), A Pawn for a Queen (Ursula Blanchard, #6) = Historical, My Discovery of America = Nonfiction(Russia)"
   ]
  },
  {
   "cell_type": "code",
   "execution_count": 28,
   "id": "04a9a180",
   "metadata": {},
   "outputs": [
    {
     "name": "stdout",
     "output_type": "stream",
     "text": [
      "+-------+--------------------+-----------------+--------------------+--------------------+--------------+----------------+--------------------+--------------------+-------------+\n",
      "|book_id|               title|            genre|             authors|           publisher|average_rating|publication_year|     popular_shelves|       similar_books|ratings_count|\n",
      "+-------+--------------------+-----------------+--------------------+--------------------+--------------+----------------+--------------------+--------------------+-------------+\n",
      "| 320845|The Practice of P...|           Poetry|[{'author_id': '1...|William Morrow Pa...|          4.01|          1992.0|[{'count': '920',...|['327469', '26612...|          990|\n",
      "| 816582|If I Had You (de ...|History/Biography|[{'author_id': '1...|  Berkley Publishing|           4.2|          2000.0|[{'count': '649',...|['50742', '121591...|         1914|\n",
      "| 864758|Knocked Out by My...|      Young Adult|[{'author_id': '6...|      Harper Collins|          3.97|          2006.0|[{'count': '6704'...|['405838', '51618...|          957|\n",
      "| 864757|'... then he ate ...|      Young Adult|[{'author_id': '6...|                null|          4.09|            null|[{'count': '2007'...|['8013391', '9152...|          282|\n",
      "| 397183|Decisions (Sweet ...|      Young Adult|[{'author_id': '2...|        Bantam Books|          3.37|          1988.0|[{'count': '220',...|['1044854', '8504...|          440|\n",
      "+-------+--------------------+-----------------+--------------------+--------------------+--------------+----------------+--------------------+--------------------+-------------+\n",
      "\n"
     ]
    }
   ],
   "source": [
    "rec_2 = books.filter(books[\"book_id\"].isin(d[15833]))\n",
    "rec_2.show()"
   ]
  },
  {
   "cell_type": "code",
   "execution_count": 29,
   "id": "9d41a45d",
   "metadata": {},
   "outputs": [
    {
     "name": "stdout",
     "output_type": "stream",
     "text": [
      "+------------------------------------------------------------------------------+\n",
      "|title                                                                         |\n",
      "+------------------------------------------------------------------------------+\n",
      "|The Practice of Poetry: Writing Exercises From Poets Who Teach                |\n",
      "|Decisions (Sweet Valley High, #46)                                            |\n",
      "|If I Had You (de Piaget, #2; de Piaget/MacLeod, #7)                           |\n",
      "|'... then he ate my boy entrancers.' (Confessions of Georgia Nicolson, Book 6)|\n",
      "|Knocked Out by My Nunga-Nungas (Confessions of Georgia Nicolson, #3)          |\n",
      "+------------------------------------------------------------------------------+\n",
      "\n"
     ]
    }
   ],
   "source": [
    "rec_2.select('title').show(truncate=False)"
   ]
  },
  {
   "cell_type": "code",
   "execution_count": 30,
   "id": "49f3d6fc",
   "metadata": {},
   "outputs": [],
   "source": [
    "df2 = rec_1.dropDuplicates([\"book_id\"])"
   ]
  },
  {
   "cell_type": "code",
   "execution_count": 31,
   "id": "af04e986",
   "metadata": {},
   "outputs": [
    {
     "name": "stdout",
     "output_type": "stream",
     "text": [
      "+-------+--------------------+-----------------+--------------------+--------------------+--------------+----------------+--------------------+--------------------+-------------+\n",
      "|book_id|               title|            genre|             authors|           publisher|average_rating|publication_year|     popular_shelves|       similar_books|ratings_count|\n",
      "+-------+--------------------+-----------------+--------------------+--------------------+--------------+----------------+--------------------+--------------------+-------------+\n",
      "| 816582|If I Had You (de ...|History/Biography|[{'author_id': '1...|  Berkley Publishing|           4.2|          2000.0|[{'count': '649',...|['50742', '121591...|         1914|\n",
      "| 229575|Hesiod: The Works...|           Poetry|[{'author_id': '1...|University of Mic...|        ironic|          1959.0|             and all|              Hesiod|         1827|\n",
      "|  12625|Propaganda and th...|History/Biography|[{'author_id': '2...|         Pluto Press|          4.06|          2001.0|[{'count': '1115'...|['40015', '438716...|          566|\n",
      "| 397183|Decisions (Sweet ...|      Young Adult|[{'author_id': '2...|        Bantam Books|          3.37|          1988.0|[{'count': '220',...|['1044854', '8504...|          440|\n",
      "|  43536|Wooden: A Lifetim...|History/Biography|[{'author_id': '2...|         McGraw-Hill|          4.45|            null|[{'count': '1434'...|['226226', '67057...|         2621|\n",
      "|  15245|The Return of the...|          Fantasy|[{'author_id': '6...|HarperCollins Pub...|          4.51|          2003.0|[{'count': '12080...|['5739512', '1106...|          241|\n",
      "| 879090|Planetes, Volume ...|           Comics|[{'author_id': '4...|            Tokyopop|          4.12|            null|[{'count': '1729'...|['32277', '623605...|         1967|\n",
      "+-------+--------------------+-----------------+--------------------+--------------------+--------------+----------------+--------------------+--------------------+-------------+\n",
      "\n"
     ]
    }
   ],
   "source": [
    "df2.show()"
   ]
  },
  {
   "cell_type": "code",
   "execution_count": null,
   "id": "1195a226",
   "metadata": {},
   "outputs": [],
   "source": []
  }
 ],
 "metadata": {
  "kernelspec": {
   "display_name": "Python 3 (ipykernel)",
   "language": "python",
   "name": "python3"
  },
  "language_info": {
   "codemirror_mode": {
    "name": "ipython",
    "version": 3
   },
   "file_extension": ".py",
   "mimetype": "text/x-python",
   "name": "python",
   "nbconvert_exporter": "python",
   "pygments_lexer": "ipython3",
   "version": "3.7.11"
  }
 },
 "nbformat": 4,
 "nbformat_minor": 5
}
