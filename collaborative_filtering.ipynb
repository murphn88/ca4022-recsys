{
 "cells": [
  {
   "cell_type": "code",
   "execution_count": 290,
   "id": "48af88cd",
   "metadata": {},
   "outputs": [],
   "source": [
    "import pandas as pd\n",
    "import numpy as np\n",
    "\n",
    "# ! pip install pyspark\n",
    "from pyspark.ml.evaluation import RegressionEvaluator, MulticlassClassificationEvaluator\n",
    "from pyspark.ml.recommendation import ALS\n",
    "from pyspark.sql import Row\n",
    "from pyspark.sql.functions import explode, col, round, abs, when\n",
    "from pyspark.ml.tuning import ParamGridBuilder, CrossValidator, TrainValidationSplit\n",
    "from pyspark.sql import SparkSession\n"
   ]
  },
  {
   "cell_type": "code",
   "execution_count": 291,
   "id": "eab3db79",
   "metadata": {},
   "outputs": [],
   "source": [
    "spark = SparkSession \\\n",
    "    .builder \\\n",
    "    .appName(\"Book Rec System\") \\\n",
    "    .getOrCreate()"
   ]
  },
  {
   "cell_type": "markdown",
   "id": "b9d12b02",
   "metadata": {},
   "source": [
    "# Reading Datasets"
   ]
  },
  {
   "cell_type": "code",
   "execution_count": 292,
   "id": "60cde015",
   "metadata": {},
   "outputs": [],
   "source": [
    "interactions = spark.read.csv(\"data/interactions.csv\", sep=',', header=True)"
   ]
  },
  {
   "cell_type": "code",
   "execution_count": 293,
   "id": "619ac0ba",
   "metadata": {},
   "outputs": [],
   "source": [
    "interactions = interactions.withColumn(\"user_id\",interactions[\"user_id\"].cast(\"int\"))\n",
    "interactions = interactions.withColumn(\"rating\",interactions[\"rating\"].cast(\"int\"))\n",
    "interactions = interactions.withColumn(\"book_id\",interactions[\"book_id\"].cast(\"int\"))"
   ]
  },
  {
   "cell_type": "code",
   "execution_count": 294,
   "id": "3bd0cacc",
   "metadata": {},
   "outputs": [
    {
     "name": "stdout",
     "output_type": "stream",
     "text": [
      "root\n",
      " |-- user_id: integer (nullable = true)\n",
      " |-- book_id: integer (nullable = true)\n",
      " |-- is_read: string (nullable = true)\n",
      " |-- rating: integer (nullable = true)\n",
      " |-- is_reviewed: string (nullable = true)\n",
      " |-- user_count: string (nullable = true)\n",
      "\n"
     ]
    }
   ],
   "source": [
    "interactions.printSchema()"
   ]
  },
  {
   "cell_type": "code",
   "execution_count": 295,
   "id": "97f0b8b2",
   "metadata": {},
   "outputs": [
    {
     "name": "stdout",
     "output_type": "stream",
     "text": [
      "+-------+-------+-------+------+-----------+----------+\n",
      "|user_id|book_id|is_read|rating|is_reviewed|user_count|\n",
      "+-------+-------+-------+------+-----------+----------+\n",
      "|      0|    915|      1|     5|        1.0|        15|\n",
      "|      0|    873|      1|     4|        0.0|        15|\n",
      "|      0|    871|      1|     2|        0.0|        15|\n",
      "|      0|    870|      1|     3|        0.0|        15|\n",
      "|      0|    824|      1|     5|        1.0|        15|\n",
      "+-------+-------+-------+------+-----------+----------+\n",
      "only showing top 5 rows\n",
      "\n"
     ]
    }
   ],
   "source": [
    "interactions.show(n=5)"
   ]
  },
  {
   "cell_type": "code",
   "execution_count": 296,
   "id": "d645818f",
   "metadata": {},
   "outputs": [],
   "source": [
    "books = spark.read.csv(\"data/books.csv\", sep=',', header=True)"
   ]
  },
  {
   "cell_type": "code",
   "execution_count": 297,
   "id": "4c39f35b",
   "metadata": {},
   "outputs": [
    {
     "name": "stdout",
     "output_type": "stream",
     "text": [
      "+------+--------------------+--------------+--------------------+--------------------+--------------+---------+----------------+-------+-------------+----------+--------+\n",
      "|series|     popular_shelves|average_rating|       similar_books|             authors|     publisher|num_pages|publication_year|book_id|ratings_count|     title|   genre|\n",
      "+------+--------------------+--------------+--------------------+--------------------+--------------+---------+----------------+-------+-------------+----------+--------+\n",
      "|    []|[{'count': '450',...|          4.43|['834493', '45218...|[{'author_id': '5...|Blue Sky Press|     40.0|          1995.0|  89378|         1331|Dog Heaven|Children|\n",
      "+------+--------------------+--------------+--------------------+--------------------+--------------+---------+----------------+-------+-------------+----------+--------+\n",
      "only showing top 1 row\n",
      "\n"
     ]
    }
   ],
   "source": [
    "cols = (\"isbn\",\"is_ebook\",\"kindle_asin\", \"country_code\", \"language_code\", \"asin\",\"description\", \"format\", \"link\", \"publication_day\", \"isbn13\",\n",
    "        \"publication_month\", \"edition_information\", \"url\", \"image_url\", \"work_id\", \"text_reviews_count\", \"title_without_series\")\n",
    "\n",
    "books = books.drop(*cols)\n",
    "books.show(1)\n",
    "books = books.select(\"book_id\",\"title\",\"genre\",\"authors\",\"publisher\", \"average_rating\", \"publication_year\", \"popular_shelves\", \"similar_books\", \"ratings_count\")\n",
    "books = books.dropDuplicates([\"book_id\"])"
   ]
  },
  {
   "cell_type": "code",
   "execution_count": 298,
   "id": "c00ff45c",
   "metadata": {},
   "outputs": [
    {
     "name": "stdout",
     "output_type": "stream",
     "text": [
      "+--------------------+--------------------+-----+------------------+--------------------+--------------+----------------+--------------------+--------------------+-------------+\n",
      "|             book_id|               title|genre|           authors|           publisher|average_rating|publication_year|     popular_shelves|       similar_books|ratings_count|\n",
      "+--------------------+--------------------+-----+------------------+--------------------+--------------+----------------+--------------------+--------------------+-------------+\n",
      "| \"\" but his image...|[{'author_id': '1...|784.0| wild anachronisms| hallucinatory ha...|          4.12|          photos|[{'count': '522',...|['855422', '84351...|    Paperback|\n",
      "+--------------------+--------------------+-----+------------------+--------------------+--------------+----------------+--------------------+--------------------+-------------+\n",
      "only showing top 1 row\n",
      "\n"
     ]
    },
    {
     "name": "stderr",
     "output_type": "stream",
     "text": [
      "\r",
      "[Stage 3308:==============>                                         (2 + 6) / 8]\r",
      "\r",
      "                                                                                \r"
     ]
    }
   ],
   "source": [
    "books.show(1)"
   ]
  },
  {
   "cell_type": "markdown",
   "id": "30dab35e",
   "metadata": {},
   "source": [
    "# Training ALS with Cross Validation"
   ]
  },
  {
   "cell_type": "code",
   "execution_count": 299,
   "id": "e03d3459",
   "metadata": {},
   "outputs": [],
   "source": [
    "(training, test) = interactions.randomSplit([0.8, 0.2])\n",
    "\n",
    "als = ALS(maxIter=5, regParam=0.01, userCol=\"user_id\", itemCol=\"book_id\", ratingCol=\"rating\",\n",
    "          coldStartStrategy=\"drop\", nonnegative = True, implicitPrefs = False)\n",
    "model = als.fit(training)"
   ]
  },
  {
   "cell_type": "code",
   "execution_count": 300,
   "id": "5218b98e",
   "metadata": {},
   "outputs": [
    {
     "name": "stdout",
     "output_type": "stream",
     "text": [
      "Num models to be tested using param_grid:  64\n"
     ]
    }
   ],
   "source": [
    "param_grid = ParamGridBuilder() \\\n",
    " .addGrid(als.rank, [10, 50, 75, 100]) \\\n",
    " .addGrid(als.maxIter, [5, 50, 75, 100]) \\\n",
    " .addGrid(als.regParam, [.01, .05, .1, .15]) \\\n",
    " .build()\n",
    "\n",
    "evaluator = RegressionEvaluator(metricName = \"rmse\", \n",
    " labelCol = \"rating\", \n",
    " predictionCol = \"prediction\")\n",
    "\n",
    "print (\"Num models to be tested using param_grid: \", len(param_grid))"
   ]
  },
  {
   "cell_type": "code",
   "execution_count": 301,
   "id": "c81332bd",
   "metadata": {},
   "outputs": [
    {
     "name": "stdout",
     "output_type": "stream",
     "text": [
      "+-------+-------+-------+------+-----------+----------+----------+\n",
      "|user_id|book_id|is_read|rating|is_reviewed|user_count|prediction|\n",
      "+-------+-------+-------+------+-----------+----------+----------+\n",
      "|    471|  35870|      1|     4|        0.0|        19| 3.5998526|\n",
      "|    471| 104069|      1|     5|        0.0|        19|   3.59567|\n",
      "|   1238|   6571|      1|     4|        0.0|        26| 4.3061757|\n",
      "|   1238|   6687|      1|     5|        0.0|        26|  9.313152|\n",
      "|   1238|  59854|      1|     5|        0.0|        26| 4.5000806|\n",
      "|   1238| 176728|      1|     5|        1.0|        26|  2.163161|\n",
      "|   1645|  27905|      1|     3|        0.0|         7| 3.1309993|\n",
      "|   1829|    586|      1|     4|        0.0|        11| 4.1695795|\n",
      "|   2122| 129549|      1|     5|        0.0|        19|  9.140117|\n",
      "|   2142|  16429|      1|     4|        1.0|        68| 1.6583396|\n",
      "+-------+-------+-------+------+-----------+----------+----------+\n",
      "only showing top 10 rows\n",
      "\n"
     ]
    }
   ],
   "source": [
    "cv = CrossValidator(estimator = als, \n",
    " estimatorParamMaps = param_grid, \n",
    " evaluator = evaluator, \n",
    " numFolds = 5)\n",
    "\n",
    "model = als.fit(training)\n",
    "predictions = model.transform(test)\n",
    "\n",
    "predictions.show(n = 10)"
   ]
  },
  {
   "cell_type": "code",
   "execution_count": 302,
   "id": "822c7707",
   "metadata": {},
   "outputs": [
    {
     "name": "stdout",
     "output_type": "stream",
     "text": [
      "Root-mean-square error = 1.6019383532927205\n"
     ]
    }
   ],
   "source": [
    "rmse = evaluator.evaluate(predictions)\n",
    "print(\"Root-mean-square error = \" + str(rmse))"
   ]
  },
  {
   "cell_type": "markdown",
   "id": "ac59cff4",
   "metadata": {},
   "source": [
    "# Rounding Predictions"
   ]
  },
  {
   "cell_type": "code",
   "execution_count": 303,
   "id": "75913255",
   "metadata": {},
   "outputs": [],
   "source": [
    "predictions = predictions.withColumn(\"rounded_prediction\", round(col(\"prediction\"), 0))\n",
    "predictions = predictions.withColumn(\"rounded_prediction\",predictions[\"rounded_prediction\"].cast(\"int\"))\n"
   ]
  },
  {
   "cell_type": "code",
   "execution_count": 304,
   "id": "8c389536",
   "metadata": {},
   "outputs": [
    {
     "name": "stdout",
     "output_type": "stream",
     "text": [
      "+-------+-------+-------+------+-----------+----------+----------+\n",
      "|user_id|book_id|is_read|rating|is_reviewed|user_count|prediction|\n",
      "+-------+-------+-------+------+-----------+----------+----------+\n",
      "|    471|  35870|      1|     4|        0.0|        19|         4|\n",
      "|    471| 104069|      1|     5|        0.0|        19|         4|\n",
      "|   1238|   6571|      1|     4|        0.0|        26|         4|\n",
      "|   1238|   6687|      1|     5|        0.0|        26|         5|\n",
      "|   1238|  59854|      1|     5|        0.0|        26|         5|\n",
      "|   1238| 176728|      1|     5|        1.0|        26|         2|\n",
      "|   1645|  27905|      1|     3|        0.0|         7|         3|\n",
      "|   1829|    586|      1|     4|        0.0|        11|         4|\n",
      "|   2122| 129549|      1|     5|        0.0|        19|         5|\n",
      "|   2142|  16429|      1|     4|        1.0|        68|         2|\n",
      "+-------+-------+-------+------+-----------+----------+----------+\n",
      "only showing top 10 rows\n",
      "\n"
     ]
    }
   ],
   "source": [
    "new_pred = predictions.drop(col(\"prediction\"))\n",
    "\n",
    "new_pred = new_pred.withColumnRenamed(\"rounded_prediction\", \"prediction\")\n",
    "new_pred = new_pred.withColumn(\"prediction\", when(new_pred[\"prediction\"] > 5, 5).otherwise(new_pred['prediction']).alias(\"prediction\"))\n",
    "\n",
    "new_pred.show(n=10)"
   ]
  },
  {
   "cell_type": "code",
   "execution_count": 308,
   "id": "9321581d",
   "metadata": {},
   "outputs": [
    {
     "name": "stdout",
     "output_type": "stream",
     "text": [
      "Root-mean-square error = 1.2777342385777766\n"
     ]
    }
   ],
   "source": [
    "rmse = evaluator.evaluate(new_pred)\n",
    "print(\"Root-mean-square error = \" + str(rmse))"
   ]
  },
  {
   "cell_type": "code",
   "execution_count": 307,
   "id": "59efc2a3",
   "metadata": {},
   "outputs": [
    {
     "name": "stderr",
     "output_type": "stream",
     "text": [
      "\r",
      "[Stage 3460:>               (0 + 1) / 1][Stage 3475:============>  (8 + 2) / 10]\r",
      "\r",
      "                                                                                \r"
     ]
    },
    {
     "data": {
      "text/plain": [
       "0.3503031918438062"
      ]
     },
     "execution_count": 307,
     "metadata": {},
     "output_type": "execute_result"
    }
   ],
   "source": [
    "new_pred = new_pred.withColumn(\"prediction\",new_pred[\"prediction\"].cast(\"double\"))\n",
    "\n",
    "accuracy = eval_accuracy.evaluate(new_pred)\n",
    "accuracy"
   ]
  },
  {
   "cell_type": "markdown",
   "id": "658ab2a0",
   "metadata": {},
   "source": [
    "# Recommendations"
   ]
  },
  {
   "cell_type": "code",
   "execution_count": 309,
   "id": "aefc2169",
   "metadata": {},
   "outputs": [
    {
     "name": "stderr",
     "output_type": "stream",
     "text": [
      "/home/cliodhna/miniconda3/envs/JupyterBook/lib/python3.7/site-packages/pyspark/sql/context.py:127: FutureWarning: Deprecated in 3.0.0. Use SparkSession.builder.getOrCreate() instead.\n",
      "  FutureWarning\n"
     ]
    }
   ],
   "source": [
    "userRecs = model.recommendForAllUsers(10)\n",
    "bookRecs = model.recommendForAllItems(5)"
   ]
  },
  {
   "cell_type": "code",
   "execution_count": 310,
   "id": "746eb5c2",
   "metadata": {},
   "outputs": [
    {
     "name": "stderr",
     "output_type": "stream",
     "text": [
      "[Stage 3544:================================================>    (91 + 8) / 100]\r"
     ]
    },
    {
     "name": "stdout",
     "output_type": "stream",
     "text": [
      "+-------+-----------------------------------------------------------------------------------------------------+\n",
      "|book_id|recommendations                                                                                      |\n",
      "+-------+-----------------------------------------------------------------------------------------------------+\n",
      "|236    |[{16981, 6.745122}, {19506, 6.353185}, {22797, 6.112206}, {22148, 6.076087}, {23119, 6.0540376}]     |\n",
      "|1068   |[{22148, 6.8745823}, {16429, 6.5434446}, {16176, 6.534654}, {1157, 6.5090585}, {15436, 6.4165945}]   |\n",
      "|1226   |[{10670, 6.841731}, {19055, 6.7031393}, {16981, 6.440398}, {22304, 6.359483}, {19506, 6.251373}]     |\n",
      "|1265   |[{104, 9.535774}, {16981, 9.030468}, {15964, 8.220503}, {13353, 8.110318}, {8880, 8.084004}]         |\n",
      "|1363   |[{17497, 11.920067}, {16957, 11.0461645}, {11396, 10.957737}, {16981, 10.707592}, {18494, 10.670895}]|\n",
      "+-------+-----------------------------------------------------------------------------------------------------+\n",
      "only showing top 5 rows\n",
      "\n"
     ]
    },
    {
     "name": "stderr",
     "output_type": "stream",
     "text": [
      "\r",
      "                                                                                \r"
     ]
    }
   ],
   "source": [
    "bookRecs.show(5, False)"
   ]
  },
  {
   "cell_type": "code",
   "execution_count": 311,
   "id": "4289f3e6",
   "metadata": {
    "scrolled": false
   },
   "outputs": [
    {
     "name": "stderr",
     "output_type": "stream",
     "text": [
      "[Stage 3573:================================================>    (92 + 8) / 100]\r"
     ]
    },
    {
     "name": "stdout",
     "output_type": "stream",
     "text": [
      "+-------+--------------------+\n",
      "|user_id|     recommendations|\n",
      "+-------+--------------------+\n",
      "|     26|[{864758, 18.5692...|\n",
      "|     28|[{425380, 9.58905...|\n",
      "|     31|[{64706, 11.14594...|\n",
      "|     34|[{425380, 15.4735...|\n",
      "|     44|[{864758, 15.3104...|\n",
      "+-------+--------------------+\n",
      "only showing top 5 rows\n",
      "\n"
     ]
    },
    {
     "name": "stderr",
     "output_type": "stream",
     "text": [
      "\r",
      "                                                                                \r"
     ]
    }
   ],
   "source": [
    "userRecs.show(5)"
   ]
  },
  {
   "cell_type": "markdown",
   "id": "4ced9762",
   "metadata": {},
   "source": [
    "# Making score column in pandas"
   ]
  },
  {
   "cell_type": "code",
   "execution_count": 210,
   "id": "204c8e7a",
   "metadata": {},
   "outputs": [
    {
     "name": "stderr",
     "output_type": "stream",
     "text": [
      "/home/cliodhna/miniconda3/envs/JupyterBook/lib/python3.7/site-packages/pyspark/sql/context.py:127: FutureWarning: Deprecated in 3.0.0. Use SparkSession.builder.getOrCreate() instead.\n",
      "  FutureWarning\n"
     ]
    }
   ],
   "source": [
    "user_recs = model.recommendForAllUsers(100)"
   ]
  },
  {
   "cell_type": "code",
   "execution_count": 211,
   "id": "8b92b851",
   "metadata": {
    "scrolled": false
   },
   "outputs": [
    {
     "name": "stderr",
     "output_type": "stream",
     "text": [
      "                                                                                \r"
     ]
    },
    {
     "data": {
      "text/html": [
       "<div>\n",
       "<style scoped>\n",
       "    .dataframe tbody tr th:only-of-type {\n",
       "        vertical-align: middle;\n",
       "    }\n",
       "\n",
       "    .dataframe tbody tr th {\n",
       "        vertical-align: top;\n",
       "    }\n",
       "\n",
       "    .dataframe thead th {\n",
       "        text-align: right;\n",
       "    }\n",
       "</style>\n",
       "<table border=\"1\" class=\"dataframe\">\n",
       "  <thead>\n",
       "    <tr style=\"text-align: right;\">\n",
       "      <th></th>\n",
       "      <th>user_id</th>\n",
       "      <th>recommendations</th>\n",
       "    </tr>\n",
       "  </thead>\n",
       "  <tbody>\n",
       "    <tr>\n",
       "      <th>0</th>\n",
       "      <td>26</td>\n",
       "      <td>[(864386, 17.755340576171875), (864758, 17.755...</td>\n",
       "    </tr>\n",
       "    <tr>\n",
       "      <th>1</th>\n",
       "      <td>28</td>\n",
       "      <td>[(397183, 10.6409330368042), (125232, 9.860329...</td>\n",
       "    </tr>\n",
       "    <tr>\n",
       "      <th>2</th>\n",
       "      <td>31</td>\n",
       "      <td>[(816581, 13.870176315307617), (816582, 13.870...</td>\n",
       "    </tr>\n",
       "    <tr>\n",
       "      <th>3</th>\n",
       "      <td>34</td>\n",
       "      <td>[(492565, 17.5319766998291), (432016, 16.87717...</td>\n",
       "    </tr>\n",
       "    <tr>\n",
       "      <th>4</th>\n",
       "      <td>44</td>\n",
       "      <td>[(688081, 11.493675231933594), (125232, 10.683...</td>\n",
       "    </tr>\n",
       "    <tr>\n",
       "      <th>...</th>\n",
       "      <td>...</td>\n",
       "      <td>...</td>\n",
       "    </tr>\n",
       "    <tr>\n",
       "      <th>9917</th>\n",
       "      <td>22982</td>\n",
       "      <td>[(43747, 21.323205947875977), (124740, 19.1596...</td>\n",
       "    </tr>\n",
       "    <tr>\n",
       "      <th>9918</th>\n",
       "      <td>23098</td>\n",
       "      <td>[(212936, 20.873018264770508), (397183, 20.474...</td>\n",
       "    </tr>\n",
       "    <tr>\n",
       "      <th>9919</th>\n",
       "      <td>23161</td>\n",
       "      <td>[(43747, 12.351412773132324), (183220, 11.7844...</td>\n",
       "    </tr>\n",
       "    <tr>\n",
       "      <th>9920</th>\n",
       "      <td>23181</td>\n",
       "      <td>[(397183, 9.964000701904297), (43747, 9.156210...</td>\n",
       "    </tr>\n",
       "    <tr>\n",
       "      <th>9921</th>\n",
       "      <td>23187</td>\n",
       "      <td>[(432016, 19.84044075012207), (60263, 19.13101...</td>\n",
       "    </tr>\n",
       "  </tbody>\n",
       "</table>\n",
       "<p>9922 rows × 2 columns</p>\n",
       "</div>"
      ],
      "text/plain": [
       "      user_id                                    recommendations\n",
       "0          26  [(864386, 17.755340576171875), (864758, 17.755...\n",
       "1          28  [(397183, 10.6409330368042), (125232, 9.860329...\n",
       "2          31  [(816581, 13.870176315307617), (816582, 13.870...\n",
       "3          34  [(492565, 17.5319766998291), (432016, 16.87717...\n",
       "4          44  [(688081, 11.493675231933594), (125232, 10.683...\n",
       "...       ...                                                ...\n",
       "9917    22982  [(43747, 21.323205947875977), (124740, 19.1596...\n",
       "9918    23098  [(212936, 20.873018264770508), (397183, 20.474...\n",
       "9919    23161  [(43747, 12.351412773132324), (183220, 11.7844...\n",
       "9920    23181  [(397183, 9.964000701904297), (43747, 9.156210...\n",
       "9921    23187  [(432016, 19.84044075012207), (60263, 19.13101...\n",
       "\n",
       "[9922 rows x 2 columns]"
      ]
     },
     "execution_count": 211,
     "metadata": {},
     "output_type": "execute_result"
    }
   ],
   "source": [
    "df = user_recs.toPandas()\n",
    "df.head(1)"
   ]
  },
  {
   "cell_type": "code",
   "execution_count": 212,
   "id": "12216915",
   "metadata": {},
   "outputs": [],
   "source": [
    "df = df.assign(recommendations=list(df.recommendations)).explode('recommendations')\n",
    "\n",
    "lst = [(x[0], x[1]) for x in df.recommendations]\n",
    "df[['book_id', 'value']] = lst"
   ]
  },
  {
   "cell_type": "code",
   "execution_count": 213,
   "id": "9d457795",
   "metadata": {},
   "outputs": [],
   "source": [
    "max_values = df.groupby(['user_id'], sort=False)['value'].max()\n",
    "df = df.merge(max_values, how='left', left_on='user_id', right_index=True)\n",
    "df.columns = ['user_id', 'recommendations', 'book_id', 'value', 'max']\n",
    "df['score'] = df['value'] / df['max']"
   ]
  },
  {
   "cell_type": "code",
   "execution_count": 214,
   "id": "d8e0d544",
   "metadata": {},
   "outputs": [
    {
     "data": {
      "text/html": [
       "<div>\n",
       "<style scoped>\n",
       "    .dataframe tbody tr th:only-of-type {\n",
       "        vertical-align: middle;\n",
       "    }\n",
       "\n",
       "    .dataframe tbody tr th {\n",
       "        vertical-align: top;\n",
       "    }\n",
       "\n",
       "    .dataframe thead th {\n",
       "        text-align: right;\n",
       "    }\n",
       "</style>\n",
       "<table border=\"1\" class=\"dataframe\">\n",
       "  <thead>\n",
       "    <tr style=\"text-align: right;\">\n",
       "      <th></th>\n",
       "      <th>user_id</th>\n",
       "      <th>recommendations</th>\n",
       "      <th>book_id</th>\n",
       "      <th>value</th>\n",
       "      <th>max</th>\n",
       "      <th>score</th>\n",
       "    </tr>\n",
       "  </thead>\n",
       "  <tbody>\n",
       "    <tr>\n",
       "      <th>0</th>\n",
       "      <td>26</td>\n",
       "      <td>(864386, 17.755340576171875)</td>\n",
       "      <td>864386.0</td>\n",
       "      <td>17.755341</td>\n",
       "      <td>17.755341</td>\n",
       "      <td>1.000000</td>\n",
       "    </tr>\n",
       "    <tr>\n",
       "      <th>0</th>\n",
       "      <td>26</td>\n",
       "      <td>(864758, 17.755340576171875)</td>\n",
       "      <td>864758.0</td>\n",
       "      <td>17.755341</td>\n",
       "      <td>17.755341</td>\n",
       "      <td>1.000000</td>\n",
       "    </tr>\n",
       "    <tr>\n",
       "      <th>0</th>\n",
       "      <td>26</td>\n",
       "      <td>(864757, 17.755340576171875)</td>\n",
       "      <td>864757.0</td>\n",
       "      <td>17.755341</td>\n",
       "      <td>17.755341</td>\n",
       "      <td>1.000000</td>\n",
       "    </tr>\n",
       "    <tr>\n",
       "      <th>0</th>\n",
       "      <td>26</td>\n",
       "      <td>(432016, 15.268040657043457)</td>\n",
       "      <td>432016.0</td>\n",
       "      <td>15.268041</td>\n",
       "      <td>17.755341</td>\n",
       "      <td>0.859913</td>\n",
       "    </tr>\n",
       "    <tr>\n",
       "      <th>0</th>\n",
       "      <td>26</td>\n",
       "      <td>(492565, 14.56356143951416)</td>\n",
       "      <td>492565.0</td>\n",
       "      <td>14.563561</td>\n",
       "      <td>17.755341</td>\n",
       "      <td>0.820236</td>\n",
       "    </tr>\n",
       "    <tr>\n",
       "      <th>...</th>\n",
       "      <td>...</td>\n",
       "      <td>...</td>\n",
       "      <td>...</td>\n",
       "      <td>...</td>\n",
       "      <td>...</td>\n",
       "      <td>...</td>\n",
       "    </tr>\n",
       "    <tr>\n",
       "      <th>9921</th>\n",
       "      <td>23187</td>\n",
       "      <td>(45684, 12.045822143554688)</td>\n",
       "      <td>45684.0</td>\n",
       "      <td>12.045822</td>\n",
       "      <td>19.840441</td>\n",
       "      <td>0.607135</td>\n",
       "    </tr>\n",
       "    <tr>\n",
       "      <th>9921</th>\n",
       "      <td>23187</td>\n",
       "      <td>(38969, 12.024578094482422)</td>\n",
       "      <td>38969.0</td>\n",
       "      <td>12.024578</td>\n",
       "      <td>19.840441</td>\n",
       "      <td>0.606064</td>\n",
       "    </tr>\n",
       "    <tr>\n",
       "      <th>9921</th>\n",
       "      <td>23187</td>\n",
       "      <td>(127722, 12.022064208984375)</td>\n",
       "      <td>127722.0</td>\n",
       "      <td>12.022064</td>\n",
       "      <td>19.840441</td>\n",
       "      <td>0.605937</td>\n",
       "    </tr>\n",
       "    <tr>\n",
       "      <th>9921</th>\n",
       "      <td>23187</td>\n",
       "      <td>(13083, 12.01167106628418)</td>\n",
       "      <td>13083.0</td>\n",
       "      <td>12.011671</td>\n",
       "      <td>19.840441</td>\n",
       "      <td>0.605414</td>\n",
       "    </tr>\n",
       "    <tr>\n",
       "      <th>9921</th>\n",
       "      <td>23187</td>\n",
       "      <td>(15650, 12.010590553283691)</td>\n",
       "      <td>15650.0</td>\n",
       "      <td>12.010591</td>\n",
       "      <td>19.840441</td>\n",
       "      <td>0.605359</td>\n",
       "    </tr>\n",
       "  </tbody>\n",
       "</table>\n",
       "<p>992200 rows × 6 columns</p>\n",
       "</div>"
      ],
      "text/plain": [
       "      user_id               recommendations   book_id      value        max  \\\n",
       "0          26  (864386, 17.755340576171875)  864386.0  17.755341  17.755341   \n",
       "0          26  (864758, 17.755340576171875)  864758.0  17.755341  17.755341   \n",
       "0          26  (864757, 17.755340576171875)  864757.0  17.755341  17.755341   \n",
       "0          26  (432016, 15.268040657043457)  432016.0  15.268041  17.755341   \n",
       "0          26   (492565, 14.56356143951416)  492565.0  14.563561  17.755341   \n",
       "...       ...                           ...       ...        ...        ...   \n",
       "9921    23187   (45684, 12.045822143554688)   45684.0  12.045822  19.840441   \n",
       "9921    23187   (38969, 12.024578094482422)   38969.0  12.024578  19.840441   \n",
       "9921    23187  (127722, 12.022064208984375)  127722.0  12.022064  19.840441   \n",
       "9921    23187    (13083, 12.01167106628418)   13083.0  12.011671  19.840441   \n",
       "9921    23187   (15650, 12.010590553283691)   15650.0  12.010591  19.840441   \n",
       "\n",
       "         score  \n",
       "0     1.000000  \n",
       "0     1.000000  \n",
       "0     1.000000  \n",
       "0     0.859913  \n",
       "0     0.820236  \n",
       "...        ...  \n",
       "9921  0.607135  \n",
       "9921  0.606064  \n",
       "9921  0.605937  \n",
       "9921  0.605414  \n",
       "9921  0.605359  \n",
       "\n",
       "[992200 rows x 6 columns]"
      ]
     },
     "execution_count": 214,
     "metadata": {},
     "output_type": "execute_result"
    }
   ],
   "source": [
    "df.head(1)"
   ]
  },
  {
   "cell_type": "markdown",
   "id": "9c500882",
   "metadata": {},
   "source": [
    "# Exploring recommendations"
   ]
  },
  {
   "cell_type": "code",
   "execution_count": 312,
   "id": "061e2920",
   "metadata": {},
   "outputs": [],
   "source": [
    "top_users = interactions.groupBy(interactions['user_id']).agg({'rating':\"count\"}).sort(\"count(rating)\", ascending=False).dropna().limit(10)"
   ]
  },
  {
   "cell_type": "code",
   "execution_count": 313,
   "id": "08276139",
   "metadata": {},
   "outputs": [
    {
     "name": "stdout",
     "output_type": "stream",
     "text": [
      "+-------+-------------+\n",
      "|user_id|count(rating)|\n",
      "+-------+-------------+\n",
      "|   9880|          195|\n",
      "|   6678|          150|\n",
      "|  15833|          148|\n",
      "|  18539|          143|\n",
      "|  19445|          132|\n",
      "|   7261|          131|\n",
      "|  14864|          129|\n",
      "|  16279|          118|\n",
      "|  17077|          115|\n",
      "|   9217|          115|\n",
      "+-------+-------------+\n",
      "\n"
     ]
    }
   ],
   "source": [
    "top_users.show()"
   ]
  },
  {
   "cell_type": "code",
   "execution_count": 314,
   "id": "f2f63a32",
   "metadata": {},
   "outputs": [],
   "source": [
    "top_user_list = [row.user_id for row in top_users.select('user_id').collect()]"
   ]
  },
  {
   "cell_type": "code",
   "execution_count": 315,
   "id": "58834435",
   "metadata": {},
   "outputs": [
    {
     "name": "stderr",
     "output_type": "stream",
     "text": [
      "                                                                                \r"
     ]
    },
    {
     "data": {
      "text/plain": [
       "dict_keys([9880, 6678, 15833, 18539, 19445, 7261, 14864, 16279, 17077, 9217])"
      ]
     },
     "execution_count": 315,
     "metadata": {},
     "output_type": "execute_result"
    }
   ],
   "source": [
    "d = {}\n",
    "for user in top_user_list:\n",
    "    rec = userRecs.where(userRecs.user_id == user).select(\"recommendations\").collect()\n",
    "    d[user] = [i.book_id for i in rec[0][\"recommendations\"]]\n",
    "d.keys()"
   ]
  },
  {
   "cell_type": "code",
   "execution_count": 316,
   "id": "4cf616e0",
   "metadata": {},
   "outputs": [],
   "source": [
    "rec_1 = books.filter(books[\"book_id\"].isin(d[7261]))"
   ]
  },
  {
   "cell_type": "code",
   "execution_count": 317,
   "id": "d55fc931",
   "metadata": {
    "scrolled": false
   },
   "outputs": [
    {
     "name": "stderr",
     "output_type": "stream",
     "text": [
      "\r",
      "[Stage 3885:>                                                       (0 + 8) / 8]\r"
     ]
    },
    {
     "name": "stdout",
     "output_type": "stream",
     "text": [
      "+-------+--------------------+-----------+--------------------+-----------------+--------------+----------------+--------------------+--------------------+-------------+\n",
      "|book_id|               title|      genre|             authors|        publisher|average_rating|publication_year|     popular_shelves|       similar_books|ratings_count|\n",
      "+-------+--------------------+-----------+--------------------+-----------------+--------------+----------------+--------------------+--------------------+-------------+\n",
      "|  47733|          Love Poems|     Poetry|[{'author_id': '2...|    Mariner Books|          4.18|          1999.0|[{'count': '1631'...|['162904', '40014...|         1214|\n",
      "| 864758|Knocked Out by My...|Young Adult|[{'author_id': '6...|   Harper Collins|          3.97|          2006.0|[{'count': '6704'...|['405838', '51618...|          957|\n",
      "| 147924|            Alphabet|     Poetry|[{'author_id': '8...|   New Directions|          4.42|          2001.0|[{'count': '796',...|['6923043', '1397...|          596|\n",
      "| 425380|Elephant Rocks: P...|     Poetry|[{'author_id': '7...|             null|          3.89|            null|[{'count': '109',...|['355167', '17072...|          244|\n",
      "| 116473|Rowan of Rin (Row...|    Fantasy|[{'author_id': '3...|Greenwillow Books|          3.92|          2004.0|[{'count': '864',...|['198566', '24842...|         4522|\n",
      "| 682153|         Three Fates|    Romance|[{'author_id': '6...|             Jove|          4.03|          2003.0|[{'count': '1819'...|['114156', '12802...|        17261|\n",
      "+-------+--------------------+-----------+--------------------+-----------------+--------------+----------------+--------------------+--------------------+-------------+\n",
      "\n"
     ]
    },
    {
     "name": "stderr",
     "output_type": "stream",
     "text": [
      "\r",
      "                                                                                \r"
     ]
    }
   ],
   "source": [
    "rec_1.show()"
   ]
  },
  {
   "cell_type": "markdown",
   "id": "5fe26d92",
   "metadata": {},
   "source": [
    "Young adult and history/biography. The user has read a lot of history/biography but not much young adult so thats a bit of a strange recommendation."
   ]
  },
  {
   "cell_type": "code",
   "execution_count": 318,
   "id": "1e37c134",
   "metadata": {},
   "outputs": [
    {
     "name": "stdout",
     "output_type": "stream",
     "text": [
      "+-------+--------------------+-----------------+--------------------+--------------------+--------------+----------------+--------------------+--------------------+-------------+\n",
      "|book_id|               title|            genre|             authors|           publisher|average_rating|publication_year|     popular_shelves|       similar_books|ratings_count|\n",
      "+-------+--------------------+-----------------+--------------------+--------------------+--------------+----------------+--------------------+--------------------+-------------+\n",
      "| 118222|The Corpse in Ooz...|          Mystery|[{'author_id': '6...|The Mysterious Press|          3.76|          1988.0|[{'count': '149',...|['673410', '86058...|          453|\n",
      "| 128605|Chester Cricket's...|         Children|[{'author_id': '1...|            Yearling|           3.7|          1984.0|[{'count': '149',...|['460620', '10460...|          266|\n",
      "|  12937|See You Around, S...|         Children|[{'author_id': '2...|            Yearling|          3.66|          1998.0|[{'count': '155',...|['251240', '37113...|          228|\n",
      "|   3399| Birds Without Wings|History/Biography|[{'author_id': '2...|             Vintage|          4.16|          2005.0|[{'count': '9595'...|['256754', '14339...|         7714|\n",
      "|    586|Art of Modern Roc...|           Comics|[{'author_id': '3...|     Chronicle Books|          4.11|          2004.0|[{'count': '722',...|['257999', '67124...|         1086|\n",
      "|  65977|Dykes to Watch Ou...|           Comics|[{'author_id': '2...|     Firebrand Books|          4.16|          1986.0|[{'count': '2740'...|['277741', '87818...|         2299|\n",
      "|  77730|Weirdos from Anot...|           Comics|[{'author_id': '1...|Andrews McMeel Pu...|          4.71|          1990.0|[{'count': '575',...|['899856', '52096...|         9441|\n",
      "|    870|Fullmetal Alchemi...|           Comics|[{'author_id': '4...|       VIZ Media LLC|          4.49|          2005.0|[{'count': '3926'...|['2882', '13577',...|        95704|\n",
      "|  18742|The Melancholy De...|           Poetry|[{'author_id': '5...|            It Books|          4.13|          2008.0|[{'count': '12422...|['205981', '19326...|          706|\n",
      "| 196757|Can't You Make Th...|         Children|[{'author_id': '2...|        Puffin Books|          3.89|          1996.0|[{'count': '344',...|['89963', '6471',...|          465|\n",
      "|  20184| Sins of the Fathers|          Mystery|[{'author_id': '1...|Zondervan Publish...|          3.82|          2005.0|[{'count': '338',...|['4286101', '5986...|          399|\n",
      "|  21436|Cat and Mouse (Al...|          Mystery|[{'author_id': '3...|      Hachette Audio|          3.96|          2007.0|[{'count': '6017'...|['37302', '105425...|        45775|\n",
      "|  22424|Transmetropolitan...|           Comics|[{'author_id': '1...|             Vertigo|          4.51|          2004.0|[{'count': '1362'...|['22406', '102955...|         9233|\n",
      "|  24307|The Pen Is Mighti...|         Children|[{'author_id': '1...|Scholastic Paperb...|          3.96|          2001.0|[{'count': '19', ...|['549455', '457424']|         1036|\n",
      "|  28564|Bloody River Blue...|          Mystery|[{'author_id': '5...|        Pocket Books|          3.39|          2000.0|[{'count': '31', ...|           ['28562']|          804|\n",
      "|  39030|Reliquary (Pender...|          Mystery|[{'author_id': '1...|           Tor Books|          4.01|          2005.0|[{'count': '494',...|['18416', '98807'...|        27799|\n",
      "|  41697|Cyclops (Dirk Pit...|          Mystery|[{'author_id': '1...|        Pocket Books|          3.85|          1986.0|[{'count': '1513'...|['28207', '784083...|        10530|\n",
      "| 646460|Claudia's Friend ...|         Children|[{'author_id': '2...|          Scholastic|           3.6|          1993.0|[{'count': '272',...| ['33282', '664147']|          649|\n",
      "|  77727|   Calvin and Hobbes|           Comics|[{'author_id': '1...|                null|          4.61|          1987.0|[{'count': '29881...|['109648', '13303...|       120371|\n",
      "| 128518|The Second Jungle...|         Children|[{'author_id': '6...|           Doubleday|          3.82|          2006.0|[{'count': '385',...|['6088378', '2485...|         1695|\n",
      "+-------+--------------------+-----------------+--------------------+--------------------+--------------+----------------+--------------------+--------------------+-------------+\n",
      "only showing top 20 rows\n",
      "\n"
     ]
    }
   ],
   "source": [
    "user1_books = [x[0] for x in interactions.filter(interactions.user_id == 7261).select('book_id').collect()]\n",
    "user1 = books.filter(books[\"book_id\"].isin(user1_books))\n",
    "user1.show()"
   ]
  },
  {
   "cell_type": "code",
   "execution_count": 319,
   "id": "04a9a180",
   "metadata": {},
   "outputs": [
    {
     "name": "stdout",
     "output_type": "stream",
     "text": [
      "+-------+--------------------+-----------------+--------------------+--------------------+--------------+----------------+--------------------+--------------------+-------------+\n",
      "|book_id|               title|            genre|             authors|           publisher|average_rating|publication_year|     popular_shelves|       similar_books|ratings_count|\n",
      "+-------+--------------------+-----------------+--------------------+--------------------+--------------+----------------+--------------------+--------------------+-------------+\n",
      "| 864758|Knocked Out by My...|      Young Adult|[{'author_id': '6...|      Harper Collins|          3.97|          2006.0|[{'count': '6704'...|['405838', '51618...|          957|\n",
      "| 147924|            Alphabet|           Poetry|[{'author_id': '8...|      New Directions|          4.42|          2001.0|[{'count': '796',...|['6923043', '1397...|          596|\n",
      "| 177820|       Ester's Child|History/Biography|[{'author_id': '5...|                null|          4.01|          2010.0|[{'count': '17', ...|['1690781', '1386...|          220|\n",
      "| 229575|Hesiod: The Works...|           Poetry|[{'author_id': '1...|University of Mic...|        ironic|          1959.0|             and all|              Hesiod|         1827|\n",
      "| 122771|  The Silver Chalice|History/Biography|[{'author_id': '5...|     Loyola Classics|          4.09|          2006.0|[{'count': '2091'...|['778667', '59097...|         3231|\n",
      "| 116473|Rowan of Rin (Row...|          Fantasy|[{'author_id': '3...|   Greenwillow Books|          3.92|          2004.0|[{'count': '864',...|['198566', '24842...|         4522|\n",
      "+-------+--------------------+-----------------+--------------------+--------------------+--------------+----------------+--------------------+--------------------+-------------+\n",
      "\n"
     ]
    }
   ],
   "source": [
    "rec_2 = books.filter(books[\"book_id\"].isin(d[17077]))\n",
    "rec_2.show()"
   ]
  },
  {
   "cell_type": "code",
   "execution_count": 320,
   "id": "bd646904",
   "metadata": {},
   "outputs": [
    {
     "name": "stdout",
     "output_type": "stream",
     "text": [
      "+-------+--------------------+-----------------+--------------------+--------------------+--------------+----------------+--------------------+--------------------+-------------+\n",
      "|book_id|               title|            genre|             authors|           publisher|average_rating|publication_year|     popular_shelves|       similar_books|ratings_count|\n",
      "+-------+--------------------+-----------------+--------------------+--------------------+--------------+----------------+--------------------+--------------------+-------------+\n",
      "|  14654|Encyclopedia Brow...|         Children|[{'author_id': '9...|            Yearling|          4.04|          2000.0|[{'count': '303',...|['363271', '51071...|         3043|\n",
      "|   1496|  Iphigenia in Aulis|           Poetry|[{'author_id': '9...|Ivan R. Dee Publi...|          3.99|          1997.0|[{'count': '104',...|['237794', '76170...|         2211|\n",
      "|  16320|Witness for the P...|          Mystery|[{'author_id': '1...|HarperCollins Pub...|          4.05|          1995.0|[{'count': '1817'...|                  []|         3768|\n",
      "|  20508|Kill the Messenge...|History/Biography|[{'author_id': '1...|                null|          3.68|            null|[{'count': '640',...|['455652', '14376...|          246|\n",
      "|  29943|The Incognito Lounge|           Poetry|[{'author_id': '6...|                null|          4.27|            null|[{'count': '341',...|['10858542', '268...|          311|\n",
      "|    586|Art of Modern Roc...|           Comics|[{'author_id': '3...|     Chronicle Books|          4.11|          2004.0|[{'count': '722',...|['257999', '67124...|         1086|\n",
      "|  77730|Weirdos from Anot...|           Comics|[{'author_id': '1...|Andrews McMeel Pu...|          4.71|          1990.0|[{'count': '575',...|['899856', '52096...|         9441|\n",
      "|  24307|The Pen Is Mighti...|         Children|[{'author_id': '1...|Scholastic Paperb...|          3.96|          2001.0|[{'count': '19', ...|['549455', '457424']|         1036|\n",
      "|    484|Reinventing the E...|           Poetry|[{'author_id': '2...|W. W. Norton  Com...|          4.38|          1998.0|[{'count': '710',...|['112217', '50564...|          223|\n",
      "| 646460|Claudia's Friend ...|         Children|[{'author_id': '2...|          Scholastic|           3.6|          1993.0|[{'count': '272',...| ['33282', '664147']|          649|\n",
      "|  94739|    An American Brat|      Young Adult|[{'author_id': '2...|   Milkweed Editions|          3.28|          2006.0|[{'count': '543',...|['290382', '48333...|          691|\n",
      "| 105648|Smart Boys & Fast...|      Young Adult|[{'author_id': '6...|       Leisure Books|          3.76|          2005.0|[{'count': '523',...|['1078638', '8608...|          981|\n",
      "| 139781|Twentieth Century...|           Poetry|[{'author_id': '3...|                Ecco|          4.31|          2000.0|[{'count': '254',...|['80992', '440025...|          224|\n",
      "| 160959|The Rape of the L...|           Poetry|[{'author_id': '2...|     IndyPublish.com|          3.62|          2005.0|[{'count': '180',...|['173781', '44900...|          542|\n",
      "|  16298|A Murder Is Annou...|          Mystery|[{'author_id': '1...|Black Dog & Leven...|          3.96|          2006.0|[{'count': '1694'...|['93575', '280849...|        26502|\n",
      "| 183995|      My Friend Bear|         Children|[{'author_id': '1...|             Walker,|          4.04|          2004.0|[{'count': '109',...|['320749', '72658...|          250|\n",
      "| 193792|Do You Promise No...|          Mystery|[{'author_id': '4...|St. Martin's Pape...|          3.86|          2005.0|[{'count': '441',...|['170255', '69852...|          661|\n",
      "|  42714|The Giggler Treat...|         Children|[{'author_id': '1...|    Scholastic, Inc.|          4.16|          2001.0|[{'count': '544',...|['1477647', '8381...|         1232|\n",
      "|  68582|The Green Pearl (...|          Fantasy|[{'author_id': '5...|     Underwood Books|          4.16|          1985.0|[{'count': '904',...|['3689171', '1022...|         1665|\n",
      "|   8227|Winter Days in th...|         Children|[{'author_id': '5...|       HarperCollins|          4.27|          1995.0|[{'count': '359',...|['1371962', '1030...|         1287|\n",
      "+-------+--------------------+-----------------+--------------------+--------------------+--------------+----------------+--------------------+--------------------+-------------+\n",
      "only showing top 20 rows\n",
      "\n"
     ]
    }
   ],
   "source": [
    "user2_books = [x[0] for x in interactions.filter(interactions.user_id == 17077).select('book_id').collect()]\n",
    "user2 = books.filter(books[\"book_id\"].isin(user2_books))\n",
    "user2.show()"
   ]
  },
  {
   "cell_type": "markdown",
   "id": "b5074d6b",
   "metadata": {},
   "source": [
    "Has read some of every genre so any recommendation would make sense really."
   ]
  },
  {
   "cell_type": "code",
   "execution_count": null,
   "id": "d6aab3d9",
   "metadata": {},
   "outputs": [],
   "source": []
  }
 ],
 "metadata": {
  "kernelspec": {
   "display_name": "Python 3 (ipykernel)",
   "language": "python",
   "name": "python3"
  },
  "language_info": {
   "codemirror_mode": {
    "name": "ipython",
    "version": 3
   },
   "file_extension": ".py",
   "mimetype": "text/x-python",
   "name": "python",
   "nbconvert_exporter": "python",
   "pygments_lexer": "ipython3",
   "version": "3.7.11"
  }
 },
 "nbformat": 4,
 "nbformat_minor": 5
}
