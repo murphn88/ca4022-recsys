{
 "cells": [
  {
   "cell_type": "code",
   "execution_count": 62,
   "id": "48af88cd",
   "metadata": {},
   "outputs": [],
   "source": [
    "import pandas as pd\n",
    "import numpy as np\n",
    "\n",
    "# ! pip install pyspark\n",
    "from pyspark.ml.evaluation import RegressionEvaluator, MulticlassClassificationEvaluator\n",
    "from pyspark.ml.recommendation import ALS\n",
    "from pyspark.sql import Row\n",
    "from pyspark.sql.functions import explode, col, round, abs, when\n",
    "from pyspark.ml.tuning import ParamGridBuilder, CrossValidator, TrainValidationSplit\n",
    "from pyspark.sql import SparkSession\n"
   ]
  },
  {
   "cell_type": "code",
   "execution_count": 2,
   "id": "eab3db79",
   "metadata": {},
   "outputs": [
    {
     "name": "stderr",
     "output_type": "stream",
     "text": [
      "21/12/10 12:48:51 WARN Utils: Your hostname, cliodhna-Lenovo-ideapad-530S-14IKB resolves to a loopback address: 127.0.1.1; using 192.168.0.37 instead (on interface wlp1s0)\n",
      "21/12/10 12:48:51 WARN Utils: Set SPARK_LOCAL_IP if you need to bind to another address\n",
      "Using Spark's default log4j profile: org/apache/spark/log4j-defaults.properties\n",
      "Setting default log level to \"WARN\".\n",
      "To adjust logging level use sc.setLogLevel(newLevel). For SparkR, use setLogLevel(newLevel).\n",
      "21/12/10 12:48:51 WARN NativeCodeLoader: Unable to load native-hadoop library for your platform... using builtin-java classes where applicable\n"
     ]
    }
   ],
   "source": [
    "spark = SparkSession \\\n",
    "    .builder \\\n",
    "    .appName(\"Book Rec System\") \\\n",
    "    .getOrCreate()"
   ]
  },
  {
   "cell_type": "markdown",
   "id": "b9d12b02",
   "metadata": {},
   "source": [
    "# Reading Datasets"
   ]
  },
  {
   "cell_type": "code",
   "execution_count": 42,
   "id": "60cde015",
   "metadata": {},
   "outputs": [],
   "source": [
    "interactions = spark.read.csv(\"data/interactions.csv\", sep=',', header=True)"
   ]
  },
  {
   "cell_type": "code",
   "execution_count": 43,
   "id": "619ac0ba",
   "metadata": {},
   "outputs": [],
   "source": [
    "interactions = interactions.withColumn(\"user_id\",interactions[\"user_id\"].cast(\"int\"))\n",
    "interactions = interactions.withColumn(\"rating\",interactions[\"rating\"].cast(\"int\"))\n",
    "interactions = interactions.withColumn(\"book_id\",interactions[\"book_id\"].cast(\"int\"))\n",
    "# interactions = interactions.dropDuplicates([\"book_id\"])"
   ]
  },
  {
   "cell_type": "code",
   "execution_count": 44,
   "id": "3bd0cacc",
   "metadata": {},
   "outputs": [
    {
     "name": "stdout",
     "output_type": "stream",
     "text": [
      "root\n",
      " |-- user_id: integer (nullable = true)\n",
      " |-- book_id: integer (nullable = true)\n",
      " |-- is_read: string (nullable = true)\n",
      " |-- rating: integer (nullable = true)\n",
      " |-- is_reviewed: string (nullable = true)\n",
      " |-- user_count: string (nullable = true)\n",
      "\n"
     ]
    }
   ],
   "source": [
    "interactions.printSchema()"
   ]
  },
  {
   "cell_type": "code",
   "execution_count": 45,
   "id": "97f0b8b2",
   "metadata": {},
   "outputs": [
    {
     "name": "stdout",
     "output_type": "stream",
     "text": [
      "+-------+-------+-------+------+-----------+----------+\n",
      "|user_id|book_id|is_read|rating|is_reviewed|user_count|\n",
      "+-------+-------+-------+------+-----------+----------+\n",
      "|      0|    915|      1|     5|        1.0|        15|\n",
      "|      0|    873|      1|     4|        0.0|        15|\n",
      "|      0|    871|      1|     2|        0.0|        15|\n",
      "|      0|    870|      1|     3|        0.0|        15|\n",
      "|      0|    824|      1|     5|        1.0|        15|\n",
      "+-------+-------+-------+------+-----------+----------+\n",
      "only showing top 5 rows\n",
      "\n"
     ]
    }
   ],
   "source": [
    "interactions.show(n=5)"
   ]
  },
  {
   "cell_type": "code",
   "execution_count": 38,
   "id": "d645818f",
   "metadata": {},
   "outputs": [],
   "source": [
    "books = spark.read.csv(\"data/books.csv\", sep=',', header=True)"
   ]
  },
  {
   "cell_type": "code",
   "execution_count": 39,
   "id": "4c39f35b",
   "metadata": {},
   "outputs": [
    {
     "name": "stdout",
     "output_type": "stream",
     "text": [
      "+--------------------+--------------------+--------------+--------------------+--------------------+--------------------+---------+----------------+-------+-------------+----------+--------+\n",
      "|              series|     popular_shelves|average_rating|       similar_books|             authors|           publisher|num_pages|publication_year|book_id|ratings_count|     title|   genre|\n",
      "+--------------------+--------------------+--------------+--------------------+--------------------+--------------------+---------+----------------+-------+-------------+----------+--------+\n",
      "|                  []|[{'count': '450',...|          4.43|['834493', '45218...|[{'author_id': '5...|      Blue Sky Press|     40.0|          1995.0|  89378|         1331|Dog Heaven|Children|\n",
      "|                  []|[{'count': '90', ...|          3.95|['886410', '19743...|                null|                null|     null|            null|   null|         null|      null|    null|\n",
      "|                null|                null|          null|                null|                null|                null|     null|            null|   null|         null|      null|    null|\n",
      "|                null|                null|          null|                null|                null|                null|     null|            null|   null|         null|      null|    null|\n",
      "| perfectly expres...|https://www.goodr...|          32.0|       9780698114272|https://www.goodr...|https://s.gr-asse...|    38565|        Children|   null|         null|      null|    null|\n",
      "+--------------------+--------------------+--------------+--------------------+--------------------+--------------------+---------+----------------+-------+-------------+----------+--------+\n",
      "only showing top 5 rows\n",
      "\n"
     ]
    }
   ],
   "source": [
    "cols = (\"isbn\",\"is_ebook\",\"kindle_asin\", \"country_code\", \"language_code\", \"asin\",\"description\", \"format\", \"link\", \"publication_day\", \"isbn13\",\n",
    "        \"publication_month\", \"edition_information\", \"url\", \"image_url\", \"work_id\", \"text_reviews_count\", \"title_without_series\")\n",
    "\n",
    "books = books.drop(*cols)\n",
    "books.show(5)\n",
    "books = books.select(\"book_id\",\"title\",\"genre\",\"authors\",\"publisher\", \"average_rating\", \"publication_year\", \"popular_shelves\", \"similar_books\", \"ratings_count\")\n",
    "books = books.dropDuplicates([\"book_id\"])"
   ]
  },
  {
   "cell_type": "code",
   "execution_count": 32,
   "id": "c00ff45c",
   "metadata": {},
   "outputs": [
    {
     "name": "stdout",
     "output_type": "stream",
     "text": [
      "+--------------------+--------------------+--------------------+--------------------+--------------------+--------------+--------------------+--------------------+--------------------+--------------------+\n",
      "|             book_id|               title|               genre|             authors|           publisher|average_rating|    publication_year|     popular_shelves|       similar_books|       ratings_count|\n",
      "+--------------------+--------------------+--------------------+--------------------+--------------------+--------------+--------------------+--------------------+--------------------+--------------------+\n",
      "| \"\" but his image...|[{'author_id': '1...|               784.0|   wild anachronisms| hallucinatory ha...|          4.12|              photos|[{'count': '522',...|['855422', '84351...|           Paperback|\n",
      "|        Edwin Torres|                null|                null|          Bob Holman| Christian X. Hunter|    Kathy Ebel|        Hal Sirowitz|          Todd Colby|      Janice Erlbaum|           Emily XYZ|\n",
      "|            U Tam'si|             Waldman|    the Vienna Group|            Rukeyser|               Jabes|          4.46|            Ginsberg|[{'count': '107',...|['459', '418201',...|              Baraka|\n",
      "| and \"\"stories in...| the strands of t...|https://www.goodr...| giving drink to ...| food to the fami...|           3.8| but also his own...|[{'count': '311',...|['1331638', '7158...| including his un...|\n",
      "+--------------------+--------------------+--------------------+--------------------+--------------------+--------------+--------------------+--------------------+--------------------+--------------------+\n",
      "only showing top 4 rows\n",
      "\n"
     ]
    }
   ],
   "source": [
    "books.show(4)"
   ]
  },
  {
   "cell_type": "markdown",
   "id": "30dab35e",
   "metadata": {},
   "source": [
    "# Training ALS with Cross Validation"
   ]
  },
  {
   "cell_type": "code",
   "execution_count": 98,
   "id": "e03d3459",
   "metadata": {},
   "outputs": [],
   "source": [
    "(training, test) = interactions.randomSplit([0.8, 0.2])\n",
    "\n",
    "# Build the recommendation model using ALS on the training data\n",
    "# Note we set cold start strategy to 'drop' to ensure we don't get NaN evaluation metrics\n",
    "als = ALS(maxIter=5, regParam=0.01, userCol=\"user_id\", itemCol=\"book_id\", ratingCol=\"rating\",\n",
    "          coldStartStrategy=\"drop\", nonnegative = True, implicitPrefs = False)\n",
    "model = als.fit(training)"
   ]
  },
  {
   "cell_type": "code",
   "execution_count": 99,
   "id": "5218b98e",
   "metadata": {},
   "outputs": [
    {
     "name": "stdout",
     "output_type": "stream",
     "text": [
      "Num models to be tested using param_grid:  64\n"
     ]
    }
   ],
   "source": [
    "param_grid = ParamGridBuilder() \\\n",
    " .addGrid(als.rank, [10, 50, 75, 100]) \\\n",
    " .addGrid(als.maxIter, [5, 50, 75, 100]) \\\n",
    " .addGrid(als.regParam, [.01, .05, .1, .15]) \\\n",
    " .build()\n",
    "\n",
    "evaluator = RegressionEvaluator(metricName = \"rmse\", \n",
    " labelCol = \"rating\", \n",
    " predictionCol = \"prediction\")\n",
    "\n",
    "print (\"Num models to be tested using param_grid: \", len(param_grid))"
   ]
  },
  {
   "cell_type": "code",
   "execution_count": 100,
   "id": "c81332bd",
   "metadata": {},
   "outputs": [
    {
     "name": "stdout",
     "output_type": "stream",
     "text": [
      "+-------+-------+-------+------+-----------+----------+----------+\n",
      "|user_id|book_id|is_read|rating|is_reviewed|user_count|prediction|\n",
      "+-------+-------+-------+------+-----------+----------+----------+\n",
      "|    471|   1387|      1|     3|        0.0|        19| 3.0971603|\n",
      "|    471|  14706|      1|     5|        0.0|        19|  3.692721|\n",
      "|    471|  28726|      1|     5|        0.0|        19| 1.7009088|\n",
      "|    496|  20396|      1|     5|        0.0|        11|  3.764448|\n",
      "|    496|  60220|      1|     4|        0.0|        11| 3.5646281|\n",
      "|    833|   1434|      1|     1|        0.0|         7| 2.0837808|\n",
      "|    833|  60834|      1|     4|        0.0|         7| 2.1608448|\n",
      "|   1238|    586|      1|     3|        0.0|        26|  4.651348|\n",
      "|   1238|   5402|      1|     5|        0.0|        26|  3.722077|\n",
      "|   1238|   6687|      1|     5|        0.0|        26|  6.006633|\n",
      "+-------+-------+-------+------+-----------+----------+----------+\n",
      "only showing top 10 rows\n",
      "\n"
     ]
    }
   ],
   "source": [
    "cv = CrossValidator(estimator = als, \n",
    " estimatorParamMaps = param_grid, \n",
    " evaluator = evaluator, \n",
    " numFolds = 5)\n",
    "\n",
    "model = als.fit(training)\n",
    "predictions = model.transform(test)\n",
    "\n",
    "predictions.show(n = 10)"
   ]
  },
  {
   "cell_type": "code",
   "execution_count": 101,
   "id": "822c7707",
   "metadata": {},
   "outputs": [
    {
     "name": "stdout",
     "output_type": "stream",
     "text": [
      "Root-mean-square error = 1.6296875119269387\n"
     ]
    }
   ],
   "source": [
    "rmse = evaluator.evaluate(predictions)\n",
    "print(\"Root-mean-square error = \" + str(rmse))"
   ]
  },
  {
   "cell_type": "markdown",
   "id": "ac59cff4",
   "metadata": {},
   "source": [
    "# Rounding Predictions"
   ]
  },
  {
   "cell_type": "code",
   "execution_count": 103,
   "id": "75913255",
   "metadata": {},
   "outputs": [],
   "source": [
    "predictions = predictions.withColumn(\"rounded_prediction\", round(col(\"prediction\"), 0))\n",
    "predictions = predictions.withColumn(\"rounded_prediction\",predictions[\"rounded_prediction\"].cast(\"int\"))\n"
   ]
  },
  {
   "cell_type": "code",
   "execution_count": 105,
   "id": "8c389536",
   "metadata": {},
   "outputs": [
    {
     "name": "stdout",
     "output_type": "stream",
     "text": [
      "+-------+-------+-------+------+-----------+----------+----------+\n",
      "|user_id|book_id|is_read|rating|is_reviewed|user_count|prediction|\n",
      "+-------+-------+-------+------+-----------+----------+----------+\n",
      "|    471|   1387|      1|     3|        0.0|        19|         3|\n",
      "|    471|  14706|      1|     5|        0.0|        19|         4|\n",
      "|    471|  28726|      1|     5|        0.0|        19|         2|\n",
      "|    496|  20396|      1|     5|        0.0|        11|         4|\n",
      "|    496|  60220|      1|     4|        0.0|        11|         4|\n",
      "|    833|   1434|      1|     1|        0.0|         7|         2|\n",
      "|    833|  60834|      1|     4|        0.0|         7|         2|\n",
      "|   1238|    586|      1|     3|        0.0|        26|         5|\n",
      "|   1238|   5402|      1|     5|        0.0|        26|         4|\n",
      "|   1238|   6687|      1|     5|        0.0|        26|         5|\n",
      "+-------+-------+-------+------+-----------+----------+----------+\n",
      "only showing top 10 rows\n",
      "\n"
     ]
    }
   ],
   "source": [
    "new_pred = predictions.drop(col(\"prediction\"))\n",
    "\n",
    "new_pred = new_pred.withColumnRenamed(\"rounded_prediction\", \"prediction\")\n",
    "new_pred = new_pred.withColumn(\"prediction\", when(new_pred[\"prediction\"] > 5, 5).otherwise(new_pred['prediction']).alias(\"prediction\"))\n",
    "\n",
    "new_pred.show(n=10)"
   ]
  },
  {
   "cell_type": "code",
   "execution_count": 107,
   "id": "9321581d",
   "metadata": {},
   "outputs": [
    {
     "name": "stdout",
     "output_type": "stream",
     "text": [
      "Root-mean-square error = 1.279026391771162\n"
     ]
    }
   ],
   "source": [
    "rmse = evaluator.evaluate(new_pred)\n",
    "print(\"Root-mean-square error = \" + str(rmse))"
   ]
  },
  {
   "cell_type": "code",
   "execution_count": 106,
   "id": "59efc2a3",
   "metadata": {},
   "outputs": [
    {
     "name": "stderr",
     "output_type": "stream",
     "text": [
      "\r",
      "[Stage 1928:>                                                       (0 + 1) / 1]\r",
      "\r",
      "                                                                                \r"
     ]
    },
    {
     "data": {
      "text/plain": [
       "0.34344425902293774"
      ]
     },
     "execution_count": 106,
     "metadata": {},
     "output_type": "execute_result"
    }
   ],
   "source": [
    "new_pred = new_pred.withColumn(\"prediction\",new_pred[\"prediction\"].cast(\"double\"))\n",
    "\n",
    "eval_accuracy = MulticlassClassificationEvaluator(labelCol=\"rating\", predictionCol=\"prediction\", metricName=\"accuracy\")\n",
    "eval_precision = MulticlassClassificationEvaluator(labelCol=\"rating\", predictionCol=\"prediction\", metricName=\"precisionByLabel\")\n",
    "eval_recall = MulticlassClassificationEvaluator(labelCol=\"rating\", predictionCol=\"prediction\", metricName=\"recallByLabel\")\n",
    "eval_f1 = MulticlassClassificationEvaluator(labelCol=\"rating\", predictionCol=\"prediction\", metricName=\"f1\")\n",
    "\n",
    "accuracy = eval_accuracy.evaluate(new_pred)\n",
    "# precision = eval_precision.evaluate(new_pred)\n",
    "# recall = eval_recall.evaluate(new_pred)\n",
    "# f1score = eval_f1.evaluate(new_pred)\n",
    "accuracy"
   ]
  },
  {
   "cell_type": "markdown",
   "id": "658ab2a0",
   "metadata": {},
   "source": [
    "# Recommendations"
   ]
  },
  {
   "cell_type": "code",
   "execution_count": 18,
   "id": "aefc2169",
   "metadata": {},
   "outputs": [
    {
     "name": "stderr",
     "output_type": "stream",
     "text": [
      "/home/cliodhna/miniconda3/envs/JupyterBook/lib/python3.7/site-packages/pyspark/sql/context.py:127: FutureWarning: Deprecated in 3.0.0. Use SparkSession.builder.getOrCreate() instead.\n",
      "  FutureWarning\n"
     ]
    }
   ],
   "source": [
    "userRecs = model.recommendForAllUsers(10)\n",
    "bookRecs = model.recommendForAllItems(5)"
   ]
  },
  {
   "cell_type": "code",
   "execution_count": 19,
   "id": "746eb5c2",
   "metadata": {},
   "outputs": [
    {
     "name": "stderr",
     "output_type": "stream",
     "text": [
      "[Stage 252:====================================================> (97 + 3) / 100]\r"
     ]
    },
    {
     "name": "stdout",
     "output_type": "stream",
     "text": [
      "+-------+--------------------------------------------------------------------------------------------------+\n",
      "|book_id|recommendations                                                                                   |\n",
      "+-------+--------------------------------------------------------------------------------------------------+\n",
      "|236    |[{7115, 7.9971437}, {137, 7.3445115}, {16429, 6.667948}, {341, 6.522622}, {128, 6.5151815}]       |\n",
      "|1068   |[{10344, 7.718821}, {552, 7.561115}, {1813, 7.0963063}, {9178, 7.01012}, {971, 6.8828287}]        |\n",
      "|1226   |[{3132, 7.3775134}, {6814, 6.982759}, {4796, 6.948283}, {1269, 6.5885906}, {15352, 6.291789}]     |\n",
      "|1265   |[{3132, 9.6307}, {4796, 8.80101}, {16863, 8.458717}, {15703, 8.347777}, {10462, 7.99389}]         |\n",
      "|1363   |[{552, 12.575844}, {16863, 11.4340725}, {10683, 11.297866}, {1292, 11.236174}, {16720, 11.196016}]|\n",
      "+-------+--------------------------------------------------------------------------------------------------+\n",
      "only showing top 5 rows\n",
      "\n"
     ]
    },
    {
     "name": "stderr",
     "output_type": "stream",
     "text": [
      "\r",
      "                                                                                \r"
     ]
    }
   ],
   "source": [
    "bookRecs.show(5, False)"
   ]
  },
  {
   "cell_type": "code",
   "execution_count": 20,
   "id": "4289f3e6",
   "metadata": {
    "scrolled": false
   },
   "outputs": [
    {
     "name": "stderr",
     "output_type": "stream",
     "text": [
      "[Stage 281:================================================>     (90 + 8) / 100]\r"
     ]
    },
    {
     "name": "stdout",
     "output_type": "stream",
     "text": [
      "+-------+---------------------------------------------------------------------------------------------------------------------------------------------------------------------------------------------------------------+\n",
      "|user_id|recommendations                                                                                                                                                                                                |\n",
      "+-------+---------------------------------------------------------------------------------------------------------------------------------------------------------------------------------------------------------------+\n",
      "|26     |[{553387, 14.715152}, {816582, 14.715152}, {816581, 14.715152}, {116511, 14.715152}, {864757, 13.87485}, {864758, 13.87485}, {258334, 13.384239}, {144350, 12.89467}, {377891, 12.761853}, {43488, 12.75015}]  |\n",
      "|28     |[{15245, 7.530599}, {397183, 7.4533806}, {229575, 7.4522176}, {43536, 7.3541775}, {43747, 7.241123}, {116511, 7.131547}, {816582, 7.131547}, {553387, 7.131547}, {816581, 7.131547}, {360150, 7.083827}]       |\n",
      "|31     |[{397182, 17.480865}, {397183, 15.768839}, {43738, 12.667223}, {232035, 12.397536}, {12144, 12.183282}, {490973, 11.892536}, {258334, 11.881894}, {864758, 11.756601}, {864757, 11.756601}, {320845, 11.18874}]|\n",
      "|34     |[{397182, 19.055439}, {397183, 16.872574}, {70953, 15.625191}, {49566, 15.588598}, {272320, 15.021772}, {292046, 14.710904}, {38969, 14.484681}, {43666, 14.34849}, {292386, 13.732887}, {292047, 13.732887}]  |\n",
      "|44     |[{397182, 12.4402485}, {397183, 11.115492}, {49566, 9.024681}, {360150, 8.801603}, {70953, 8.489746}, {70490, 7.9712276}, {72771, 7.771709}, {292046, 7.729995}, {115725, 7.703038}, {272320, 7.550004}]       |\n",
      "+-------+---------------------------------------------------------------------------------------------------------------------------------------------------------------------------------------------------------------+\n",
      "only showing top 5 rows\n",
      "\n"
     ]
    },
    {
     "name": "stderr",
     "output_type": "stream",
     "text": [
      "\r",
      "                                                                                \r"
     ]
    }
   ],
   "source": [
    "userRecs.show(5, False)"
   ]
  },
  {
   "cell_type": "markdown",
   "id": "4ced9762",
   "metadata": {},
   "source": [
    "# Making score column in pandas"
   ]
  },
  {
   "cell_type": "code",
   "execution_count": 210,
   "id": "204c8e7a",
   "metadata": {},
   "outputs": [
    {
     "name": "stderr",
     "output_type": "stream",
     "text": [
      "/home/cliodhna/miniconda3/envs/JupyterBook/lib/python3.7/site-packages/pyspark/sql/context.py:127: FutureWarning: Deprecated in 3.0.0. Use SparkSession.builder.getOrCreate() instead.\n",
      "  FutureWarning\n"
     ]
    }
   ],
   "source": [
    "user_recs = model.recommendForAllUsers(100)"
   ]
  },
  {
   "cell_type": "code",
   "execution_count": 211,
   "id": "8b92b851",
   "metadata": {
    "scrolled": false
   },
   "outputs": [
    {
     "name": "stderr",
     "output_type": "stream",
     "text": [
      "                                                                                \r"
     ]
    },
    {
     "data": {
      "text/html": [
       "<div>\n",
       "<style scoped>\n",
       "    .dataframe tbody tr th:only-of-type {\n",
       "        vertical-align: middle;\n",
       "    }\n",
       "\n",
       "    .dataframe tbody tr th {\n",
       "        vertical-align: top;\n",
       "    }\n",
       "\n",
       "    .dataframe thead th {\n",
       "        text-align: right;\n",
       "    }\n",
       "</style>\n",
       "<table border=\"1\" class=\"dataframe\">\n",
       "  <thead>\n",
       "    <tr style=\"text-align: right;\">\n",
       "      <th></th>\n",
       "      <th>user_id</th>\n",
       "      <th>recommendations</th>\n",
       "    </tr>\n",
       "  </thead>\n",
       "  <tbody>\n",
       "    <tr>\n",
       "      <th>0</th>\n",
       "      <td>26</td>\n",
       "      <td>[(864386, 17.755340576171875), (864758, 17.755...</td>\n",
       "    </tr>\n",
       "    <tr>\n",
       "      <th>1</th>\n",
       "      <td>28</td>\n",
       "      <td>[(397183, 10.6409330368042), (125232, 9.860329...</td>\n",
       "    </tr>\n",
       "    <tr>\n",
       "      <th>2</th>\n",
       "      <td>31</td>\n",
       "      <td>[(816581, 13.870176315307617), (816582, 13.870...</td>\n",
       "    </tr>\n",
       "    <tr>\n",
       "      <th>3</th>\n",
       "      <td>34</td>\n",
       "      <td>[(492565, 17.5319766998291), (432016, 16.87717...</td>\n",
       "    </tr>\n",
       "    <tr>\n",
       "      <th>4</th>\n",
       "      <td>44</td>\n",
       "      <td>[(688081, 11.493675231933594), (125232, 10.683...</td>\n",
       "    </tr>\n",
       "    <tr>\n",
       "      <th>...</th>\n",
       "      <td>...</td>\n",
       "      <td>...</td>\n",
       "    </tr>\n",
       "    <tr>\n",
       "      <th>9917</th>\n",
       "      <td>22982</td>\n",
       "      <td>[(43747, 21.323205947875977), (124740, 19.1596...</td>\n",
       "    </tr>\n",
       "    <tr>\n",
       "      <th>9918</th>\n",
       "      <td>23098</td>\n",
       "      <td>[(212936, 20.873018264770508), (397183, 20.474...</td>\n",
       "    </tr>\n",
       "    <tr>\n",
       "      <th>9919</th>\n",
       "      <td>23161</td>\n",
       "      <td>[(43747, 12.351412773132324), (183220, 11.7844...</td>\n",
       "    </tr>\n",
       "    <tr>\n",
       "      <th>9920</th>\n",
       "      <td>23181</td>\n",
       "      <td>[(397183, 9.964000701904297), (43747, 9.156210...</td>\n",
       "    </tr>\n",
       "    <tr>\n",
       "      <th>9921</th>\n",
       "      <td>23187</td>\n",
       "      <td>[(432016, 19.84044075012207), (60263, 19.13101...</td>\n",
       "    </tr>\n",
       "  </tbody>\n",
       "</table>\n",
       "<p>9922 rows × 2 columns</p>\n",
       "</div>"
      ],
      "text/plain": [
       "      user_id                                    recommendations\n",
       "0          26  [(864386, 17.755340576171875), (864758, 17.755...\n",
       "1          28  [(397183, 10.6409330368042), (125232, 9.860329...\n",
       "2          31  [(816581, 13.870176315307617), (816582, 13.870...\n",
       "3          34  [(492565, 17.5319766998291), (432016, 16.87717...\n",
       "4          44  [(688081, 11.493675231933594), (125232, 10.683...\n",
       "...       ...                                                ...\n",
       "9917    22982  [(43747, 21.323205947875977), (124740, 19.1596...\n",
       "9918    23098  [(212936, 20.873018264770508), (397183, 20.474...\n",
       "9919    23161  [(43747, 12.351412773132324), (183220, 11.7844...\n",
       "9920    23181  [(397183, 9.964000701904297), (43747, 9.156210...\n",
       "9921    23187  [(432016, 19.84044075012207), (60263, 19.13101...\n",
       "\n",
       "[9922 rows x 2 columns]"
      ]
     },
     "execution_count": 211,
     "metadata": {},
     "output_type": "execute_result"
    }
   ],
   "source": [
    "df = user_recs.toPandas()\n",
    "df"
   ]
  },
  {
   "cell_type": "code",
   "execution_count": 212,
   "id": "12216915",
   "metadata": {},
   "outputs": [],
   "source": [
    "df = df.assign(recommendations=list(df.recommendations)).explode('recommendations')\n",
    "\n",
    "lst = [(x[0], x[1]) for x in df.recommendations]\n",
    "df[['book_id', 'value']] = lst"
   ]
  },
  {
   "cell_type": "code",
   "execution_count": 213,
   "id": "9d457795",
   "metadata": {},
   "outputs": [],
   "source": [
    "max_values = df.groupby(['user_id'], sort=False)['value'].max()\n",
    "df = df.merge(max_values, how='left', left_on='user_id', right_index=True)\n",
    "df.columns = ['user_id', 'recommendations', 'book_id', 'value', 'max']\n",
    "df['score'] = df['value'] / df['max']"
   ]
  },
  {
   "cell_type": "code",
   "execution_count": 214,
   "id": "d8e0d544",
   "metadata": {},
   "outputs": [
    {
     "data": {
      "text/html": [
       "<div>\n",
       "<style scoped>\n",
       "    .dataframe tbody tr th:only-of-type {\n",
       "        vertical-align: middle;\n",
       "    }\n",
       "\n",
       "    .dataframe tbody tr th {\n",
       "        vertical-align: top;\n",
       "    }\n",
       "\n",
       "    .dataframe thead th {\n",
       "        text-align: right;\n",
       "    }\n",
       "</style>\n",
       "<table border=\"1\" class=\"dataframe\">\n",
       "  <thead>\n",
       "    <tr style=\"text-align: right;\">\n",
       "      <th></th>\n",
       "      <th>user_id</th>\n",
       "      <th>recommendations</th>\n",
       "      <th>book_id</th>\n",
       "      <th>value</th>\n",
       "      <th>max</th>\n",
       "      <th>score</th>\n",
       "    </tr>\n",
       "  </thead>\n",
       "  <tbody>\n",
       "    <tr>\n",
       "      <th>0</th>\n",
       "      <td>26</td>\n",
       "      <td>(864386, 17.755340576171875)</td>\n",
       "      <td>864386.0</td>\n",
       "      <td>17.755341</td>\n",
       "      <td>17.755341</td>\n",
       "      <td>1.000000</td>\n",
       "    </tr>\n",
       "    <tr>\n",
       "      <th>0</th>\n",
       "      <td>26</td>\n",
       "      <td>(864758, 17.755340576171875)</td>\n",
       "      <td>864758.0</td>\n",
       "      <td>17.755341</td>\n",
       "      <td>17.755341</td>\n",
       "      <td>1.000000</td>\n",
       "    </tr>\n",
       "    <tr>\n",
       "      <th>0</th>\n",
       "      <td>26</td>\n",
       "      <td>(864757, 17.755340576171875)</td>\n",
       "      <td>864757.0</td>\n",
       "      <td>17.755341</td>\n",
       "      <td>17.755341</td>\n",
       "      <td>1.000000</td>\n",
       "    </tr>\n",
       "    <tr>\n",
       "      <th>0</th>\n",
       "      <td>26</td>\n",
       "      <td>(432016, 15.268040657043457)</td>\n",
       "      <td>432016.0</td>\n",
       "      <td>15.268041</td>\n",
       "      <td>17.755341</td>\n",
       "      <td>0.859913</td>\n",
       "    </tr>\n",
       "    <tr>\n",
       "      <th>0</th>\n",
       "      <td>26</td>\n",
       "      <td>(492565, 14.56356143951416)</td>\n",
       "      <td>492565.0</td>\n",
       "      <td>14.563561</td>\n",
       "      <td>17.755341</td>\n",
       "      <td>0.820236</td>\n",
       "    </tr>\n",
       "    <tr>\n",
       "      <th>...</th>\n",
       "      <td>...</td>\n",
       "      <td>...</td>\n",
       "      <td>...</td>\n",
       "      <td>...</td>\n",
       "      <td>...</td>\n",
       "      <td>...</td>\n",
       "    </tr>\n",
       "    <tr>\n",
       "      <th>9921</th>\n",
       "      <td>23187</td>\n",
       "      <td>(45684, 12.045822143554688)</td>\n",
       "      <td>45684.0</td>\n",
       "      <td>12.045822</td>\n",
       "      <td>19.840441</td>\n",
       "      <td>0.607135</td>\n",
       "    </tr>\n",
       "    <tr>\n",
       "      <th>9921</th>\n",
       "      <td>23187</td>\n",
       "      <td>(38969, 12.024578094482422)</td>\n",
       "      <td>38969.0</td>\n",
       "      <td>12.024578</td>\n",
       "      <td>19.840441</td>\n",
       "      <td>0.606064</td>\n",
       "    </tr>\n",
       "    <tr>\n",
       "      <th>9921</th>\n",
       "      <td>23187</td>\n",
       "      <td>(127722, 12.022064208984375)</td>\n",
       "      <td>127722.0</td>\n",
       "      <td>12.022064</td>\n",
       "      <td>19.840441</td>\n",
       "      <td>0.605937</td>\n",
       "    </tr>\n",
       "    <tr>\n",
       "      <th>9921</th>\n",
       "      <td>23187</td>\n",
       "      <td>(13083, 12.01167106628418)</td>\n",
       "      <td>13083.0</td>\n",
       "      <td>12.011671</td>\n",
       "      <td>19.840441</td>\n",
       "      <td>0.605414</td>\n",
       "    </tr>\n",
       "    <tr>\n",
       "      <th>9921</th>\n",
       "      <td>23187</td>\n",
       "      <td>(15650, 12.010590553283691)</td>\n",
       "      <td>15650.0</td>\n",
       "      <td>12.010591</td>\n",
       "      <td>19.840441</td>\n",
       "      <td>0.605359</td>\n",
       "    </tr>\n",
       "  </tbody>\n",
       "</table>\n",
       "<p>992200 rows × 6 columns</p>\n",
       "</div>"
      ],
      "text/plain": [
       "      user_id               recommendations   book_id      value        max  \\\n",
       "0          26  (864386, 17.755340576171875)  864386.0  17.755341  17.755341   \n",
       "0          26  (864758, 17.755340576171875)  864758.0  17.755341  17.755341   \n",
       "0          26  (864757, 17.755340576171875)  864757.0  17.755341  17.755341   \n",
       "0          26  (432016, 15.268040657043457)  432016.0  15.268041  17.755341   \n",
       "0          26   (492565, 14.56356143951416)  492565.0  14.563561  17.755341   \n",
       "...       ...                           ...       ...        ...        ...   \n",
       "9921    23187   (45684, 12.045822143554688)   45684.0  12.045822  19.840441   \n",
       "9921    23187   (38969, 12.024578094482422)   38969.0  12.024578  19.840441   \n",
       "9921    23187  (127722, 12.022064208984375)  127722.0  12.022064  19.840441   \n",
       "9921    23187    (13083, 12.01167106628418)   13083.0  12.011671  19.840441   \n",
       "9921    23187   (15650, 12.010590553283691)   15650.0  12.010591  19.840441   \n",
       "\n",
       "         score  \n",
       "0     1.000000  \n",
       "0     1.000000  \n",
       "0     1.000000  \n",
       "0     0.859913  \n",
       "0     0.820236  \n",
       "...        ...  \n",
       "9921  0.607135  \n",
       "9921  0.606064  \n",
       "9921  0.605937  \n",
       "9921  0.605414  \n",
       "9921  0.605359  \n",
       "\n",
       "[992200 rows x 6 columns]"
      ]
     },
     "execution_count": 214,
     "metadata": {},
     "output_type": "execute_result"
    }
   ],
   "source": [
    "df"
   ]
  },
  {
   "cell_type": "markdown",
   "id": "9c500882",
   "metadata": {},
   "source": [
    "# Exploring recommendations"
   ]
  },
  {
   "cell_type": "code",
   "execution_count": 21,
   "id": "061e2920",
   "metadata": {},
   "outputs": [],
   "source": [
    "top_users = interactions.groupBy(interactions['user_id']).agg({'rating':\"count\"}).sort(\"count(rating)\", ascending=False).dropna().limit(10)"
   ]
  },
  {
   "cell_type": "code",
   "execution_count": 22,
   "id": "08276139",
   "metadata": {},
   "outputs": [
    {
     "name": "stdout",
     "output_type": "stream",
     "text": [
      "+-------+-------------+\n",
      "|user_id|count(rating)|\n",
      "+-------+-------------+\n",
      "|   9880|          195|\n",
      "|   6678|          150|\n",
      "|  15833|          148|\n",
      "|  18539|          143|\n",
      "|  19445|          132|\n",
      "|   7261|          131|\n",
      "|  14864|          129|\n",
      "|  16279|          118|\n",
      "|  17077|          115|\n",
      "|   9217|          115|\n",
      "+-------+-------------+\n",
      "\n"
     ]
    }
   ],
   "source": [
    "top_users.show()"
   ]
  },
  {
   "cell_type": "code",
   "execution_count": 23,
   "id": "f2f63a32",
   "metadata": {},
   "outputs": [],
   "source": [
    "top_user_list = [row.user_id for row in top_users.select('user_id').collect()]"
   ]
  },
  {
   "cell_type": "code",
   "execution_count": 203,
   "id": "58834435",
   "metadata": {},
   "outputs": [
    {
     "name": "stderr",
     "output_type": "stream",
     "text": [
      "                                                                                \r"
     ]
    },
    {
     "data": {
      "text/plain": [
       "dict_keys([9880, 6678, 15833, 18539, 19445, 7261, 14864, 16279, 17077, 9217])"
      ]
     },
     "execution_count": 203,
     "metadata": {},
     "output_type": "execute_result"
    }
   ],
   "source": [
    "d = {}\n",
    "for user in top_user_list:\n",
    "    rec = userRecs.where(userRecs.user_id == user).select(\"recommendations\").collect()\n",
    "    d[user] = [i.book_id for i in rec[0][\"recommendations\"]]\n",
    "d.keys()"
   ]
  },
  {
   "cell_type": "code",
   "execution_count": 206,
   "id": "4cf616e0",
   "metadata": {},
   "outputs": [],
   "source": [
    "rec_1 = books.filter(books[\"book_id\"].isin(d[7261]))"
   ]
  },
  {
   "cell_type": "code",
   "execution_count": 207,
   "id": "d55fc931",
   "metadata": {
    "scrolled": false
   },
   "outputs": [
    {
     "name": "stdout",
     "output_type": "stream",
     "text": [
      "+-------+--------------------+-----------------+--------------------+------------------+--------------+----------------+--------------------+--------------------+-------------+\n",
      "|book_id|               title|            genre|             authors|         publisher|average_rating|publication_year|     popular_shelves|       similar_books|ratings_count|\n",
      "+-------+--------------------+-----------------+--------------------+------------------+--------------+----------------+--------------------+--------------------+-------------+\n",
      "| 816582|If I Had You (de ...|History/Biography|[{'author_id': '1...|Berkley Publishing|           4.2|          2000.0|[{'count': '649',...|['50742', '121591...|         1914|\n",
      "| 864758|Knocked Out by My...|      Young Adult|[{'author_id': '6...|    Harper Collins|          3.97|          2006.0|[{'count': '6704'...|['405838', '51618...|          957|\n",
      "| 864757|'... then he ate ...|      Young Adult|[{'author_id': '6...|              null|          4.09|            null|[{'count': '2007'...|['8013391', '9152...|          282|\n",
      "| 126284|      Yoga Tradition|History/Biography|[{'author_id': '7...|        Hohm Press|          4.11|          2001.0|[{'count': '746',...|['810280', '19951...|          364|\n",
      "| 397183|Decisions (Sweet ...|      Young Adult|[{'author_id': '2...|      Bantam Books|          3.37|          1988.0|[{'count': '220',...|['1044854', '8504...|          440|\n",
      "+-------+--------------------+-----------------+--------------------+------------------+--------------+----------------+--------------------+--------------------+-------------+\n",
      "\n"
     ]
    }
   ],
   "source": [
    "rec_1.show()"
   ]
  },
  {
   "cell_type": "markdown",
   "id": "5fe26d92",
   "metadata": {},
   "source": [
    "Young adult and history/biography. The user has read a lot of history/biography but not much young adult so thats a bit of a strange recommendation."
   ]
  },
  {
   "cell_type": "code",
   "execution_count": 229,
   "id": "7d7f73b8",
   "metadata": {},
   "outputs": [
    {
     "name": "stdout",
     "output_type": "stream",
     "text": [
      "+-------+--------------------+-----------------+--------------------+--------------------+--------------+----------------+--------------------+--------------------+-------------+\n",
      "|book_id|               title|            genre|             authors|           publisher|average_rating|publication_year|     popular_shelves|       similar_books|ratings_count|\n",
      "+-------+--------------------+-----------------+--------------------+--------------------+--------------+----------------+--------------------+--------------------+-------------+\n",
      "| 118222|The Corpse in Ooz...|          Mystery|[{'author_id': '6...|The Mysterious Press|          3.76|          1988.0|[{'count': '149',...|['673410', '86058...|          453|\n",
      "| 128605|Chester Cricket's...|         Children|[{'author_id': '1...|            Yearling|           3.7|          1984.0|[{'count': '149',...|['460620', '10460...|          266|\n",
      "|  12937|See You Around, S...|         Children|[{'author_id': '2...|            Yearling|          3.66|          1998.0|[{'count': '155',...|['251240', '37113...|          228|\n",
      "|   3399| Birds Without Wings|History/Biography|[{'author_id': '2...|             Vintage|          4.16|          2005.0|[{'count': '9595'...|['256754', '14339...|         7714|\n",
      "|    586|Art of Modern Roc...|           Comics|[{'author_id': '3...|     Chronicle Books|          4.11|          2004.0|[{'count': '722',...|['257999', '67124...|         1086|\n",
      "|  65977|Dykes to Watch Ou...|           Comics|[{'author_id': '2...|     Firebrand Books|          4.16|          1986.0|[{'count': '2740'...|['277741', '87818...|         2299|\n",
      "|  77730|Weirdos from Anot...|           Comics|[{'author_id': '1...|Andrews McMeel Pu...|          4.71|          1990.0|[{'count': '575',...|['899856', '52096...|         9441|\n",
      "|    870|Fullmetal Alchemi...|           Comics|[{'author_id': '4...|       VIZ Media LLC|          4.49|          2005.0|[{'count': '3926'...|['2882', '13577',...|        95704|\n",
      "|  18742|The Melancholy De...|           Poetry|[{'author_id': '5...|            It Books|          4.13|          2008.0|[{'count': '12422...|['205981', '19326...|          706|\n",
      "| 196757|Can't You Make Th...|         Children|[{'author_id': '2...|        Puffin Books|          3.89|          1996.0|[{'count': '344',...|['89963', '6471',...|          465|\n",
      "|  20184| Sins of the Fathers|          Mystery|[{'author_id': '1...|Zondervan Publish...|          3.82|          2005.0|[{'count': '338',...|['4286101', '5986...|          399|\n",
      "|  21436|Cat and Mouse (Al...|          Mystery|[{'author_id': '3...|      Hachette Audio|          3.96|          2007.0|[{'count': '6017'...|['37302', '105425...|        45775|\n",
      "|  22424|Transmetropolitan...|           Comics|[{'author_id': '1...|             Vertigo|          4.51|          2004.0|[{'count': '1362'...|['22406', '102955...|         9233|\n",
      "|  24307|The Pen Is Mighti...|         Children|[{'author_id': '1...|Scholastic Paperb...|          3.96|          2001.0|[{'count': '19', ...|['549455', '457424']|         1036|\n",
      "|  28564|Bloody River Blue...|          Mystery|[{'author_id': '5...|        Pocket Books|          3.39|          2000.0|[{'count': '31', ...|           ['28562']|          804|\n",
      "|  39030|Reliquary (Pender...|          Mystery|[{'author_id': '1...|           Tor Books|          4.01|          2005.0|[{'count': '494',...|['18416', '98807'...|        27799|\n",
      "|  41697|Cyclops (Dirk Pit...|          Mystery|[{'author_id': '1...|        Pocket Books|          3.85|          1986.0|[{'count': '1513'...|['28207', '784083...|        10530|\n",
      "| 646460|Claudia's Friend ...|         Children|[{'author_id': '2...|          Scholastic|           3.6|          1993.0|[{'count': '272',...| ['33282', '664147']|          649|\n",
      "|  77727|   Calvin and Hobbes|           Comics|[{'author_id': '1...|                null|          4.61|          1987.0|[{'count': '29881...|['109648', '13303...|       120371|\n",
      "| 128518|The Second Jungle...|         Children|[{'author_id': '6...|           Doubleday|          3.82|          2006.0|[{'count': '385',...|['6088378', '2485...|         1695|\n",
      "|  16298|A Murder Is Annou...|          Mystery|[{'author_id': '1...|Black Dog & Leven...|          3.96|          2006.0|[{'count': '1694'...|['93575', '280849...|        26502|\n",
      "|  29954|The Return of Merlin|          Fantasy|[{'author_id': '1...|Random House Valu...|          3.61|          1997.0|[{'count': '701',...|['195822', '48004...|          930|\n",
      "| 370804|    طرحی از یک زندگی|History/Biography|[{'author_id': '2...|                null|          3.35|          2007.0|[{'count': '104',...|['1380374', '5219...|          245|\n",
      "|  38154|     Orlando Furioso|           Poetry|[{'author_id': '2...|Oxford University...|          3.99|          1999.0|[{'count': '126',...|['875623', '75648...|         1965|\n",
      "| 123210|The Young Black S...|         Children|[{'author_id': '1...|Random House Book...|          3.96|          2003.0|[{'count': '979',...|         ['1124458']|         2416|\n",
      "|  14063|The Legend of the...|         Children|[{'author_id': '8...|        Puffin Books|          4.18|          1997.0|[{'count': '533',...|['835016', '87507...|         1909|\n",
      "| 146767|  Letters to Wendy's|           Poetry|[{'author_id': '8...|          Wave Books|          4.06|          2004.0|[{'count': '519',...|['493359', '10911...|          852|\n",
      "|  14707|     Faust, Part Two|           Poetry|[{'author_id': '2...|Oxford University...|          3.72|          1999.0|[{'count': '2808'...|['1330175', '3302...|         2917|\n",
      "|  14812|The Sword of Ange...|          Fantasy|[{'author_id': '9...|                null|          3.88|            null|[{'count': '585',...|['618146', '13762...|          769|\n",
      "| 213916|Evidence Not Seen...|History/Biography|[{'author_id': '1...|           HarperOne|          4.51|          2003.0|[{'count': '683',...|['152838', '35833...|         3581|\n",
      "|  23300|The Door to Time ...|         Children|[{'author_id': '4...|     Scholastic Inc.|          3.91|          2006.0|[{'count': '224',...|['7679224', '6322...|         2598|\n",
      "|  25673|         City of God|History/Biography|[{'author_id': '6...|   Penguin Books Ltd|          3.89|          2003.0|[{'count': '3944'...|['354007', '25711...|         7216|\n",
      "| 257153|Finder, Volume 3:...|           Comics|[{'author_id': '1...|        Be Beautiful|          4.43|          2007.0|[{'count': '456',...|['8315979', '2410...|         1449|\n",
      "| 339054|Who Was Ferdinand...|History/Biography|[{'author_id': '3...|    Grosset & Dunlap|          4.09|          2004.0|[{'count': '233',...|['901282', '40784...|          236|\n",
      "|   6537|From Potter's Fie...|          Mystery|[{'author_id': '1...|                null|          4.02|            null|[{'count': '1795'...|['128755', '17291...|        42004|\n",
      "|   8129|L.M. Montgomery's...|         Children|[{'author_id': '3...|    Grosset & Dunlap|          4.58|          2001.0|[{'count': '205',...|['2947877', '9191...|         6843|\n",
      "| 118217|        Miss America|History/Biography|[{'author_id': '8...|              Harper|          3.71|          1996.0|[{'count': '429',...|['13198', '811050...|         1685|\n",
      "| 146070|The Girls Who Wen...|History/Biography|[{'author_id': '6...|                null|          4.14|            null|[{'count': '1464'...|['531316', '67654...|          277|\n",
      "|  24312|The Best Is Yet t...|         Children|[{'author_id': '1...|    Turtleback Books|          4.05|          2004.0|[{'count': '202',...|['627848', '17116...|          455|\n",
      "|  24687|Don't Let's Go to...|History/Biography|[{'author_id': '1...|Random House Trad...|          3.96|          2003.0|[{'count': '5507'...|['6449208', '2314...|        39718|\n",
      "| 257152|Finder, Volume 2:...|           Comics|[{'author_id': '1...|        Be Beautiful|          4.44|          2001.0|[{'count': '439',...|['4161072', '8315...|         1780|\n",
      "|   7673|  Eaters of the Dead|History/Biography|[{'author_id': '5...|                null|          3.64|            null|[{'count': '8285'...|['19161908', '104...|        25262|\n",
      "|   8285|A Little House Bi...|         Children|[{'author_id': '5...|       HarperCollins|           4.1|          1998.0|[{'count': '154',...|['1444195', '3348...|          388|\n",
      "|  21337|Prodigal Son (Dea...|          Fantasy|[{'author_id': '9...|                null|          4.01|            null|[{'count': '1502'...|['1850178', '4673...|        26247|\n",
      "|    289|The Beloved: Refl...|           Poetry|[{'author_id': '6...|       Penguin Books|          4.18|          1998.0|[{'count': '441',...|['21406569', '272...|          300|\n",
      "|  55176|Careless Love: Th...|History/Biography|[{'author_id': '4...|      Back Bay Books|   sensitivity|          2000.0|               music| Careless Loveis ...|         2318|\n",
      "|  62027|                Jazz|           Poetry|[{'author_id': '1...|       Holiday House|          4.13|          2006.0|[{'count': '399',...|['1394477', '6198...|          503|\n",
      "|  87976|The Tower Treasur...|         Children|[{'author_id': '1...|     Applewood Books|          3.89|          1991.0|[{'count': '127',...|['157047', '18310...|        10131|\n",
      "|  21348|      Aesop's Fables|         Children|[{'author_id': '1...|Oxford University...|          4.05|          2003.0|[{'count': '34076...|['22917', '46306'...|        89588|\n",
      "|  39031|The Cabinet of Cu...|          Mystery|[{'author_id': '1...|        Warner Books|          4.26|          2003.0|[{'count': '4084'...|['18416', '294043...|        29529|\n",
      "|   6539|The Body Farm (Ka...|          Mystery|[{'author_id': '1...|             Berkley|          4.04|          2004.0|[{'count': '2144'...|['181116', '64397...|        51671|\n",
      "|    871|Fullmetal Alchemi...|           Comics|[{'author_id': '4...|       VIZ Media LLC|          4.55|          2005.0|[{'count': '1303'...|['13728', '294974...|         8833|\n",
      "| 100582|Strangers in Para...|           Comics|[{'author_id': '8...|     Abstract Studio|          4.28|          1997.0|[{'count': '89', ...|['422954', '74352...|          709|\n",
      "| 128609|Harry Cat's Pet P...|         Children|[{'author_id': '1...|            Yearling|          4.07|          1975.0|[{'count': '207',...|['460620', '36459...|          425|\n",
      "|  19189|    Poems, 1965-1975|           Poetry|[{'author_id': '2...|Farrar, Straus an...|          4.24|          1981.0|[{'count': '127',...|['131032', '10517...|          269|\n",
      "|  22425|Transmetropolitan...|           Comics|[{'author_id': '1...|             Vertigo|          4.45|          2003.0|[{'count': '1527'...|['22357', '102954...|         9320|\n",
      "|  27502|War Is a Force Th...|History/Biography|[{'author_id': '1...|                null|          4.15|            null|[{'count': '216',...|['187655', '4360'...|         4049|\n",
      "| 648052|     Collected Poems|           Poetry|[{'author_id': '3...|Farrar, Straus an...|          4.51|          1995.0|[{'count': '276',...|['250397', '40509...|          292|\n",
      "|   6534|Postmortem (Kay S...|          Mystery|[{'author_id': '1...|        Pocket Books|          4.01|          2003.0|[{'count': '10688...|['128752', '85425...|       170061|\n",
      "+-------+--------------------+-----------------+--------------------+--------------------+--------------+----------------+--------------------+--------------------+-------------+\n",
      "\n"
     ]
    }
   ],
   "source": [
    "user1_books = [x[0] for x in interactions.filter(interactions.user_id == 7261).select('book_id').collect()]\n",
    "user1 = books.filter(books[\"book_id\"].isin(user1_books))\n",
    "user1.show(100)"
   ]
  },
  {
   "cell_type": "code",
   "execution_count": 230,
   "id": "04a9a180",
   "metadata": {},
   "outputs": [
    {
     "name": "stdout",
     "output_type": "stream",
     "text": [
      "+-------+--------------------+-----------------+--------------------+------------------+--------------+----------------+--------------------+--------------------+-------------+\n",
      "|book_id|               title|            genre|             authors|         publisher|average_rating|publication_year|     popular_shelves|       similar_books|ratings_count|\n",
      "+-------+--------------------+-----------------+--------------------+------------------+--------------+----------------+--------------------+--------------------+-------------+\n",
      "| 816582|If I Had You (de ...|History/Biography|[{'author_id': '1...|Berkley Publishing|           4.2|          2000.0|[{'count': '649',...|['50742', '121591...|         1914|\n",
      "| 864758|Knocked Out by My...|      Young Adult|[{'author_id': '6...|    Harper Collins|          3.97|          2006.0|[{'count': '6704'...|['405838', '51618...|          957|\n",
      "| 864757|'... then he ate ...|      Young Adult|[{'author_id': '6...|              null|          4.09|            null|[{'count': '2007'...|['8013391', '9152...|          282|\n",
      "| 258334|Magician: Master ...|          Fantasy|[{'author_id': '8...|     Spectra Books|          4.25|          1986.0|[{'count': '9533'...|['8320534', '1847...|          227|\n",
      "| 397183|Decisions (Sweet ...|      Young Adult|[{'author_id': '2...|      Bantam Books|          3.37|          1988.0|[{'count': '220',...|['1044854', '8504...|          440|\n",
      "+-------+--------------------+-----------------+--------------------+------------------+--------------+----------------+--------------------+--------------------+-------------+\n",
      "\n"
     ]
    }
   ],
   "source": [
    "rec_2 = books.filter(books[\"book_id\"].isin(d[17077]))\n",
    "rec_2.show()"
   ]
  },
  {
   "cell_type": "code",
   "execution_count": 231,
   "id": "bd646904",
   "metadata": {},
   "outputs": [
    {
     "name": "stdout",
     "output_type": "stream",
     "text": [
      "+-------+--------------------+-----------------+--------------------+--------------------+--------------------+--------------------+--------------------+--------------------+-------------+\n",
      "|book_id|               title|            genre|             authors|           publisher|      average_rating|    publication_year|     popular_shelves|       similar_books|ratings_count|\n",
      "+-------+--------------------+-----------------+--------------------+--------------------+--------------------+--------------------+--------------------+--------------------+-------------+\n",
      "|  14654|Encyclopedia Brow...|         Children|[{'author_id': '9...|            Yearling|                4.04|              2000.0|[{'count': '303',...|['363271', '51071...|         3043|\n",
      "|   1496|  Iphigenia in Aulis|           Poetry|[{'author_id': '9...|Ivan R. Dee Publi...|                3.99|              1997.0|[{'count': '104',...|['237794', '76170...|         2211|\n",
      "|  16320|Witness for the P...|          Mystery|[{'author_id': '1...|HarperCollins Pub...|                4.05|              1995.0|[{'count': '1817'...|                  []|         3768|\n",
      "|  20508|Kill the Messenge...|History/Biography|[{'author_id': '1...|                null|                3.68|                null|[{'count': '640',...|['455652', '14376...|          246|\n",
      "|  29943|The Incognito Lounge|           Poetry|[{'author_id': '6...|                null|                4.27|                null|[{'count': '341',...|['10858542', '268...|          311|\n",
      "|    586|Art of Modern Roc...|           Comics|[{'author_id': '3...|     Chronicle Books|                4.11|              2004.0|[{'count': '722',...|['257999', '67124...|         1086|\n",
      "|  77730|Weirdos from Anot...|           Comics|[{'author_id': '1...|Andrews McMeel Pu...|                4.71|              1990.0|[{'count': '575',...|['899856', '52096...|         9441|\n",
      "|  24307|The Pen Is Mighti...|         Children|[{'author_id': '1...|Scholastic Paperb...|                3.96|              2001.0|[{'count': '19', ...|['549455', '457424']|         1036|\n",
      "|    484|Reinventing the E...|           Poetry|[{'author_id': '2...|W. W. Norton  Com...|                4.38|              1998.0|[{'count': '710',...|['112217', '50564...|          223|\n",
      "| 646460|Claudia's Friend ...|         Children|[{'author_id': '2...|          Scholastic|                 3.6|              1993.0|[{'count': '272',...| ['33282', '664147']|          649|\n",
      "|  94739|    An American Brat|      Young Adult|[{'author_id': '2...|   Milkweed Editions|                3.28|              2006.0|[{'count': '543',...|['290382', '48333...|          691|\n",
      "| 105648|Smart Boys & Fast...|      Young Adult|[{'author_id': '6...|       Leisure Books|                3.76|              2005.0|[{'count': '523',...|['1078638', '8608...|          981|\n",
      "| 139781|Twentieth Century...|           Poetry|[{'author_id': '3...|                Ecco|                4.31|              2000.0|[{'count': '254',...|['80992', '440025...|          224|\n",
      "| 160959|The Rape of the L...|           Poetry|[{'author_id': '2...|     IndyPublish.com|                3.62|              2005.0|[{'count': '180',...|['173781', '44900...|          542|\n",
      "|  16298|A Murder Is Annou...|          Mystery|[{'author_id': '1...|Black Dog & Leven...|                3.96|              2006.0|[{'count': '1694'...|['93575', '280849...|        26502|\n",
      "| 183995|      My Friend Bear|         Children|[{'author_id': '1...|             Walker,|                4.04|              2004.0|[{'count': '109',...|['320749', '72658...|          250|\n",
      "| 193792|Do You Promise No...|          Mystery|[{'author_id': '4...|St. Martin's Pape...|                3.86|              2005.0|[{'count': '441',...|['170255', '69852...|          661|\n",
      "|  42714|The Giggler Treat...|         Children|[{'author_id': '1...|    Scholastic, Inc.|                4.16|              2001.0|[{'count': '544',...|['1477647', '8381...|         1232|\n",
      "|  68582|The Green Pearl (...|          Fantasy|[{'author_id': '5...|     Underwood Books|                4.16|              1985.0|[{'count': '904',...|['3689171', '1022...|         1665|\n",
      "|   8227|Winter Days in th...|         Children|[{'author_id': '5...|       HarperCollins|                4.27|              1995.0|[{'count': '359',...|['1371962', '1030...|         1287|\n",
      "| 830613|One Hundred and O...|         Children|[{'author_id': '3...|       Gallery Books|                4.23|              1989.0|[{'count': '67', ...|['644990', '12982...|         1322|\n",
      "| 129898|Lancelot: The Kni...|           Poetry|[{'author_id': '2...|Yale University P...|                3.68|              1997.0|[{'count': '851',...|['129768', '93280...|         1053|\n",
      "| 150354| The Collected Poems|           Poetry|[{'author_id': '7...|               Knopf|                3.98|              2005.0|[{'count': '4459'...|['11737010', '160...|          757|\n",
      "|  16297|Cards on the Tabl...|          Mystery|[{'author_id': '1...|             Berkley|                 3.9|              2005.0|[{'count': '488',...|['660252', '19288...|        20080|\n",
      "|    290| Different Like Coco|             null|    Candlewick Press|                40.0| showing just how...|https://www.goodr...|         comfortable|         and flair.\"|       412464|\n",
      "|  76404|Going Postal (Dis...|             null|         HarperTorch|               394.0|                 and|https://www.goodr...|        get the girl| even golem) requ...|      1636617|\n",
      "|   7904|Betsy-Tacy and Ti...|         Children|[{'author_id': '5...|Thomas Y. Crowell...|                4.18|              1941.0|[{'count': '1808'...|['7925', '7902', ...|         8229|\n",
      "| 108137|               Poems|           Poetry|[{'author_id': '7...|           Shambhala|                4.24|              2009.0|[{'count': '2997'...|['138172', '40350...|         1886|\n",
      "|  19910|Master of Wolves ...|          Fantasy|[{'author_id': '2...|             Berkley|                4.17|              2006.0|[{'count': '1249'...|['313268', '96763...|         3618|\n",
      "|  24312|The Best Is Yet t...|         Children|[{'author_id': '1...|    Turtleback Books|                4.05|              2004.0|[{'count': '202',...|['627848', '17116...|          455|\n",
      "|  48862|       Brighton Rock|          Mystery|[{'author_id': '2...|    Vintage Classics|                3.72|              2004.0|[{'count': '9853'...|['133238', '15053...|        14218|\n",
      "| 752713|The Seven Against...|           Poetry|[{'author_id': '9...|  Dover Publications|                 3.7|              2000.0|[{'count': '367',...|['993747', '43755...|         1070|\n",
      "|  13119|The Dark Side Of ...|History/Biography|[{'author_id': '8...|       Da Capo Press|                3.81|              1999.0|[{'count': '223',...|['15081', '80135'...|          851|\n",
      "|  14660|Encyclopedia Brow...|         Children|[{'author_id': '9...|            Yearling|                4.03|              2005.0|[{'count': '161',...|['399596', '25041...|          270|\n",
      "|  19585|Houses Without Doors|          Mystery|[{'author_id': '6...|                null|                3.76|                null|[{'count': '2607'...|['1597650', '3246...|         1815|\n",
      "|  73073|The Marcelli Prin...|          Romance|[{'author_id': '8...|                null|                3.84|                null|[{'count': '991',...|['7943070', '2079...|         1781|\n",
      "| 118494|The Mark of the A...|          Mystery|[{'author_id': '2...| Penguin Group (USA)|                4.05|              1998.0|[{'count': '2832'...|['1765922', '7861...|         5452|\n",
      "|  24058|The Zucchini Warr...|         Children|[{'author_id': '2...|          Scholastic|                 4.0|              1991.0|[{'count': '192',...|['1453205', '4620...|         1060|\n",
      "|  24236|Boys in Control (...|         Children|[{'author_id': '1...|            Yearling|                4.05|              2005.0|[{'count': '189',...|['15803093', '290...|          488|\n",
      "| 333521|The Prince of Ten...|           Comics|[{'author_id': '4...|       VIZ Media LLC|                4.19|              2007.0|[{'count': '67', ...|['1993619', '1266...|          397|\n",
      "|  22425|Transmetropolitan...|           Comics|[{'author_id': '1...|             Vertigo|                4.45|              2003.0|[{'count': '1527'...|['22357', '102954...|         9320|\n",
      "| 294966|Rurouni Kenshin, ...|           Comics|[{'author_id': '1...|       VIZ Media LLC|                4.36|              2003.0|[{'count': '610',...|['41342', '116169...|         3865|\n",
      "|  42040|Love Poems and So...|           Poetry|[{'author_id': '9...|     Doubleday Books|                4.23|              1957.0|[{'count': '2558'...|['160959', '15438...|         5446|\n",
      "|  81557|Winter Games (Cam...|         Children|[{'author_id': '2...|    Grosset & Dunlap|                4.04|              2006.0|[{'count': '295',...|['82491', '675639...|          391|\n",
      "|  81661|I Celebrate Mysel...|History/Biography|[{'author_id': '4...|                null|                4.16|                null|[{'count': '967',...|['572651', '97889...|          586|\n",
      "| 830578|  A Matter Of Honour|          Mystery|[{'author_id': '4...|       Pan MacMillan|                 3.9|              2003.0|[{'count': '192',...|['149606', '32725...|          495|\n",
      "+-------+--------------------+-----------------+--------------------+--------------------+--------------------+--------------------+--------------------+--------------------+-------------+\n",
      "\n"
     ]
    }
   ],
   "source": [
    "user2_books = [x[0] for x in interactions.filter(interactions.user_id == 17077).select('book_id').collect()]\n",
    "user2 = books.filter(books[\"book_id\"].isin(user2_books))\n",
    "user2.show(100)"
   ]
  },
  {
   "cell_type": "markdown",
   "id": "9b54864e",
   "metadata": {},
   "source": [
    "Has read some of every genre so any recommendation would make sense really."
   ]
  },
  {
   "cell_type": "code",
   "execution_count": null,
   "id": "d66a62df",
   "metadata": {},
   "outputs": [],
   "source": []
  }
 ],
 "metadata": {
  "kernelspec": {
   "display_name": "Python 3 (ipykernel)",
   "language": "python",
   "name": "python3"
  },
  "language_info": {
   "codemirror_mode": {
    "name": "ipython",
    "version": 3
   },
   "file_extension": ".py",
   "mimetype": "text/x-python",
   "name": "python",
   "nbconvert_exporter": "python",
   "pygments_lexer": "ipython3",
   "version": "3.7.11"
  }
 },
 "nbformat": 4,
 "nbformat_minor": 5
}
