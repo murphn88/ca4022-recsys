{
 "cells": [
  {
   "cell_type": "code",
   "execution_count": 67,
   "id": "48af88cd",
   "metadata": {},
   "outputs": [],
   "source": [
    "import pandas as pd\n",
    "import numpy as np\n",
    "\n",
    "# ! pip install pyspark\n",
    "from pyspark.ml.evaluation import RegressionEvaluator, MulticlassClassificationEvaluator\n",
    "from pyspark.ml.recommendation import ALS\n",
    "from pyspark.sql import Row\n",
    "from pyspark.sql.functions import explode, col, round\n",
    "from pyspark.ml.tuning import ParamGridBuilder, CrossValidator\n",
    "from pyspark.sql import SparkSession\n"
   ]
  },
  {
   "cell_type": "code",
   "execution_count": 12,
   "id": "eab3db79",
   "metadata": {},
   "outputs": [],
   "source": [
    "spark = SparkSession \\\n",
    "    .builder \\\n",
    "    .appName(\"Book Rec System\") \\\n",
    "    .getOrCreate()"
   ]
  },
  {
   "cell_type": "code",
   "execution_count": 214,
   "id": "354369bb",
   "metadata": {
    "scrolled": false
   },
   "outputs": [
    {
     "data": {
      "text/html": [
       "<div>\n",
       "<style scoped>\n",
       "    .dataframe tbody tr th:only-of-type {\n",
       "        vertical-align: middle;\n",
       "    }\n",
       "\n",
       "    .dataframe tbody tr th {\n",
       "        vertical-align: top;\n",
       "    }\n",
       "\n",
       "    .dataframe thead th {\n",
       "        text-align: right;\n",
       "    }\n",
       "</style>\n",
       "<table border=\"1\" class=\"dataframe\">\n",
       "  <thead>\n",
       "    <tr style=\"text-align: right;\">\n",
       "      <th></th>\n",
       "      <th>isbn</th>\n",
       "      <th>text_reviews_count</th>\n",
       "      <th>series</th>\n",
       "      <th>country_code</th>\n",
       "      <th>language_code</th>\n",
       "      <th>popular_shelves</th>\n",
       "      <th>asin</th>\n",
       "      <th>is_ebook</th>\n",
       "      <th>average_rating</th>\n",
       "      <th>kindle_asin</th>\n",
       "      <th>...</th>\n",
       "      <th>publication_month</th>\n",
       "      <th>edition_information</th>\n",
       "      <th>publication_year</th>\n",
       "      <th>url</th>\n",
       "      <th>image_url</th>\n",
       "      <th>book_id</th>\n",
       "      <th>ratings_count</th>\n",
       "      <th>work_id</th>\n",
       "      <th>title</th>\n",
       "      <th>title_without_series</th>\n",
       "    </tr>\n",
       "  </thead>\n",
       "  <tbody>\n",
       "    <tr>\n",
       "      <th>0</th>\n",
       "      <td>0850308712</td>\n",
       "      <td>5</td>\n",
       "      <td>[]</td>\n",
       "      <td>US</td>\n",
       "      <td>NaN</td>\n",
       "      <td>[{'count': '32', 'name': 'to-read'}, {'count':...</td>\n",
       "      <td>NaN</td>\n",
       "      <td>False</td>\n",
       "      <td>3.40</td>\n",
       "      <td>NaN</td>\n",
       "      <td>...</td>\n",
       "      <td>NaN</td>\n",
       "      <td>NaN</td>\n",
       "      <td>NaN</td>\n",
       "      <td>https://www.goodreads.com/book/show/287140.Run...</td>\n",
       "      <td>https://images.gr-assets.com/books/1413219371m...</td>\n",
       "      <td>0</td>\n",
       "      <td>15</td>\n",
       "      <td>278577</td>\n",
       "      <td>Runic Astrology: Starcraft and Timekeeping in ...</td>\n",
       "      <td>Runic Astrology: Starcraft and Timekeeping in ...</td>\n",
       "    </tr>\n",
       "    <tr>\n",
       "      <th>1</th>\n",
       "      <td>0842379428</td>\n",
       "      <td>566</td>\n",
       "      <td>[]</td>\n",
       "      <td>US</td>\n",
       "      <td>eng</td>\n",
       "      <td>[{'count': '6393', 'name': 'to-read'}, {'count...</td>\n",
       "      <td>NaN</td>\n",
       "      <td>False</td>\n",
       "      <td>4.26</td>\n",
       "      <td>B000FCKCJC</td>\n",
       "      <td>...</td>\n",
       "      <td>NaN</td>\n",
       "      <td>NaN</td>\n",
       "      <td>NaN</td>\n",
       "      <td>https://www.goodreads.com/book/show/89376.Heaven</td>\n",
       "      <td>https://images.gr-assets.com/books/1406508230m...</td>\n",
       "      <td>1</td>\n",
       "      <td>7345</td>\n",
       "      <td>86257</td>\n",
       "      <td>Heaven</td>\n",
       "      <td>Heaven</td>\n",
       "    </tr>\n",
       "    <tr>\n",
       "      <th>2</th>\n",
       "      <td>037583687X</td>\n",
       "      <td>615</td>\n",
       "      <td>[]</td>\n",
       "      <td>US</td>\n",
       "      <td>NaN</td>\n",
       "      <td>[{'count': '4248', 'name': 'to-read'}, {'count...</td>\n",
       "      <td>NaN</td>\n",
       "      <td>False</td>\n",
       "      <td>3.98</td>\n",
       "      <td>B0010SEMV4</td>\n",
       "      <td>...</td>\n",
       "      <td>7.0</td>\n",
       "      <td>NaN</td>\n",
       "      <td>2006.0</td>\n",
       "      <td>https://www.goodreads.com/book/show/89377.Penn...</td>\n",
       "      <td>https://images.gr-assets.com/books/1320470906m...</td>\n",
       "      <td>2</td>\n",
       "      <td>6949</td>\n",
       "      <td>86258</td>\n",
       "      <td>Penny from Heaven</td>\n",
       "      <td>Penny from Heaven</td>\n",
       "    </tr>\n",
       "    <tr>\n",
       "      <th>3</th>\n",
       "      <td>0590417010</td>\n",
       "      <td>193</td>\n",
       "      <td>[]</td>\n",
       "      <td>US</td>\n",
       "      <td>eng</td>\n",
       "      <td>[{'count': '450', 'name': 'to-read'}, {'count'...</td>\n",
       "      <td>NaN</td>\n",
       "      <td>False</td>\n",
       "      <td>4.43</td>\n",
       "      <td>B017RORXNI</td>\n",
       "      <td>...</td>\n",
       "      <td>9.0</td>\n",
       "      <td>NaN</td>\n",
       "      <td>1995.0</td>\n",
       "      <td>https://www.goodreads.com/book/show/89378.Dog_...</td>\n",
       "      <td>https://images.gr-assets.com/books/1360057676m...</td>\n",
       "      <td>3</td>\n",
       "      <td>1331</td>\n",
       "      <td>86259</td>\n",
       "      <td>Dog Heaven</td>\n",
       "      <td>Dog Heaven</td>\n",
       "    </tr>\n",
       "    <tr>\n",
       "      <th>4</th>\n",
       "      <td>0553576348</td>\n",
       "      <td>41</td>\n",
       "      <td>[]</td>\n",
       "      <td>US</td>\n",
       "      <td>NaN</td>\n",
       "      <td>[{'count': '487', 'name': 'to-read'}, {'count'...</td>\n",
       "      <td>NaN</td>\n",
       "      <td>False</td>\n",
       "      <td>4.09</td>\n",
       "      <td>B008WOUJOI</td>\n",
       "      <td>...</td>\n",
       "      <td>NaN</td>\n",
       "      <td>NaN</td>\n",
       "      <td>NaN</td>\n",
       "      <td>https://www.goodreads.com/book/show/89379.Hell...</td>\n",
       "      <td>https://images.gr-assets.com/books/1320506798m...</td>\n",
       "      <td>4</td>\n",
       "      <td>627</td>\n",
       "      <td>86260</td>\n",
       "      <td>Hello from Heaven: A New Field of Research-Aft...</td>\n",
       "      <td>Hello from Heaven: A New Field of Research-Aft...</td>\n",
       "    </tr>\n",
       "  </tbody>\n",
       "</table>\n",
       "<p>5 rows × 29 columns</p>\n",
       "</div>"
      ],
      "text/plain": [
       "         isbn  text_reviews_count series country_code language_code  \\\n",
       "0  0850308712                   5     []           US           NaN   \n",
       "1  0842379428                 566     []           US           eng   \n",
       "2  037583687X                 615     []           US           NaN   \n",
       "3  0590417010                 193     []           US           eng   \n",
       "4  0553576348                  41     []           US           NaN   \n",
       "\n",
       "                                     popular_shelves asin  is_ebook  \\\n",
       "0  [{'count': '32', 'name': 'to-read'}, {'count':...  NaN     False   \n",
       "1  [{'count': '6393', 'name': 'to-read'}, {'count...  NaN     False   \n",
       "2  [{'count': '4248', 'name': 'to-read'}, {'count...  NaN     False   \n",
       "3  [{'count': '450', 'name': 'to-read'}, {'count'...  NaN     False   \n",
       "4  [{'count': '487', 'name': 'to-read'}, {'count'...  NaN     False   \n",
       "\n",
       "   average_rating kindle_asin  ... publication_month edition_information  \\\n",
       "0            3.40         NaN  ...               NaN                 NaN   \n",
       "1            4.26  B000FCKCJC  ...               NaN                 NaN   \n",
       "2            3.98  B0010SEMV4  ...               7.0                 NaN   \n",
       "3            4.43  B017RORXNI  ...               9.0                 NaN   \n",
       "4            4.09  B008WOUJOI  ...               NaN                 NaN   \n",
       "\n",
       "  publication_year                                                url  \\\n",
       "0              NaN  https://www.goodreads.com/book/show/287140.Run...   \n",
       "1              NaN   https://www.goodreads.com/book/show/89376.Heaven   \n",
       "2           2006.0  https://www.goodreads.com/book/show/89377.Penn...   \n",
       "3           1995.0  https://www.goodreads.com/book/show/89378.Dog_...   \n",
       "4              NaN  https://www.goodreads.com/book/show/89379.Hell...   \n",
       "\n",
       "                                           image_url book_id  ratings_count  \\\n",
       "0  https://images.gr-assets.com/books/1413219371m...       0             15   \n",
       "1  https://images.gr-assets.com/books/1406508230m...       1           7345   \n",
       "2  https://images.gr-assets.com/books/1320470906m...       2           6949   \n",
       "3  https://images.gr-assets.com/books/1360057676m...       3           1331   \n",
       "4  https://images.gr-assets.com/books/1320506798m...       4            627   \n",
       "\n",
       "   work_id                                              title  \\\n",
       "0   278577  Runic Astrology: Starcraft and Timekeeping in ...   \n",
       "1    86257                                             Heaven   \n",
       "2    86258                                  Penny from Heaven   \n",
       "3    86259                                         Dog Heaven   \n",
       "4    86260  Hello from Heaven: A New Field of Research-Aft...   \n",
       "\n",
       "                                title_without_series  \n",
       "0  Runic Astrology: Starcraft and Timekeeping in ...  \n",
       "1                                             Heaven  \n",
       "2                                  Penny from Heaven  \n",
       "3                                         Dog Heaven  \n",
       "4  Hello from Heaven: A New Field of Research-Aft...  \n",
       "\n",
       "[5 rows x 29 columns]"
      ]
     },
     "execution_count": 214,
     "metadata": {},
     "output_type": "execute_result"
    }
   ],
   "source": [
    "books = pd.read_csv(\"data/books.csv\")\n",
    "books.head()"
   ]
  },
  {
   "cell_type": "code",
   "execution_count": 222,
   "id": "a7de437b",
   "metadata": {},
   "outputs": [
    {
     "data": {
      "text/plain": [
       "user_id          182\n",
       "book_id           11\n",
       "is_read        72235\n",
       "rating         73940\n",
       "is_reviewed    96504\n",
       "dtype: int64"
      ]
     },
     "execution_count": 222,
     "metadata": {},
     "output_type": "execute_result"
    }
   ],
   "source": [
    "interactions[interactions['user_id'] == 840]\n",
    "(interactions == 0).astype(int).sum(axis=0)"
   ]
  },
  {
   "cell_type": "code",
   "execution_count": 221,
   "id": "1affc575",
   "metadata": {},
   "outputs": [
    {
     "data": {
      "text/html": [
       "<div>\n",
       "<style scoped>\n",
       "    .dataframe tbody tr th:only-of-type {\n",
       "        vertical-align: middle;\n",
       "    }\n",
       "\n",
       "    .dataframe tbody tr th {\n",
       "        vertical-align: top;\n",
       "    }\n",
       "\n",
       "    .dataframe thead th {\n",
       "        text-align: right;\n",
       "    }\n",
       "</style>\n",
       "<table border=\"1\" class=\"dataframe\">\n",
       "  <thead>\n",
       "    <tr style=\"text-align: right;\">\n",
       "      <th></th>\n",
       "      <th>user_id</th>\n",
       "      <th>book_id</th>\n",
       "      <th>is_read</th>\n",
       "      <th>rating</th>\n",
       "      <th>is_reviewed</th>\n",
       "    </tr>\n",
       "  </thead>\n",
       "  <tbody>\n",
       "    <tr>\n",
       "      <th>count</th>\n",
       "      <td>102692.000000</td>\n",
       "      <td>102692.000000</td>\n",
       "      <td>102692.000000</td>\n",
       "      <td>102692.000000</td>\n",
       "      <td>102692.000000</td>\n",
       "    </tr>\n",
       "    <tr>\n",
       "      <th>mean</th>\n",
       "      <td>499.956774</td>\n",
       "      <td>2033.030976</td>\n",
       "      <td>0.296586</td>\n",
       "      <td>1.094944</td>\n",
       "      <td>0.060258</td>\n",
       "    </tr>\n",
       "    <tr>\n",
       "      <th>std</th>\n",
       "      <td>286.278383</td>\n",
       "      <td>1166.001171</td>\n",
       "      <td>0.456755</td>\n",
       "      <td>1.827248</td>\n",
       "      <td>0.237965</td>\n",
       "    </tr>\n",
       "    <tr>\n",
       "      <th>min</th>\n",
       "      <td>0.000000</td>\n",
       "      <td>0.000000</td>\n",
       "      <td>0.000000</td>\n",
       "      <td>0.000000</td>\n",
       "      <td>0.000000</td>\n",
       "    </tr>\n",
       "    <tr>\n",
       "      <th>25%</th>\n",
       "      <td>253.000000</td>\n",
       "      <td>1021.000000</td>\n",
       "      <td>0.000000</td>\n",
       "      <td>0.000000</td>\n",
       "      <td>0.000000</td>\n",
       "    </tr>\n",
       "    <tr>\n",
       "      <th>50%</th>\n",
       "      <td>502.000000</td>\n",
       "      <td>2022.000000</td>\n",
       "      <td>0.000000</td>\n",
       "      <td>0.000000</td>\n",
       "      <td>0.000000</td>\n",
       "    </tr>\n",
       "    <tr>\n",
       "      <th>75%</th>\n",
       "      <td>751.000000</td>\n",
       "      <td>3028.000000</td>\n",
       "      <td>1.000000</td>\n",
       "      <td>3.000000</td>\n",
       "      <td>0.000000</td>\n",
       "    </tr>\n",
       "    <tr>\n",
       "      <th>max</th>\n",
       "      <td>985.000000</td>\n",
       "      <td>4120.000000</td>\n",
       "      <td>1.000000</td>\n",
       "      <td>5.000000</td>\n",
       "      <td>1.000000</td>\n",
       "    </tr>\n",
       "  </tbody>\n",
       "</table>\n",
       "</div>"
      ],
      "text/plain": [
       "             user_id        book_id        is_read         rating  \\\n",
       "count  102692.000000  102692.000000  102692.000000  102692.000000   \n",
       "mean      499.956774    2033.030976       0.296586       1.094944   \n",
       "std       286.278383    1166.001171       0.456755       1.827248   \n",
       "min         0.000000       0.000000       0.000000       0.000000   \n",
       "25%       253.000000    1021.000000       0.000000       0.000000   \n",
       "50%       502.000000    2022.000000       0.000000       0.000000   \n",
       "75%       751.000000    3028.000000       1.000000       3.000000   \n",
       "max       985.000000    4120.000000       1.000000       5.000000   \n",
       "\n",
       "         is_reviewed  \n",
       "count  102692.000000  \n",
       "mean        0.060258  \n",
       "std         0.237965  \n",
       "min         0.000000  \n",
       "25%         0.000000  \n",
       "50%         0.000000  \n",
       "75%         0.000000  \n",
       "max         1.000000  "
      ]
     },
     "execution_count": 221,
     "metadata": {},
     "output_type": "execute_result"
    }
   ],
   "source": [
    "interactions = pd.read_csv(\"data/interactions.csv\")\n",
    "interactions.describe()"
   ]
  },
  {
   "cell_type": "code",
   "execution_count": 7,
   "id": "85db670f",
   "metadata": {},
   "outputs": [
    {
     "data": {
      "text/plain": [
       "Index(['isbn', 'text_reviews_count', 'series', 'country_code', 'language_code',\n",
       "       'popular_shelves', 'asin', 'is_ebook', 'average_rating', 'kindle_asin',\n",
       "       'similar_books', 'description', 'format', 'link', 'authors',\n",
       "       'publisher', 'num_pages', 'publication_day', 'isbn13',\n",
       "       'publication_month', 'edition_information', 'publication_year', 'url',\n",
       "       'image_url', 'book_id', 'ratings_count', 'work_id', 'title',\n",
       "       'title_without_series'],\n",
       "      dtype='object')"
      ]
     },
     "execution_count": 7,
     "metadata": {},
     "output_type": "execute_result"
    }
   ],
   "source": [
    "books.columns"
   ]
  },
  {
   "cell_type": "code",
   "execution_count": 9,
   "id": "328cf2a4",
   "metadata": {},
   "outputs": [],
   "source": [
    "books = books[['text_reviews_count', 'popular_shelves', 'average_rating', 'similar_books', 'description', 'authors',\n",
    "       'publisher', 'num_pages', 'publication_year','book_id', 'ratings_count', 'title']]"
   ]
  },
  {
   "cell_type": "code",
   "execution_count": 118,
   "id": "60cde015",
   "metadata": {},
   "outputs": [],
   "source": [
    "ratings = spark.read.format(\"csv\").option(\"header\",\"true\").load(\"data/interactions.csv\")"
   ]
  },
  {
   "cell_type": "code",
   "execution_count": 119,
   "id": "619ac0ba",
   "metadata": {},
   "outputs": [],
   "source": [
    "ratings = ratings.withColumn(\"user_id\",ratings[\"user_id\"].cast(\"int\"))\n",
    "ratings = ratings.withColumn(\"rating\",ratings[\"rating\"].cast(\"int\"))\n",
    "ratings = ratings.withColumn(\"book_id\",ratings[\"book_id\"].cast(\"int\"))"
   ]
  },
  {
   "cell_type": "code",
   "execution_count": 120,
   "id": "3bd0cacc",
   "metadata": {},
   "outputs": [
    {
     "name": "stdout",
     "output_type": "stream",
     "text": [
      "root\n",
      " |-- user_id: integer (nullable = true)\n",
      " |-- book_id: integer (nullable = true)\n",
      " |-- is_read: string (nullable = true)\n",
      " |-- rating: integer (nullable = true)\n",
      " |-- is_reviewed: string (nullable = true)\n",
      "\n"
     ]
    }
   ],
   "source": [
    "ratings.printSchema()"
   ]
  },
  {
   "cell_type": "code",
   "execution_count": 121,
   "id": "97f0b8b2",
   "metadata": {},
   "outputs": [
    {
     "name": "stdout",
     "output_type": "stream",
     "text": [
      "+-------+-------+-------+------+-----------+\n",
      "|user_id|book_id|is_read|rating|is_reviewed|\n",
      "+-------+-------+-------+------+-----------+\n",
      "|      0|   1152|      0|     0|          0|\n",
      "|      0|   2140|      1|     4|          0|\n",
      "|      0|   2139|      1|     3|          0|\n",
      "|      0|   2138|      0|     0|          0|\n",
      "|      0|   2137|      1|     4|          0|\n",
      "+-------+-------+-------+------+-----------+\n",
      "only showing top 5 rows\n",
      "\n"
     ]
    }
   ],
   "source": [
    "ratings.show(n=5)"
   ]
  },
  {
   "cell_type": "code",
   "execution_count": 105,
   "id": "d7013be5",
   "metadata": {},
   "outputs": [
    {
     "name": "stdout",
     "output_type": "stream",
     "text": [
      "+-------+-----------------+------------------+-------------------+------------------+-------------------+\n",
      "|summary|          user_id|           book_id|            is_read|            rating|        is_reviewed|\n",
      "+-------+-----------------+------------------+-------------------+------------------+-------------------+\n",
      "|  count|           102692|            102692|             102692|            102692|             102692|\n",
      "|   mean|499.9567736532544| 2033.030976122775|0.29658590737350526|1.0949441047014372|0.06025785845051221|\n",
      "| stddev|  286.27838343667|1166.0011713282875|0.45675457138247505| 1.827247903970249| 0.2379651242829317|\n",
      "|    min|                0|                 0|                  0|                 0|                  0|\n",
      "|    max|              985|              4120|                  1|                 5|                  1|\n",
      "+-------+-----------------+------------------+-------------------+------------------+-------------------+\n",
      "\n"
     ]
    }
   ],
   "source": [
    "ratings.describe().show()"
   ]
  },
  {
   "cell_type": "code",
   "execution_count": 20,
   "id": "e03d3459",
   "metadata": {},
   "outputs": [
    {
     "name": "stderr",
     "output_type": "stream",
     "text": [
      "\r",
      "[Stage 3:>                                                          (0 + 1) / 1]\r",
      "\r",
      "                                                                                \r"
     ]
    }
   ],
   "source": [
    "(training, test) = ratings.randomSplit([0.8, 0.2])\n",
    "\n",
    "# Build the recommendation model using ALS on the training data\n",
    "# Note we set cold start strategy to 'drop' to ensure we don't get NaN evaluation metrics\n",
    "als = ALS(maxIter=5, regParam=0.01, userCol=\"user_id\", itemCol=\"book_id\", ratingCol=\"rating\",\n",
    "          coldStartStrategy=\"drop\", nonnegative = True, implicitPrefs = False)\n",
    "model = als.fit(training)"
   ]
  },
  {
   "cell_type": "code",
   "execution_count": 21,
   "id": "5218b98e",
   "metadata": {},
   "outputs": [
    {
     "name": "stdout",
     "output_type": "stream",
     "text": [
      "Num models to be tested using param_grid:  64\n"
     ]
    }
   ],
   "source": [
    "param_grid = ParamGridBuilder() \\\n",
    " .addGrid(als.rank, [10, 50, 75, 100]) \\\n",
    " .addGrid(als.maxIter, [5, 50, 75, 100]) \\\n",
    " .addGrid(als.regParam, [.01, .05, .1, .15]) \\\n",
    " .build()\n",
    "# Define evaluator as RMSE\n",
    "evaluator = RegressionEvaluator(metricName = \"rmse\", \n",
    " labelCol = \"rating\", \n",
    " predictionCol = \"prediction\")\n",
    "# Print length of evaluator\n",
    "print (\"Num models to be tested using param_grid: \", len(param_grid))"
   ]
  },
  {
   "cell_type": "code",
   "execution_count": 85,
   "id": "c81332bd",
   "metadata": {},
   "outputs": [
    {
     "name": "stdout",
     "output_type": "stream",
     "text": [
      "+-------+-------+-------+------+-----------+-----------+\n",
      "|user_id|book_id|is_read|rating|is_reviewed| prediction|\n",
      "+-------+-------+-------+------+-----------+-----------+\n",
      "|    148|    252|      1|     3|          0|  2.6050725|\n",
      "|    148|    586|      0|     0|          0|  0.3192272|\n",
      "|    148|    919|      0|     0|          0| 0.28434813|\n",
      "|    148|    984|      1|     3|          0|   1.370568|\n",
      "|    148|   1176|      0|     0|          0|0.066068426|\n",
      "|    148|   1200|      0|     0|          0|  0.7834935|\n",
      "|    148|   1600|      0|     0|          0|   0.600194|\n",
      "|    148|   2438|      1|     0|          0|   1.750623|\n",
      "|    148|   2533|      1|     4|          0| 0.35663316|\n",
      "|    148|   3103|      1|     4|          0|   1.405108|\n",
      "+-------+-------+-------+------+-----------+-----------+\n",
      "only showing top 10 rows\n",
      "\n"
     ]
    }
   ],
   "source": [
    "cv = CrossValidator(estimator = als, \n",
    " estimatorParamMaps = param_grid, \n",
    " evaluator = evaluator, \n",
    " numFolds = 5)\n",
    "\n",
    "model = als.fit(training)\n",
    "predictions = model.transform(test)\n",
    "\n",
    "predictions.show(n = 10)"
   ]
  },
  {
   "cell_type": "code",
   "execution_count": 97,
   "id": "75913255",
   "metadata": {},
   "outputs": [],
   "source": [
    "predictions = predictions.withColumn(\"rounded_prediction\", round(col(\"prediction\"), 0))\n",
    "predictions = predictions.withColumn(\"rounded_prediction\",predictions[\"rounded_prediction\"].cast(\"int\"))\n"
   ]
  },
  {
   "cell_type": "code",
   "execution_count": 87,
   "id": "8c389536",
   "metadata": {},
   "outputs": [
    {
     "name": "stdout",
     "output_type": "stream",
     "text": [
      "+-------+-------+-------+------+-----------+----------+\n",
      "|user_id|book_id|is_read|rating|is_reviewed|prediction|\n",
      "+-------+-------+-------+------+-----------+----------+\n",
      "|    148|    252|      1|     3|          0|       3.0|\n",
      "|    148|    586|      0|     0|          0|       0.0|\n",
      "|    148|    919|      0|     0|          0|       0.0|\n",
      "|    148|    984|      1|     3|          0|       1.0|\n",
      "|    148|   1176|      0|     0|          0|       0.0|\n",
      "|    148|   1200|      0|     0|          0|       1.0|\n",
      "|    148|   1600|      0|     0|          0|       1.0|\n",
      "|    148|   2438|      1|     0|          0|       2.0|\n",
      "|    148|   2533|      1|     4|          0|       0.0|\n",
      "|    148|   3103|      1|     4|          0|       1.0|\n",
      "+-------+-------+-------+------+-----------+----------+\n",
      "only showing top 10 rows\n",
      "\n"
     ]
    }
   ],
   "source": [
    "new_pred = predictions.drop(col(\"prediction\"))\n",
    "new_pred = new_pred.withColumnRenamed(\"rounded_prediction\", \"prediction\")\n",
    "new_pred.show(n=10)"
   ]
  },
  {
   "cell_type": "code",
   "execution_count": 79,
   "id": "55417c26",
   "metadata": {},
   "outputs": [
    {
     "data": {
      "text/html": [
       "<div>\n",
       "<style scoped>\n",
       "    .dataframe tbody tr th:only-of-type {\n",
       "        vertical-align: middle;\n",
       "    }\n",
       "\n",
       "    .dataframe tbody tr th {\n",
       "        vertical-align: top;\n",
       "    }\n",
       "\n",
       "    .dataframe thead th {\n",
       "        text-align: right;\n",
       "    }\n",
       "</style>\n",
       "<table border=\"1\" class=\"dataframe\">\n",
       "  <thead>\n",
       "    <tr style=\"text-align: right;\">\n",
       "      <th></th>\n",
       "      <th>user_id</th>\n",
       "      <th>book_id</th>\n",
       "      <th>is_read</th>\n",
       "      <th>rating</th>\n",
       "      <th>is_reviewed</th>\n",
       "      <th>prediction</th>\n",
       "      <th>rounded_prediction</th>\n",
       "    </tr>\n",
       "  </thead>\n",
       "  <tbody>\n",
       "    <tr>\n",
       "      <th>0</th>\n",
       "      <td>148</td>\n",
       "      <td>252</td>\n",
       "      <td>1</td>\n",
       "      <td>3</td>\n",
       "      <td>0</td>\n",
       "      <td>2.605072</td>\n",
       "      <td>3</td>\n",
       "    </tr>\n",
       "    <tr>\n",
       "      <th>1</th>\n",
       "      <td>148</td>\n",
       "      <td>586</td>\n",
       "      <td>0</td>\n",
       "      <td>0</td>\n",
       "      <td>0</td>\n",
       "      <td>0.319227</td>\n",
       "      <td>0</td>\n",
       "    </tr>\n",
       "    <tr>\n",
       "      <th>2</th>\n",
       "      <td>148</td>\n",
       "      <td>919</td>\n",
       "      <td>0</td>\n",
       "      <td>0</td>\n",
       "      <td>0</td>\n",
       "      <td>0.284348</td>\n",
       "      <td>0</td>\n",
       "    </tr>\n",
       "    <tr>\n",
       "      <th>3</th>\n",
       "      <td>148</td>\n",
       "      <td>984</td>\n",
       "      <td>1</td>\n",
       "      <td>3</td>\n",
       "      <td>0</td>\n",
       "      <td>1.370568</td>\n",
       "      <td>1</td>\n",
       "    </tr>\n",
       "    <tr>\n",
       "      <th>4</th>\n",
       "      <td>148</td>\n",
       "      <td>1176</td>\n",
       "      <td>0</td>\n",
       "      <td>0</td>\n",
       "      <td>0</td>\n",
       "      <td>0.066068</td>\n",
       "      <td>0</td>\n",
       "    </tr>\n",
       "    <tr>\n",
       "      <th>...</th>\n",
       "      <td>...</td>\n",
       "      <td>...</td>\n",
       "      <td>...</td>\n",
       "      <td>...</td>\n",
       "      <td>...</td>\n",
       "      <td>...</td>\n",
       "      <td>...</td>\n",
       "    </tr>\n",
       "    <tr>\n",
       "      <th>20658</th>\n",
       "      <td>517</td>\n",
       "      <td>3437</td>\n",
       "      <td>0</td>\n",
       "      <td>0</td>\n",
       "      <td>0</td>\n",
       "      <td>0.042132</td>\n",
       "      <td>0</td>\n",
       "    </tr>\n",
       "    <tr>\n",
       "      <th>20659</th>\n",
       "      <td>517</td>\n",
       "      <td>3578</td>\n",
       "      <td>1</td>\n",
       "      <td>4</td>\n",
       "      <td>0</td>\n",
       "      <td>1.645570</td>\n",
       "      <td>2</td>\n",
       "    </tr>\n",
       "    <tr>\n",
       "      <th>20660</th>\n",
       "      <td>517</td>\n",
       "      <td>3757</td>\n",
       "      <td>0</td>\n",
       "      <td>0</td>\n",
       "      <td>0</td>\n",
       "      <td>0.031650</td>\n",
       "      <td>0</td>\n",
       "    </tr>\n",
       "    <tr>\n",
       "      <th>20661</th>\n",
       "      <td>517</td>\n",
       "      <td>3940</td>\n",
       "      <td>0</td>\n",
       "      <td>0</td>\n",
       "      <td>0</td>\n",
       "      <td>0.235914</td>\n",
       "      <td>0</td>\n",
       "    </tr>\n",
       "    <tr>\n",
       "      <th>20662</th>\n",
       "      <td>517</td>\n",
       "      <td>4048</td>\n",
       "      <td>0</td>\n",
       "      <td>0</td>\n",
       "      <td>0</td>\n",
       "      <td>0.226047</td>\n",
       "      <td>0</td>\n",
       "    </tr>\n",
       "  </tbody>\n",
       "</table>\n",
       "<p>20663 rows × 7 columns</p>\n",
       "</div>"
      ],
      "text/plain": [
       "       user_id  book_id is_read  rating is_reviewed  prediction  \\\n",
       "0          148      252       1       3           0    2.605072   \n",
       "1          148      586       0       0           0    0.319227   \n",
       "2          148      919       0       0           0    0.284348   \n",
       "3          148      984       1       3           0    1.370568   \n",
       "4          148     1176       0       0           0    0.066068   \n",
       "...        ...      ...     ...     ...         ...         ...   \n",
       "20658      517     3437       0       0           0    0.042132   \n",
       "20659      517     3578       1       4           0    1.645570   \n",
       "20660      517     3757       0       0           0    0.031650   \n",
       "20661      517     3940       0       0           0    0.235914   \n",
       "20662      517     4048       0       0           0    0.226047   \n",
       "\n",
       "       rounded_prediction  \n",
       "0                       3  \n",
       "1                       0  \n",
       "2                       0  \n",
       "3                       1  \n",
       "4                       0  \n",
       "...                   ...  \n",
       "20658                   0  \n",
       "20659                   2  \n",
       "20660                   0  \n",
       "20661                   0  \n",
       "20662                   0  \n",
       "\n",
       "[20663 rows x 7 columns]"
      ]
     },
     "execution_count": 79,
     "metadata": {},
     "output_type": "execute_result"
    }
   ],
   "source": [
    "df = predictions.select(\"*\").toPandas()\n",
    "# df['pred_round'] = df['prediction'].round().astype('int')\n",
    "df"
   ]
  },
  {
   "cell_type": "code",
   "execution_count": 88,
   "id": "822c7707",
   "metadata": {},
   "outputs": [
    {
     "name": "stdout",
     "output_type": "stream",
     "text": [
      "Root-mean-square error = 1.8117908143016066\n"
     ]
    }
   ],
   "source": [
    "rmse = evaluator.evaluate(predictions)\n",
    "print(\"Root-mean-square error = \" + str(rmse))"
   ]
  },
  {
   "cell_type": "code",
   "execution_count": 93,
   "id": "1d01ec72",
   "metadata": {},
   "outputs": [],
   "source": [
    "predictions = predictions.withColumn(\"prediction\",predictions[\"prediction\"].cast(\"double\"))\n",
    "\n",
    "eval_accuracy = MulticlassClassificationEvaluator(labelCol=\"rating\", predictionCol=\"prediction\", metricName=\"accuracy\")\n",
    "eval_precision = MulticlassClassificationEvaluator(labelCol=\"rating\", predictionCol=\"prediction\", metricName=\"precisionByLabel\")\n",
    "eval_recall = MulticlassClassificationEvaluator(labelCol=\"rating\", predictionCol=\"prediction\", metricName=\"recallByLabel\")\n",
    "eval_f1 = MulticlassClassificationEvaluator(labelCol=\"rating\", predictionCol=\"prediction\", metricName=\"f1\")\n",
    "\n",
    "accuracy = eval_accuracy.evaluate(predictions)\n",
    "precision = eval_precision.evaluate(predictions)\n",
    "recall = eval_recall.evaluate(predictions)\n",
    "f1score = eval_f1.evaluate(predictions)"
   ]
  },
  {
   "cell_type": "code",
   "execution_count": null,
   "id": "7b436d06",
   "metadata": {},
   "outputs": [],
   "source": [
    "print(accuracy, precision, recall, f1score)\n",
    "predictions.show(n=10)"
   ]
  },
  {
   "cell_type": "code",
   "execution_count": 101,
   "id": "59efc2a3",
   "metadata": {},
   "outputs": [],
   "source": [
    "new_pred = new_pred.withColumn(\"prediction\",new_pred[\"prediction\"].cast(\"double\"))\n",
    "\n",
    "eval_accuracy = MulticlassClassificationEvaluator(labelCol=\"rating\", predictionCol=\"prediction\", metricName=\"accuracy\")\n",
    "eval_precision = MulticlassClassificationEvaluator(labelCol=\"rating\", predictionCol=\"prediction\", metricName=\"precisionByLabel\")\n",
    "eval_recall = MulticlassClassificationEvaluator(labelCol=\"rating\", predictionCol=\"prediction\", metricName=\"recallByLabel\")\n",
    "eval_f1 = MulticlassClassificationEvaluator(labelCol=\"rating\", predictionCol=\"prediction\", metricName=\"f1\")\n",
    "\n",
    "accuracy = eval_accuracy.evaluate(new_pred)\n",
    "precision = eval_precision.evaluate(new_pred)\n",
    "recall = eval_recall.evaluate(new_pred)\n",
    "f1score = eval_f1.evaluate(new_pred)"
   ]
  },
  {
   "cell_type": "code",
   "execution_count": 102,
   "id": "0a905f5d",
   "metadata": {},
   "outputs": [
    {
     "name": "stdout",
     "output_type": "stream",
     "text": [
      "0.4493055219474423 0.890937338166753 0.5779360386992743 0.5410137083997811\n",
      "+-------+-------+-------+------+-----------+----------+\n",
      "|user_id|book_id|is_read|rating|is_reviewed|prediction|\n",
      "+-------+-------+-------+------+-----------+----------+\n",
      "|    148|    252|      1|   3.0|          0|       3.0|\n",
      "|    148|    586|      0|   0.0|          0|       0.0|\n",
      "|    148|    919|      0|   0.0|          0|       0.0|\n",
      "|    148|    984|      1|   3.0|          0|       1.0|\n",
      "|    148|   1176|      0|   0.0|          0|       0.0|\n",
      "|    148|   1200|      0|   0.0|          0|       1.0|\n",
      "|    148|   1600|      0|   0.0|          0|       1.0|\n",
      "|    148|   2438|      1|   0.0|          0|       2.0|\n",
      "|    148|   2533|      1|   4.0|          0|       0.0|\n",
      "|    148|   3103|      1|   4.0|          0|       1.0|\n",
      "+-------+-------+-------+------+-----------+----------+\n",
      "only showing top 10 rows\n",
      "\n"
     ]
    }
   ],
   "source": [
    "print(accuracy, precision, recall, f1score)\n",
    "new_pred.show(n=10)"
   ]
  },
  {
   "cell_type": "code",
   "execution_count": 25,
   "id": "4963c934",
   "metadata": {},
   "outputs": [
    {
     "name": "stderr",
     "output_type": "stream",
     "text": [
      "                                                                                \r"
     ]
    },
    {
     "name": "stdout",
     "output_type": "stream",
     "text": [
      "+-------+--------------------+\n",
      "|user_id|     recommendations|\n",
      "+-------+--------------------+\n",
      "|      1|[{2819, 21.728657...|\n",
      "|      3|[{1925, 4.797371}...|\n",
      "|      6|[{1470, 7.576744}...|\n",
      "|     12|[{1572, 13.686593...|\n",
      "|     13|[{3973, 11.968611...|\n",
      "|     16|[{2363, 10.698648...|\n",
      "|     20|[{139, 9.438195},...|\n",
      "|     22|[{2819, 17.328636...|\n",
      "|     26|[{55, 3.8167355},...|\n",
      "|     27|[{3351, 3.5918908...|\n",
      "+-------+--------------------+\n",
      "only showing top 10 rows\n",
      "\n"
     ]
    },
    {
     "name": "stderr",
     "output_type": "stream",
     "text": [
      "                                                                                \r"
     ]
    },
    {
     "name": "stdout",
     "output_type": "stream",
     "text": [
      "+-------+-------+----------+\n",
      "|user_id|book_id|prediction|\n",
      "+-------+-------+----------+\n",
      "|      1|   2819| 21.728657|\n",
      "|      1|   3665| 21.721382|\n",
      "|      1|   2864| 20.891443|\n",
      "|      1|   2817| 18.995947|\n",
      "|      1|    611| 16.814068|\n",
      "|      1|   3556| 16.517403|\n",
      "|      1|   2427| 16.447178|\n",
      "|      1|    931| 15.123379|\n",
      "|      1|     21| 14.564141|\n",
      "|      1|   1308| 14.135394|\n",
      "|      3|   1925|  4.797371|\n",
      "|      3|   2549| 4.7153983|\n",
      "|      3|   4094| 4.5428457|\n",
      "|      3|   3695| 4.4199724|\n",
      "|      3|   1508| 4.2795377|\n",
      "|      3|   2760|  4.231721|\n",
      "|      3|   1071| 4.2214055|\n",
      "|      3|   1614|  4.210667|\n",
      "|      3|   1172| 4.1264715|\n",
      "|      3|   2044| 4.0814023|\n",
      "+-------+-------+----------+\n",
      "only showing top 20 rows\n",
      "\n"
     ]
    },
    {
     "name": "stderr",
     "output_type": "stream",
     "text": [
      "                                                                                \r"
     ]
    },
    {
     "name": "stdout",
     "output_type": "stream",
     "text": [
      "+-------+-------+----------+-------+------+-----------+\n",
      "|user_id|book_id|prediction|is_read|rating|is_reviewed|\n",
      "+-------+-------+----------+-------+------+-----------+\n",
      "|      1|   2819| 21.728657|   null|  null|       null|\n",
      "|      1|   3665| 21.721382|   null|  null|       null|\n",
      "|      1|   2864| 20.891443|   null|  null|       null|\n",
      "|      1|   2817| 18.995947|   null|  null|       null|\n",
      "|      1|    611| 16.814068|   null|  null|       null|\n",
      "|      1|   3556| 16.517403|   null|  null|       null|\n",
      "|      1|   2427| 16.447178|   null|  null|       null|\n",
      "|      1|    931| 15.123379|   null|  null|       null|\n",
      "|      1|     21| 14.564141|   null|  null|       null|\n",
      "|      1|   1308| 14.135394|   null|  null|       null|\n",
      "|      3|   1925|  4.797371|   null|  null|       null|\n",
      "|      3|   2549| 4.7153983|   null|  null|       null|\n",
      "|      3|   4094| 4.5428457|   null|  null|       null|\n",
      "|      3|   3695| 4.4199724|   null|  null|       null|\n",
      "|      3|   1508| 4.2795377|   null|  null|       null|\n",
      "|      3|   2760|  4.231721|   null|  null|       null|\n",
      "|      3|   1071| 4.2214055|   null|  null|       null|\n",
      "|      3|   1614|  4.210667|   null|  null|       null|\n",
      "|      3|   1172| 4.1264715|   null|  null|       null|\n",
      "|      3|   2044| 4.0814023|   null|  null|       null|\n",
      "+-------+-------+----------+-------+------+-----------+\n",
      "only showing top 20 rows\n",
      "\n"
     ]
    }
   ],
   "source": [
    "# Generate n recommendations for all users\n",
    "ALS_recommendations = model.recommendForAllUsers(numItems = 10) # n — 10\n",
    "ALS_recommendations.show(n = 10)\n",
    "# Temporary table\n",
    "ALS_recommendations.registerTempTable(\"ALS_recs_temp\")\n",
    "clean_recs = spark.sql(\"\"\"SELECT user_id,\n",
    "                            movieIds_and_ratings.book_id AS book_id,\n",
    "                            movieIds_and_ratings.rating AS prediction\n",
    "                        FROM ALS_recs_temp\n",
    "                        LATERAL VIEW explode(recommendations) exploded_table\n",
    "                            AS movieIds_and_ratings\"\"\")\n",
    "clean_recs.show()\n",
    "# Recommendations for unread books\n",
    "(clean_recs.join(data, [\"user_id\", \"book_id\"], \"left\")\n",
    "    .filter(data.rating.isNull()).show())\n",
    "new_books = (clean_recs.join(data, [\"user_id\", \"book_id\"], \"left\")\n",
    "    .filter(data.rating.isNull()))"
   ]
  },
  {
   "cell_type": "code",
   "execution_count": 48,
   "id": "aefc2169",
   "metadata": {},
   "outputs": [
    {
     "name": "stderr",
     "output_type": "stream",
     "text": [
      "/home/cliodhna/miniconda3/envs/JupyterBook/lib/python3.7/site-packages/pyspark/sql/context.py:127: FutureWarning: Deprecated in 3.0.0. Use SparkSession.builder.getOrCreate() instead.\n",
      "  FutureWarning\n"
     ]
    }
   ],
   "source": [
    "userRecs = model.recommendForAllUsers(10)\n",
    "# Generate top 10 user recommendations for each movie\n",
    "bookRecs = model.recommendForAllItems(10)"
   ]
  },
  {
   "cell_type": "code",
   "execution_count": 50,
   "id": "746eb5c2",
   "metadata": {},
   "outputs": [
    {
     "name": "stderr",
     "output_type": "stream",
     "text": [
      "[Stage 405:==============================================>       (86 + 8) / 100]\r"
     ]
    },
    {
     "name": "stdout",
     "output_type": "stream",
     "text": [
      "+-------+--------------------+\n",
      "|book_id|     recommendations|\n",
      "+-------+--------------------+\n",
      "|     26|[{0, 0.0}, {10, 0...|\n",
      "|     27|[{0, 0.0}, {10, 0...|\n",
      "|     28|[{0, 0.0}, {10, 0...|\n",
      "|     31|[{0, 0.0}, {10, 0...|\n",
      "|     34|[{9, 5.4554815}, ...|\n",
      "|     44|[{460, 10.205811}...|\n",
      "|     53|[{0, 0.0}, {10, 0...|\n",
      "|     65|[{602, 9.247291},...|\n",
      "|     76|[{205, 8.622194},...|\n",
      "|     78|[{0, 0.0}, {10, 0...|\n",
      "|     81|[{884, 6.0798645}...|\n",
      "|     85|[{0, 0.0}, {10, 0...|\n",
      "|    101|[{541, 10.089077}...|\n",
      "|    103|[{541, 5.491219},...|\n",
      "|    108|[{539, 7.6309114}...|\n",
      "|    115|[{460, 6.7112637}...|\n",
      "|    126|[{55, 8.063753}, ...|\n",
      "|    137|[{355, 2.8915582}...|\n",
      "|    148|[{0, 0.0}, {10, 0...|\n",
      "|    155|[{205, 9.592584},...|\n",
      "+-------+--------------------+\n",
      "only showing top 20 rows\n",
      "\n"
     ]
    },
    {
     "name": "stderr",
     "output_type": "stream",
     "text": [
      "\r",
      "                                                                                \r"
     ]
    }
   ],
   "source": [
    "bookRecs.show()"
   ]
  },
  {
   "cell_type": "code",
   "execution_count": 53,
   "id": "d72266a5",
   "metadata": {},
   "outputs": [
    {
     "name": "stderr",
     "output_type": "stream",
     "text": [
      "                                                                                \r"
     ]
    }
   ],
   "source": [
    "book_recs = bookRecs.select(\"*\").toPandas()"
   ]
  },
  {
   "cell_type": "code",
   "execution_count": 54,
   "id": "9890b68b",
   "metadata": {},
   "outputs": [
    {
     "data": {
      "text/html": [
       "<div>\n",
       "<style scoped>\n",
       "    .dataframe tbody tr th:only-of-type {\n",
       "        vertical-align: middle;\n",
       "    }\n",
       "\n",
       "    .dataframe tbody tr th {\n",
       "        vertical-align: top;\n",
       "    }\n",
       "\n",
       "    .dataframe thead th {\n",
       "        text-align: right;\n",
       "    }\n",
       "</style>\n",
       "<table border=\"1\" class=\"dataframe\">\n",
       "  <thead>\n",
       "    <tr style=\"text-align: right;\">\n",
       "      <th></th>\n",
       "      <th>book_id</th>\n",
       "      <th>recommendations</th>\n",
       "    </tr>\n",
       "  </thead>\n",
       "  <tbody>\n",
       "    <tr>\n",
       "      <th>0</th>\n",
       "      <td>26</td>\n",
       "      <td>[(0, 0.0), (10, 0.0), (20, 0.0), (30, 0.0), (4...</td>\n",
       "    </tr>\n",
       "    <tr>\n",
       "      <th>1</th>\n",
       "      <td>27</td>\n",
       "      <td>[(0, 0.0), (10, 0.0), (20, 0.0), (30, 0.0), (4...</td>\n",
       "    </tr>\n",
       "    <tr>\n",
       "      <th>2</th>\n",
       "      <td>28</td>\n",
       "      <td>[(0, 0.0), (10, 0.0), (20, 0.0), (30, 0.0), (4...</td>\n",
       "    </tr>\n",
       "    <tr>\n",
       "      <th>3</th>\n",
       "      <td>31</td>\n",
       "      <td>[(0, 0.0), (10, 0.0), (20, 0.0), (30, 0.0), (4...</td>\n",
       "    </tr>\n",
       "    <tr>\n",
       "      <th>4</th>\n",
       "      <td>34</td>\n",
       "      <td>[(9, 5.45548152923584), (541, 4.90243196487426...</td>\n",
       "    </tr>\n",
       "    <tr>\n",
       "      <th>...</th>\n",
       "      <td>...</td>\n",
       "      <td>...</td>\n",
       "    </tr>\n",
       "    <tr>\n",
       "      <th>4040</th>\n",
       "      <td>4095</td>\n",
       "      <td>[(0, 0.0), (10, 0.0), (20, 0.0), (30, 0.0), (4...</td>\n",
       "    </tr>\n",
       "    <tr>\n",
       "      <th>4041</th>\n",
       "      <td>4106</td>\n",
       "      <td>[(205, 11.784050941467285), (9, 10.53423690795...</td>\n",
       "    </tr>\n",
       "    <tr>\n",
       "      <th>4042</th>\n",
       "      <td>4108</td>\n",
       "      <td>[(884, 11.928763389587402), (700, 10.219456672...</td>\n",
       "    </tr>\n",
       "    <tr>\n",
       "      <th>4043</th>\n",
       "      <td>4112</td>\n",
       "      <td>[(103, 11.286194801330566), (55, 10.4209899902...</td>\n",
       "    </tr>\n",
       "    <tr>\n",
       "      <th>4044</th>\n",
       "      <td>4116</td>\n",
       "      <td>[(541, 6.223319053649902), (9, 6.1716103553771...</td>\n",
       "    </tr>\n",
       "  </tbody>\n",
       "</table>\n",
       "<p>4045 rows × 2 columns</p>\n",
       "</div>"
      ],
      "text/plain": [
       "      book_id                                    recommendations\n",
       "0          26  [(0, 0.0), (10, 0.0), (20, 0.0), (30, 0.0), (4...\n",
       "1          27  [(0, 0.0), (10, 0.0), (20, 0.0), (30, 0.0), (4...\n",
       "2          28  [(0, 0.0), (10, 0.0), (20, 0.0), (30, 0.0), (4...\n",
       "3          31  [(0, 0.0), (10, 0.0), (20, 0.0), (30, 0.0), (4...\n",
       "4          34  [(9, 5.45548152923584), (541, 4.90243196487426...\n",
       "...       ...                                                ...\n",
       "4040     4095  [(0, 0.0), (10, 0.0), (20, 0.0), (30, 0.0), (4...\n",
       "4041     4106  [(205, 11.784050941467285), (9, 10.53423690795...\n",
       "4042     4108  [(884, 11.928763389587402), (700, 10.219456672...\n",
       "4043     4112  [(103, 11.286194801330566), (55, 10.4209899902...\n",
       "4044     4116  [(541, 6.223319053649902), (9, 6.1716103553771...\n",
       "\n",
       "[4045 rows x 2 columns]"
      ]
     },
     "execution_count": 54,
     "metadata": {},
     "output_type": "execute_result"
    }
   ],
   "source": [
    "book_recs"
   ]
  },
  {
   "cell_type": "code",
   "execution_count": 63,
   "id": "4c008dc9",
   "metadata": {},
   "outputs": [
    {
     "data": {
      "text/plain": [
       "[Row(user_id=0, rating=0.0),\n",
       " Row(user_id=10, rating=0.0),\n",
       " Row(user_id=20, rating=0.0),\n",
       " Row(user_id=30, rating=0.0),\n",
       " Row(user_id=40, rating=0.0),\n",
       " Row(user_id=50, rating=0.0),\n",
       " Row(user_id=60, rating=0.0),\n",
       " Row(user_id=70, rating=0.0),\n",
       " Row(user_id=80, rating=0.0),\n",
       " Row(user_id=90, rating=0.0)]"
      ]
     },
     "execution_count": 63,
     "metadata": {},
     "output_type": "execute_result"
    }
   ],
   "source": [
    "movie_recs.loc[0,:].recommendations"
   ]
  },
  {
   "cell_type": "code",
   "execution_count": 140,
   "id": "d645818f",
   "metadata": {},
   "outputs": [],
   "source": [
    "books = spark.read.format(\"csv\").option(\"header\",\"true\").load(\"data/books.csv\")"
   ]
  },
  {
   "cell_type": "code",
   "execution_count": 164,
   "id": "4c39f35b",
   "metadata": {},
   "outputs": [],
   "source": [
    "cols = (\"isbn\",\"is_ebook\",\"kindle_asin\", \"country_code\", \"language_code\", \"asin\",\"description\", \"format\", \"link\", \"publication_day\", \"isbn13\",\n",
    "        \"publication_month\", \"edition_information\", \"url\", \"image_url\", \"work_id\", \"text_reviews_count\", \"title_without_series\")\n",
    "\n",
    "books = books.drop(*cols)\n",
    "books = books.select(\"book_id\",\"title\",\"series\",\"authors\",\"publisher\", \"average_rating\", \"publication_year\", \"popular_shelves\", \"similar_books\", \"ratings_count\")"
   ]
  },
  {
   "cell_type": "code",
   "execution_count": 165,
   "id": "c00ff45c",
   "metadata": {},
   "outputs": [
    {
     "name": "stdout",
     "output_type": "stream",
     "text": [
      "+-------+--------------------+--------------------+--------------------+---------+--------------------+----------------+--------------------+--------------------+-------------+\n",
      "|book_id|               title|              series|             authors|publisher|      average_rating|publication_year|     popular_shelves|       similar_books|ratings_count|\n",
      "+-------+--------------------+--------------------+--------------------+---------+--------------------+----------------+--------------------+--------------------+-------------+\n",
      "|      0|Runic Astrology: ...|                  []|[{'author_id': '1...|     null|                 3.4|            null|[{'count': '32', ...|                  []|           15|\n",
      "|   null|                null|                  []|                null|     null|                4.26|            null|[{'count': '6393'...|['45366', '246849...|         null|\n",
      "|   null|                null| Dr. Randy Alcorn...|                null|     null|                null|            null|                null|                null|         null|\n",
      "|   null|                null|             vibrant|                null|     null| wondrous natural...|            null|           suffering|                null|         null|\n",
      "|   null|                null| spark your imagi...|                null|     null|                null|            null|                null|                null|         null|\n",
      "+-------+--------------------+--------------------+--------------------+---------+--------------------+----------------+--------------------+--------------------+-------------+\n",
      "only showing top 5 rows\n",
      "\n"
     ]
    }
   ],
   "source": [
    "books.show(n=5)"
   ]
  },
  {
   "cell_type": "code",
   "execution_count": 166,
   "id": "4289f3e6",
   "metadata": {},
   "outputs": [
    {
     "name": "stderr",
     "output_type": "stream",
     "text": [
      "\r",
      "[Stage 2539:==================================>                  (66 + 8) / 100]\r",
      "\r",
      "[Stage 2539:================================================>    (92 + 8) / 100]\r"
     ]
    },
    {
     "name": "stdout",
     "output_type": "stream",
     "text": [
      "+-------+--------------------+\n",
      "|user_id|     recommendations|\n",
      "+-------+--------------------+\n",
      "|      1|[{2819, 21.728657...|\n",
      "|      3|[{1925, 4.797371}...|\n",
      "|      6|[{1470, 7.576744}...|\n",
      "|     12|[{1572, 13.686593...|\n",
      "|     13|[{3973, 11.968611...|\n",
      "+-------+--------------------+\n",
      "only showing top 5 rows\n",
      "\n"
     ]
    },
    {
     "name": "stderr",
     "output_type": "stream",
     "text": [
      "\r",
      "                                                                                \r"
     ]
    }
   ],
   "source": [
    "userRecs.show(n=5)"
   ]
  },
  {
   "cell_type": "code",
   "execution_count": 187,
   "id": "061e2920",
   "metadata": {},
   "outputs": [],
   "source": [
    "top_users = ratings.groupBy(ratings['user_id']).agg({'rating':\"count\"}).sort(\"count(rating)\", ascending=False).dropna().limit(10)"
   ]
  },
  {
   "cell_type": "code",
   "execution_count": 188,
   "id": "08276139",
   "metadata": {},
   "outputs": [
    {
     "name": "stdout",
     "output_type": "stream",
     "text": [
      "+-------+-------------+\n",
      "|user_id|count(rating)|\n",
      "+-------+-------------+\n",
      "|    840|          874|\n",
      "|    706|          684|\n",
      "|    156|          604|\n",
      "|    253|          574|\n",
      "|    671|          553|\n",
      "|    894|          550|\n",
      "|    581|          540|\n",
      "|    755|          518|\n",
      "|    259|          508|\n",
      "|    474|          503|\n",
      "+-------+-------------+\n",
      "\n"
     ]
    }
   ],
   "source": [
    "top_users.show()"
   ]
  },
  {
   "cell_type": "code",
   "execution_count": 189,
   "id": "f2f63a32",
   "metadata": {},
   "outputs": [],
   "source": [
    "top_user_list = [row.user_id for row in top_users.select('user_id').collect()]"
   ]
  },
  {
   "cell_type": "code",
   "execution_count": 190,
   "id": "58834435",
   "metadata": {},
   "outputs": [
    {
     "data": {
      "text/plain": [
       "{840: [2752, 296, 1870, 1670, 2651, 3876, 2579, 3471, 895, 4051],\n",
       " 706: [3957, 827, 0, 1392, 569, 1336, 3374, 1470, 1356, 2],\n",
       " 156: [2819, 3665, 2864, 2817, 2427, 611, 3556, 931, 21, 1133],\n",
       " 253: [3973, 1717, 3471, 3127, 3425, 3657, 3351, 255, 3113, 2596],\n",
       " 671: [1925, 4094, 2549, 1614, 3695, 2488, 1508, 1071, 2044, 2760],\n",
       " 894: [3973, 1717, 3127, 3471, 3351, 3425, 255, 3657, 3113, 2300],\n",
       " 581: [0, 10, 20, 30, 40, 50, 60, 70, 80, 90],\n",
       " 755: [692, 691, 538, 1695, 1791, 4098, 3322, 2385, 2948, 1606],\n",
       " 259: [1831, 1925, 643, 1572, 251, 1172, 2907, 3937, 2549, 2945],\n",
       " 474: [3665, 2819, 2864, 2817, 611, 3556, 2427, 931, 1308, 21]}"
      ]
     },
     "execution_count": 190,
     "metadata": {},
     "output_type": "execute_result"
    }
   ],
   "source": [
    "d = {}\n",
    "\n",
    "for user in top_user_list:\n",
    "    rec = userRecs.where(userRecs.user_id == user).select(\"recommendations\").collect()\n",
    "    d[user] = [i.book_id for i in rec[0][\"recommendations\"]]\n",
    "\n",
    "d"
   ]
  },
  {
   "cell_type": "code",
   "execution_count": 209,
   "id": "4cf616e0",
   "metadata": {},
   "outputs": [],
   "source": [
    "rec_1 = books.filter(books[\"book_id\"].isin(d[581]))"
   ]
  },
  {
   "cell_type": "code",
   "execution_count": 210,
   "id": "9784e2ae",
   "metadata": {},
   "outputs": [
    {
     "name": "stdout",
     "output_type": "stream",
     "text": [
      "+-------+-----+------+-------+---------+--------------+----------------+---------------+-------------+-------------+\n",
      "|book_id|title|series|authors|publisher|average_rating|publication_year|popular_shelves|similar_books|ratings_count|\n",
      "+-------+-----+------+-------+---------+--------------+----------------+---------------+-------------+-------------+\n",
      "+-------+-----+------+-------+---------+--------------+----------------+---------------+-------------+-------------+\n",
      "\n"
     ]
    }
   ],
   "source": [
    "rec = books.filter(books[\"book_id\"].isin(296))\n",
    "rec.show()\n"
   ]
  },
  {
   "cell_type": "code",
   "execution_count": 211,
   "id": "d55fc931",
   "metadata": {
    "scrolled": true
   },
   "outputs": [
    {
     "name": "stdout",
     "output_type": "stream",
     "text": [
      "+-------+--------------------+--------------------+--------------------+--------------------+--------------------+--------------------+--------------------+--------------------+-------------+\n",
      "|book_id|               title|              series|             authors|           publisher|      average_rating|    publication_year|     popular_shelves|       similar_books|ratings_count|\n",
      "+-------+--------------------+--------------------+--------------------+--------------------+--------------------+--------------------+--------------------+--------------------+-------------+\n",
      "|      0|Runic Astrology: ...|                  []|[{'author_id': '1...|                null|                 3.4|                null|[{'count': '32', ...|                  []|           15|\n",
      "|     20|Constructing the ...|                  []|[{'author_id': '1...|University Of Chi...|                3.82|              1988.0|[{'count': '51', ...|                  []|           65|\n",
      "|     30|One Pound Gospel,...|          ['438047']|[{'author_id': '1...|       VIZ Media LLC|                3.64|              1998.0|[{'count': '40', ...|                  []|           84|\n",
      "|     80|Weights and Measures| near the Russian...|Peter Owen Publis...|               150.0| Euphemia. But sh...|https://www.goodr...| and small crooks...| an unprincipled ...|      1042112|\n",
      "|     90|The Berlin Storie...|                  []|[{'author_id': '1...|                null|                4.03|              1963.0|[{'count': '10624...|['16113', '722367...|         7995|\n",
      "+-------+--------------------+--------------------+--------------------+--------------------+--------------------+--------------------+--------------------+--------------------+-------------+\n",
      "\n"
     ]
    }
   ],
   "source": [
    "rec_1.show()"
   ]
  },
  {
   "cell_type": "code",
   "execution_count": 212,
   "id": "18a9f7fc",
   "metadata": {},
   "outputs": [
    {
     "name": "stdout",
     "output_type": "stream",
     "text": [
      "+-------------------------------------+\n",
      "|authors                              |\n",
      "+-------------------------------------+\n",
      "|[{'author_id': '149918', 'role': ''}]|\n",
      "|[{'author_id': '199983', 'role': ''}]|\n",
      "|[{'author_id': '12948', 'role': ''}] |\n",
      "|Peter Owen Publishers                |\n",
      "|[{'author_id': '10229', 'role': ''}] |\n",
      "+-------------------------------------+\n",
      "\n"
     ]
    }
   ],
   "source": [
    "rec_1.select('authors').show(truncate=False)"
   ]
  },
  {
   "cell_type": "code",
   "execution_count": 213,
   "id": "22f97d85",
   "metadata": {},
   "outputs": [
    {
     "name": "stdout",
     "output_type": "stream",
     "text": [
      "+--------------------------------------------------------------------+\n",
      "|title                                                               |\n",
      "+--------------------------------------------------------------------+\n",
      "|Runic Astrology: Starcraft and Timekeeping in the Northern Tradition|\n",
      "|Constructing the Political Spectacle                                |\n",
      "|One Pound Gospel, Volume 3. Knuckle Sandwich.                       |\n",
      "|Weights and Measures                                                |\n",
      "|The Berlin Stories: The Last of Mr Norris/Goodbye to Berlin         |\n",
      "+--------------------------------------------------------------------+\n",
      "\n"
     ]
    }
   ],
   "source": [
    "rec_1.select('title').show(truncate=False)"
   ]
  },
  {
   "cell_type": "markdown",
   "id": "5fe26d92",
   "metadata": {},
   "source": [
    "The Postmodern Condition: A Report on Knowledge = Philosophy(French), The Nimrod Flipout: Stories = Short Stories(Jewish/Hebrew), La Tempête = French, The Marx-Engels Reader = Philosophy(Russia), A Pawn for a Queen (Ursula Blanchard, #6) = Historical, My Discovery of America = Nonfiction(Russia)"
   ]
  },
  {
   "cell_type": "code",
   "execution_count": 186,
   "id": "6f80ccca",
   "metadata": {},
   "outputs": [
    {
     "data": {
      "text/plain": [
       "[2652,\n",
       " 3009,\n",
       " 568,\n",
       " 565,\n",
       " 567,\n",
       " 566,\n",
       " 1961,\n",
       " 4032,\n",
       " 4031,\n",
       " 1898,\n",
       " 3168,\n",
       " 3169,\n",
       " 1057,\n",
       " 3262,\n",
       " 3413,\n",
       " 3044,\n",
       " 1899,\n",
       " 1483,\n",
       " 3905,\n",
       " 1056,\n",
       " 1559,\n",
       " 1464,\n",
       " 3279,\n",
       " 610,\n",
       " 2027,\n",
       " 3292,\n",
       " 1465,\n",
       " 3434,\n",
       " 3432,\n",
       " 3433,\n",
       " 783,\n",
       " 393,\n",
       " 3919,\n",
       " 2542,\n",
       " 2616,\n",
       " 809,\n",
       " 1921,\n",
       " 2868,\n",
       " 3511,\n",
       " 1895,\n",
       " 638,\n",
       " 2168,\n",
       " 3183,\n",
       " 2134,\n",
       " 2395,\n",
       " 163,\n",
       " 3188,\n",
       " 1293,\n",
       " 1643,\n",
       " 2353,\n",
       " 34,\n",
       " 637,\n",
       " 4003,\n",
       " 928,\n",
       " 1362,\n",
       " 126,\n",
       " 1558,\n",
       " 1350,\n",
       " 395,\n",
       " 2285,\n",
       " 2284,\n",
       " 2274,\n",
       " 3490,\n",
       " 319,\n",
       " 2356,\n",
       " 2495,\n",
       " 4028,\n",
       " 1769,\n",
       " 1500,\n",
       " 1501,\n",
       " 4079,\n",
       " 4026,\n",
       " 169,\n",
       " 1140,\n",
       " 1138,\n",
       " 1135,\n",
       " 1139,\n",
       " 1361,\n",
       " 2676,\n",
       " 2677,\n",
       " 3382,\n",
       " 1897,\n",
       " 1896,\n",
       " 427,\n",
       " 3826,\n",
       " 2470,\n",
       " 1360,\n",
       " 2258,\n",
       " 3058,\n",
       " 2982,\n",
       " 1732,\n",
       " 1329,\n",
       " 3057,\n",
       " 1668,\n",
       " 3703,\n",
       " 3323,\n",
       " 1030,\n",
       " 914,\n",
       " 3862,\n",
       " 2526,\n",
       " 152,\n",
       " 2995,\n",
       " 2588,\n",
       " 1480,\n",
       " 873,\n",
       " 3439,\n",
       " 1657,\n",
       " 1775,\n",
       " 4004,\n",
       " 1159,\n",
       " 551,\n",
       " 1830,\n",
       " 2276,\n",
       " 2389,\n",
       " 2524,\n",
       " 2523,\n",
       " 3383,\n",
       " 2379,\n",
       " 3071,\n",
       " 600,\n",
       " 3384,\n",
       " 2528,\n",
       " 3942,\n",
       " 3291,\n",
       " 2587,\n",
       " 1136,\n",
       " 1752,\n",
       " 420,\n",
       " 3903,\n",
       " 2825,\n",
       " 3832,\n",
       " 4005,\n",
       " 454,\n",
       " 954,\n",
       " 3697,\n",
       " 970,\n",
       " 1163,\n",
       " 646,\n",
       " 2633,\n",
       " 377,\n",
       " 3608,\n",
       " 1694,\n",
       " 571,\n",
       " 2823,\n",
       " 3941,\n",
       " 3068,\n",
       " 3049,\n",
       " 3063,\n",
       " 124]"
      ]
     },
     "execution_count": 186,
     "metadata": {},
     "output_type": "execute_result"
    }
   ],
   "source": [
    "user_1 = ratings.filter(ratings[\"user_id\"].isin(481))\n",
    "l = [row.book_id for row in user_1.select('book_id').collect()]\n",
    "l"
   ]
  },
  {
   "cell_type": "code",
   "execution_count": null,
   "id": "04a9a180",
   "metadata": {},
   "outputs": [],
   "source": []
  }
 ],
 "metadata": {
  "kernelspec": {
   "display_name": "Python 3 (ipykernel)",
   "language": "python",
   "name": "python3"
  },
  "language_info": {
   "codemirror_mode": {
    "name": "ipython",
    "version": 3
   },
   "file_extension": ".py",
   "mimetype": "text/x-python",
   "name": "python",
   "nbconvert_exporter": "python",
   "pygments_lexer": "ipython3",
   "version": "3.7.11"
  }
 },
 "nbformat": 4,
 "nbformat_minor": 5
}
