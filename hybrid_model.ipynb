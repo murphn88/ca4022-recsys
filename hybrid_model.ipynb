{
  "cells": [
    {
      "cell_type": "markdown",
      "metadata": {
        "id": "1pxtbPbSmFZZ"
      },
      "source": [
        "# Hybrid Model"
      ],
      "id": "1pxtbPbSmFZZ"
    },
    {
      "cell_type": "markdown",
      "metadata": {
        "id": "lx9ljKBZClDC"
      },
      "source": [
        "This notebook combines the work done to devlop both a collaborative filtering system and a content based system. In order to combine both models, we took a simple approach. For a given user, we calculate the top 500 recommendations using both systems. The scores for both systems are then summed and ranked. The books with the highest combined score are recommended. "
      ],
      "id": "lx9ljKBZClDC"
    },
    {
      "cell_type": "markdown",
      "source": [
        "## Imports"
      ],
      "metadata": {
        "id": "giWlWt-2jkT6"
      },
      "id": "giWlWt-2jkT6"
    },
    {
      "cell_type": "code",
      "execution_count": null,
      "metadata": {
        "id": "_k9Ppz6qc9U7"
      },
      "outputs": [],
      "source": [
        "%%capture\n",
        "import pandas as pd\n",
        "import numpy as np\n",
        "from ast import literal_eval\n",
        "\n",
        "!apt-get install openjdk-8-jdk-headless -qq > /dev/null\n",
        "!wget -q https://downloads.apache.org/spark/spark-3.0.3/spark-3.0.3-bin-hadoop2.7.tgz\n",
        "!tar -xvf spark-3.0.3-bin-hadoop2.7.tgz\n",
        "!pip install -q findspark\n",
        "\n",
        "import os\n",
        "os.environ[\"JAVA_HOME\"] = \"/usr/lib/jvm/java-8-openjdk-amd64\"\n",
        "os.environ[\"SPARK_HOME\"] = \"/content/spark-3.0.3-bin-hadoop2.7\"\n",
        "\n",
        "import findspark\n",
        "findspark.init()\n",
        "import pyspark \n",
        "\n",
        "import pandas as pd\n",
        "import numpy as np\n",
        "\n",
        "# ! pip install pyspark\n",
        "from pyspark.ml.evaluation import RegressionEvaluator, MulticlassClassificationEvaluator\n",
        "from pyspark.ml.recommendation import ALS\n",
        "from pyspark.sql import Row\n",
        "from pyspark.sql.functions import explode, col, round, abs, when\n",
        "from pyspark.ml.tuning import ParamGridBuilder, CrossValidator, TrainValidationSplit\n",
        "from pyspark.sql import SparkSession"
      ],
      "id": "_k9Ppz6qc9U7"
    },
    {
      "cell_type": "code",
      "execution_count": null,
      "metadata": {
        "id": "YsJRxAbNg-K4",
        "colab": {
          "base_uri": "https://localhost:8080/"
        },
        "outputId": "d8f503a7-13e6-455f-f1ae-77ffc829a414"
      },
      "outputs": [
        {
          "output_type": "stream",
          "name": "stdout",
          "text": [
            "Mounted at /content/drive\n"
          ]
        }
      ],
      "source": [
        "from google.colab import drive\n",
        "drive.mount('/content/drive')\n",
        "\n",
        "import sys\n",
        "sys.path.append('drive/MyDrive/')\n",
        "\n",
        "from content_based import *\n",
        "from collaborative_filtering import *"
      ],
      "id": "YsJRxAbNg-K4"
    },
    {
      "cell_type": "markdown",
      "source": [
        "## Build Model"
      ],
      "metadata": {
        "id": "LFIvmYyzjpUI"
      },
      "id": "LFIvmYyzjpUI"
    },
    {
      "cell_type": "code",
      "execution_count": null,
      "metadata": {
        "id": "wf7px0cNmJLp"
      },
      "outputs": [],
      "source": [
        "def hybrid_mod(u_id, sim_books_limit=10):\n",
        "  top_100_collab = spark.createDataFrame(df[df.user_id == u_id]).withColumnRenamed(\"score\", \"collab_score\").withColumnRenamed(\"book_id\", \"book_id_col\")\n",
        "  top_1000_content = getContentRecoms(u_id, 500, True).withColumnRenamed(\"score\", \"cont_score\")\n",
        "  \n",
        "  joined_top = top_1000_content.join(top_100_collab,top_1000_content.book_id == top_100_collab.book_id_col, 'inner')\n",
        "  joined_top = joined_top.select(col(\"book_id\"),col(\"title\"),col(\"genre\"),col(\"cont_score\"),col(\"collab_score\"))\n",
        "  joined_top = joined_top.withColumn('comb_score', col(\"cont_score\")+col(\"collab_score\"))\n",
        "  joined_top = joined_top.dropDuplicates(['book_id']).orderBy(\"comb_score\", ascending = False).limit(sim_books_limit)\n",
        "\n",
        "  return joined_top"
      ],
      "id": "wf7px0cNmJLp"
    },
    {
      "cell_type": "markdown",
      "metadata": {
        "id": "GF6vJc8aVzZB"
      },
      "source": [
        "**Examples**"
      ],
      "id": "GF6vJc8aVzZB"
    },
    {
      "cell_type": "code",
      "execution_count": null,
      "metadata": {
        "id": "KUEYmUgC3MRC",
        "colab": {
          "base_uri": "https://localhost:8080/",
          "height": 571
        },
        "outputId": "0aaabe3a-7837-47a5-c9bb-801c9014c81d"
      },
      "outputs": [
        {
          "output_type": "stream",
          "name": "stdout",
          "text": [
            "\n",
            "Books previously read and reviewed by user:\n",
            "+-------+-----------------------+----------------+-----------+\n",
            "|book_id|title                  |publication_year|genre      |\n",
            "+-------+-----------------------+----------------+-----------+\n",
            "|50041  |Olivia Forms a Band    |2006.0          |Children   |\n",
            "|7992   |The Great Redwall Feast|2000.0          |Children   |\n",
            "|1226   |Life of Pi             |null            |Fantasy    |\n",
            "|1387   |The Odyssey            |1999.0          |Poetry     |\n",
            "|50053  |The Contender          |1996.0          |Young Adult|\n",
            "+-------+-----------------------+----------------+-----------+\n",
            "\n"
          ]
        },
        {
          "output_type": "execute_result",
          "data": {
            "text/html": [
              "<div>\n",
              "<style scoped>\n",
              "    .dataframe tbody tr th:only-of-type {\n",
              "        vertical-align: middle;\n",
              "    }\n",
              "\n",
              "    .dataframe tbody tr th {\n",
              "        vertical-align: top;\n",
              "    }\n",
              "\n",
              "    .dataframe thead th {\n",
              "        text-align: right;\n",
              "    }\n",
              "</style>\n",
              "<table border=\"1\" class=\"dataframe\">\n",
              "  <thead>\n",
              "    <tr style=\"text-align: right;\">\n",
              "      <th></th>\n",
              "      <th>book_id</th>\n",
              "      <th>title</th>\n",
              "      <th>genre</th>\n",
              "      <th>cont_score</th>\n",
              "      <th>collab_score</th>\n",
              "      <th>comb_score</th>\n",
              "    </tr>\n",
              "  </thead>\n",
              "  <tbody>\n",
              "    <tr>\n",
              "      <th>0</th>\n",
              "      <td>37736</td>\n",
              "      <td>Forever...</td>\n",
              "      <td>Young Adult</td>\n",
              "      <td>0.928679</td>\n",
              "      <td>0.591533</td>\n",
              "      <td>1.520212</td>\n",
              "    </tr>\n",
              "    <tr>\n",
              "      <th>1</th>\n",
              "      <td>189442</td>\n",
              "      <td>Corgiville Fair</td>\n",
              "      <td>Children</td>\n",
              "      <td>0.969146</td>\n",
              "      <td>0.435790</td>\n",
              "      <td>1.404936</td>\n",
              "    </tr>\n",
              "    <tr>\n",
              "      <th>2</th>\n",
              "      <td>293724</td>\n",
              "      <td>The Lottery</td>\n",
              "      <td>Young Adult</td>\n",
              "      <td>0.962910</td>\n",
              "      <td>0.429720</td>\n",
              "      <td>1.392629</td>\n",
              "    </tr>\n",
              "    <tr>\n",
              "      <th>3</th>\n",
              "      <td>258171</td>\n",
              "      <td>Nailed</td>\n",
              "      <td>Young Adult</td>\n",
              "      <td>0.959539</td>\n",
              "      <td>0.430251</td>\n",
              "      <td>1.389790</td>\n",
              "    </tr>\n",
              "    <tr>\n",
              "      <th>4</th>\n",
              "      <td>8073</td>\n",
              "      <td>Cloudy With a Chance of Meatballs</td>\n",
              "      <td>Children</td>\n",
              "      <td>0.964862</td>\n",
              "      <td>0.420132</td>\n",
              "      <td>1.384995</td>\n",
              "    </tr>\n",
              "    <tr>\n",
              "      <th>5</th>\n",
              "      <td>190670</td>\n",
              "      <td>Curious George Flies a Kite</td>\n",
              "      <td>Children</td>\n",
              "      <td>0.948533</td>\n",
              "      <td>0.433191</td>\n",
              "      <td>1.381724</td>\n",
              "    </tr>\n",
              "    <tr>\n",
              "      <th>6</th>\n",
              "      <td>87784</td>\n",
              "      <td>To Kill a Mockingbird</td>\n",
              "      <td>History/Biography</td>\n",
              "      <td>0.933619</td>\n",
              "      <td>0.422761</td>\n",
              "      <td>1.356379</td>\n",
              "    </tr>\n",
              "    <tr>\n",
              "      <th>7</th>\n",
              "      <td>32531</td>\n",
              "      <td>Gilgamesh</td>\n",
              "      <td>Poetry</td>\n",
              "      <td>0.972073</td>\n",
              "      <td>0.376475</td>\n",
              "      <td>1.348549</td>\n",
              "    </tr>\n",
              "    <tr>\n",
              "      <th>8</th>\n",
              "      <td>259068</td>\n",
              "      <td>Shug</td>\n",
              "      <td>Young Adult</td>\n",
              "      <td>0.938798</td>\n",
              "      <td>0.409415</td>\n",
              "      <td>1.348213</td>\n",
              "    </tr>\n",
              "    <tr>\n",
              "      <th>9</th>\n",
              "      <td>240142</td>\n",
              "      <td>Big Mouth and Ugly Girl</td>\n",
              "      <td>Young Adult</td>\n",
              "      <td>0.958178</td>\n",
              "      <td>0.383951</td>\n",
              "      <td>1.342129</td>\n",
              "    </tr>\n",
              "  </tbody>\n",
              "</table>\n",
              "</div>"
            ],
            "text/plain": [
              "   book_id                              title  ... collab_score  comb_score\n",
              "0    37736                         Forever...  ...     0.591533    1.520212\n",
              "1   189442                    Corgiville Fair  ...     0.435790    1.404936\n",
              "2   293724                        The Lottery  ...     0.429720    1.392629\n",
              "3   258171                             Nailed  ...     0.430251    1.389790\n",
              "4     8073  Cloudy With a Chance of Meatballs  ...     0.420132    1.384995\n",
              "5   190670        Curious George Flies a Kite  ...     0.433191    1.381724\n",
              "6    87784              To Kill a Mockingbird  ...     0.422761    1.356379\n",
              "7    32531                          Gilgamesh  ...     0.376475    1.348549\n",
              "8   259068                               Shug  ...     0.409415    1.348213\n",
              "9   240142            Big Mouth and Ugly Girl  ...     0.383951    1.342129\n",
              "\n",
              "[10 rows x 6 columns]"
            ]
          },
          "metadata": {},
          "execution_count": 46
        }
      ],
      "source": [
        "hybrid_mod(190).toPandas()"
      ],
      "id": "KUEYmUgC3MRC"
    },
    {
      "cell_type": "markdown",
      "metadata": {
        "id": "feXjXY22V3tn"
      },
      "source": [
        "This set of recommendations appears relevant. The hybrid model has successfully identified books of the same genres and that could be of interest to this user."
      ],
      "id": "feXjXY22V3tn"
    },
    {
      "cell_type": "code",
      "execution_count": null,
      "metadata": {
        "id": "pBcB7ToZxLJq",
        "colab": {
          "base_uri": "https://localhost:8080/",
          "height": 571
        },
        "outputId": "272867e4-22c1-4c78-95b4-a7f3cfb230e0"
      },
      "outputs": [
        {
          "output_type": "stream",
          "name": "stdout",
          "text": [
            "\n",
            "Books previously read and reviewed by user:\n",
            "+-------+-------------------------------------------------------+----------------+-----------------+\n",
            "|book_id|title                                                  |publication_year|genre            |\n",
            "+-------+-------------------------------------------------------+----------------+-----------------+\n",
            "|13194  |Green Arrow, Vol. 1: Quiver                            |2008.0          |Comics           |\n",
            "|1067   |1776                                                   |null            |History/Biography|\n",
            "|305825 |Born of a Woman                                        |1994.0          |History/Biography|\n",
            "|1376   |The Iliad                                              |2003.0          |Poetry           |\n",
            "|24603  |The Writer of Modern Life: Essays on Charles Baudelaire|2006.0          |Poetry           |\n",
            "+-------+-------------------------------------------------------+----------------+-----------------+\n",
            "\n"
          ]
        },
        {
          "output_type": "execute_result",
          "data": {
            "text/html": [
              "<div>\n",
              "<style scoped>\n",
              "    .dataframe tbody tr th:only-of-type {\n",
              "        vertical-align: middle;\n",
              "    }\n",
              "\n",
              "    .dataframe tbody tr th {\n",
              "        vertical-align: top;\n",
              "    }\n",
              "\n",
              "    .dataframe thead th {\n",
              "        text-align: right;\n",
              "    }\n",
              "</style>\n",
              "<table border=\"1\" class=\"dataframe\">\n",
              "  <thead>\n",
              "    <tr style=\"text-align: right;\">\n",
              "      <th></th>\n",
              "      <th>book_id</th>\n",
              "      <th>title</th>\n",
              "      <th>genre</th>\n",
              "      <th>cont_score</th>\n",
              "      <th>collab_score</th>\n",
              "      <th>comb_score</th>\n",
              "    </tr>\n",
              "  </thead>\n",
              "  <tbody>\n",
              "    <tr>\n",
              "      <th>0</th>\n",
              "      <td>59984</td>\n",
              "      <td>Daredevil: Love and War</td>\n",
              "      <td>Comics</td>\n",
              "      <td>0.961979</td>\n",
              "      <td>0.801475</td>\n",
              "      <td>1.763454</td>\n",
              "    </tr>\n",
              "    <tr>\n",
              "      <th>1</th>\n",
              "      <td>333731</td>\n",
              "      <td>Supreme Power, Volume 1: Contact</td>\n",
              "      <td>Comics</td>\n",
              "      <td>0.981548</td>\n",
              "      <td>0.722443</td>\n",
              "      <td>1.703992</td>\n",
              "    </tr>\n",
              "    <tr>\n",
              "      <th>2</th>\n",
              "      <td>22373</td>\n",
              "      <td>Kill Your Boyfriend</td>\n",
              "      <td>Comics</td>\n",
              "      <td>0.982968</td>\n",
              "      <td>0.640662</td>\n",
              "      <td>1.623630</td>\n",
              "    </tr>\n",
              "    <tr>\n",
              "      <th>3</th>\n",
              "      <td>43612</td>\n",
              "      <td>Runaways, Vol. 2:  Teenage Wasteland (Runaways...</td>\n",
              "      <td>Comics</td>\n",
              "      <td>0.959915</td>\n",
              "      <td>0.637246</td>\n",
              "      <td>1.597161</td>\n",
              "    </tr>\n",
              "    <tr>\n",
              "      <th>4</th>\n",
              "      <td>160706</td>\n",
              "      <td>Secret Six: Six Degrees of Devastation</td>\n",
              "      <td>Comics</td>\n",
              "      <td>0.989040</td>\n",
              "      <td>0.593619</td>\n",
              "      <td>1.582659</td>\n",
              "    </tr>\n",
              "    <tr>\n",
              "      <th>5</th>\n",
              "      <td>43555</td>\n",
              "      <td>The Best American Comics 2006</td>\n",
              "      <td>Comics</td>\n",
              "      <td>0.967800</td>\n",
              "      <td>0.610608</td>\n",
              "      <td>1.578409</td>\n",
              "    </tr>\n",
              "    <tr>\n",
              "      <th>6</th>\n",
              "      <td>232005</td>\n",
              "      <td>Starman, Vol. 4: Times Past</td>\n",
              "      <td>Comics</td>\n",
              "      <td>0.982057</td>\n",
              "      <td>0.590588</td>\n",
              "      <td>1.572644</td>\n",
              "    </tr>\n",
              "    <tr>\n",
              "      <th>7</th>\n",
              "      <td>6655</td>\n",
              "      <td>The Divine Comedy</td>\n",
              "      <td>Poetry</td>\n",
              "      <td>0.958185</td>\n",
              "      <td>0.612632</td>\n",
              "      <td>1.570817</td>\n",
              "    </tr>\n",
              "    <tr>\n",
              "      <th>8</th>\n",
              "      <td>542826</td>\n",
              "      <td>Identity Crisis</td>\n",
              "      <td>Comics</td>\n",
              "      <td>0.982127</td>\n",
              "      <td>0.574605</td>\n",
              "      <td>1.556731</td>\n",
              "    </tr>\n",
              "    <tr>\n",
              "      <th>9</th>\n",
              "      <td>145136</td>\n",
              "      <td>Fury MAX</td>\n",
              "      <td>Comics</td>\n",
              "      <td>0.975236</td>\n",
              "      <td>0.575458</td>\n",
              "      <td>1.550694</td>\n",
              "    </tr>\n",
              "  </tbody>\n",
              "</table>\n",
              "</div>"
            ],
            "text/plain": [
              "   book_id  ... comb_score\n",
              "0    59984  ...   1.763454\n",
              "1   333731  ...   1.703992\n",
              "2    22373  ...   1.623630\n",
              "3    43612  ...   1.597161\n",
              "4   160706  ...   1.582659\n",
              "5    43555  ...   1.578409\n",
              "6   232005  ...   1.572644\n",
              "7     6655  ...   1.570817\n",
              "8   542826  ...   1.556731\n",
              "9   145136  ...   1.550694\n",
              "\n",
              "[10 rows x 6 columns]"
            ]
          },
          "metadata": {},
          "execution_count": 47
        }
      ],
      "source": [
        "hybrid_mod(23227).toPandas()"
      ],
      "id": "pBcB7ToZxLJq"
    },
    {
      "cell_type": "markdown",
      "metadata": {
        "id": "RDkar_D1WnEt"
      },
      "source": [
        "These recommendations have captured the user's interest in comics and poetry."
      ],
      "id": "RDkar_D1WnEt"
    },
    {
      "cell_type": "markdown",
      "metadata": {
        "id": "_tJyeyrqXB2h"
      },
      "source": [
        "## Evaluation"
      ],
      "id": "_tJyeyrqXB2h"
    },
    {
      "cell_type": "code",
      "execution_count": null,
      "metadata": {
        "id": "zQjpeHsHXE5U"
      },
      "outputs": [],
      "source": [
        "fractions = interactions_df.select(\"user_id\").distinct().withColumn(\"fraction\", lit(0.75)).rdd.collectAsMap()\n",
        "train = interactions_df.sampleBy(\"user_id\", fractions, seed=10)\n",
        "\n",
        "# Subtracting 'train' from original df to get test set \n",
        "test = interactions_df.subtract(train)"
      ],
      "id": "zQjpeHsHXE5U"
    },
    {
      "cell_type": "code",
      "execution_count": null,
      "metadata": {
        "id": "_QXyqKylXKIv"
      },
      "outputs": [],
      "source": [
        "# Get unique values in the grouping column\n",
        "groups = [x[0] for x in test.select(\"user_id\").distinct().collect()]\n",
        "\n",
        "# Create a filtered DataFrame for each group in a list comprehension\n",
        "groups_list = [test.filter(col('user_id')==x) for x in groups]"
      ],
      "id": "_QXyqKylXKIv"
    },
    {
      "cell_type": "code",
      "execution_count": null,
      "metadata": {
        "id": "LNIqbLz_XNtN"
      },
      "outputs": [],
      "source": [
        "precision = []\n",
        "# for time purposes, we will only the precision compute 25 samples\n",
        "for group in groups[0:25]:\n",
        "  user = group\n",
        "  recs = getContentRecoms(user,display=False).select('book_id').collect()\n",
        "  acc = test.filter(col('user_id')==user).select('book_id').collect()\n",
        "  prec = len(set(acc).intersection(set(recs)))/len(acc)\n",
        "  precision.append(prec)"
      ],
      "id": "LNIqbLz_XNtN"
    }
  ],
  "metadata": {
    "colab": {
      "collapsed_sections": [],
      "name": "hybrid_model.ipynb",
      "provenance": []
    },
    "kernelspec": {
      "display_name": "Python 3 (ipykernel)",
      "language": "python",
      "name": "python3"
    },
    "language_info": {
      "codemirror_mode": {
        "name": "ipython",
        "version": 3
      },
      "file_extension": ".py",
      "mimetype": "text/x-python",
      "name": "python",
      "nbconvert_exporter": "python",
      "pygments_lexer": "ipython3",
      "version": "3.7.11"
    }
  },
  "nbformat": 4,
  "nbformat_minor": 5
}